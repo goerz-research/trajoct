{
 "cells": [
  {
   "cell_type": "code",
   "execution_count": 1,
   "metadata": {
    "attributes": {
     "classes": [],
     "id": "",
     "n": "1"
    },
    "collapsed": true
   },
   "outputs": [],
   "source": [
    "from collections import OrderedDict\n",
    "from copy import copy\n",
    "import crossed_cavity_network\n",
    "import qdyn_model\n",
    "from notebook_plots import display_hamiltonian\n",
    "from sympy import Symbol\n",
    "import QDYN\n",
    "from QDYN.pulse import blackman\n",
    "from QDYN.shutil import mkdir"
   ]
  },
  {
   "cell_type": "code",
   "execution_count": 2,
   "metadata": {
    "attributes": {
     "classes": [],
     "id": "",
     "n": "2"
    },
    "collapsed": true
   },
   "outputs": [],
   "source": [
    "%load_ext autoreload\n",
    "%autoreload 2"
   ]
  },
  {
   "cell_type": "markdown",
   "metadata": {},
   "source": [
    "## Circuit"
   ]
  },
  {
   "cell_type": "code",
   "execution_count": 3,
   "metadata": {
    "attributes": {
     "classes": [],
     "id": "",
     "n": "3"
    },
    "collapsed": true
   },
   "outputs": [],
   "source": [
    "circuit = crossed_cavity_network.network_circuit(n_nodes=2, topology='FB')"
   ]
  },
  {
   "cell_type": "code",
   "execution_count": 4,
   "metadata": {
    "attributes": {
     "classes": [],
     "id": "",
     "n": "4"
    },
    "collapsed": false
   },
   "outputs": [
    {
     "data": {
      "image/png": "[encoded data removed]",
      "text/plain": [
       "<IPython.core.display.Image object>"
      ]
     },
     "metadata": {},
     "output_type": "display_data"
    }
   ],
   "source": [
    "circuit.show()"
   ]
  },
  {
   "cell_type": "code",
   "execution_count": 5,
   "metadata": {
    "attributes": {
     "classes": [],
     "id": "",
     "n": "5"
    },
    "collapsed": false
   },
   "outputs": [],
   "source": [
    "slh = crossed_cavity_network.network_slh(n_cavity=2, n_nodes=2, topology='FB')"
   ]
  },
  {
   "cell_type": "code",
   "execution_count": 6,
   "metadata": {
    "attributes": {
     "classes": [],
     "id": "",
     "n": "6"
    },
    "collapsed": false
   },
   "outputs": [
    {
     "data": {
      "text/latex": [
       "$\\begin{pmatrix}1\\end{pmatrix}$"
      ],
      "text/plain": [
       "[[1]]"
      ]
     },
     "execution_count": 6,
     "metadata": {},
     "output_type": "execute_result"
    }
   ],
   "source": [
    "slh.S"
   ]
  },
  {
   "cell_type": "code",
   "execution_count": 7,
   "metadata": {
    "attributes": {
     "classes": [],
     "id": "",
     "n": "7"
    },
    "collapsed": false
   },
   "outputs": [
    {
     "data": {
      "text/latex": [
       "$\\begin{pmatrix}\\sqrt{2} \\sqrt{\\kappa} \\hat{a}^{(h_{1})} + \\sqrt{2} \\sqrt{\\kappa} \\hat{b}^{(v_{1})} + \\sqrt{2} \\sqrt{\\kappa} \\hat{a}^{(h_{2})} + \\sqrt{2} \\sqrt{\\kappa} \\hat{b}^{(v_{2})}\\end{pmatrix}$"
      ],
      "text/plain": [
       "[[√2⋅√κ * â^(h₁) + √2⋅√κ * b̂^(v₁) + √2⋅√κ * â^(h₂) + √2⋅√κ * b̂^(v₂)]]"
      ]
     },
     "execution_count": 7,
     "metadata": {},
     "output_type": "execute_result"
    }
   ],
   "source": [
    "slh.L"
   ]
  },
  {
   "cell_type": "code",
   "execution_count": 8,
   "metadata": {
    "attributes": {
     "classes": [],
     "id": "",
     "n": "8"
    },
    "collapsed": false
   },
   "outputs": [
    {
     "data": {
      "text/latex": [
       "\\begin{align}\n",
       "  \\hat{H} &= \\hat{H}_0 + \\hat{H}_{\\text{int}} + \\hat{H}_{d_1} + \\hat{H}_{d_2}\\\\\n",
       "  \\hat{H}_0 &= - \\frac{g_{1}^{2}}{\\Delta_{1}} \\hat{a}^{(h_{1})\\dagger} \\hat{a}^{(h_{1})} - \\frac{g_{1}^{2}}{\\Delta_{1}} \\hat{a}^{(v_{1})\\dagger} \\hat{b}^{(v_{1})} - \\frac{g_{2}^{2}}{\\Delta_{2}} \\hat{a}^{(h_{2})\\dagger} \\hat{a}^{(h_{2})} - \\frac{g_{2}^{2}}{\\Delta_{2}} \\hat{a}^{(v_{2})\\dagger} \\hat{b}^{(v_{2})}\\\\\n",
       "  \\hat{H}_{\\text{int}} &= \\frac{g_{1}^{2}}{\\Delta_{1}} \\hat{\\Pi}_{g}^{(q_{1})} \\otimes \\hat{a}^{(h_{1})\\dagger} \\hat{a}^{(h_{1})} + \\frac{g_{1}^{2}}{\\Delta_{1}} \\hat{\\Pi}_{g}^{(q_{1})} \\otimes \\hat{a}^{(v_{1})\\dagger} \\hat{b}^{(v_{1})} + i \\kappa \\hat{a}^{(h_{1})\\dagger} \\otimes \\hat{a}^{(v_{1})} + \\text{c.c.} + i \\kappa \\hat{a}^{(h_{1})\\dagger} \\otimes \\hat{a}^{(h_{2})} + \\text{c.c.} + i \\kappa \\hat{a}^{(h_{1})\\dagger} \\otimes \\hat{a}^{(v_{2})} + \\text{c.c.} - i \\kappa \\hat{a}^{(v_{1})\\dagger} \\otimes \\hat{a}^{(h_{2})} + \\text{c.c.} - i \\kappa \\hat{a}^{(v_{1})\\dagger} \\otimes \\hat{b}^{(v_{2})} + i \\kappa \\hat{a}^{(v_{1})} \\otimes \\hat{a}^{(v_{2})\\dagger} + \\frac{g_{2}^{2}}{\\Delta_{2}} \\hat{\\Pi}_{g}^{(q_{2})} \\otimes \\hat{a}^{(h_{2})\\dagger} \\hat{a}^{(h_{2})} + \\frac{g_{2}^{2}}{\\Delta_{2}} \\hat{\\Pi}_{g}^{(q_{2})} \\otimes \\hat{a}^{(v_{2})\\dagger} \\hat{b}^{(v_{2})} + i \\kappa \\hat{a}^{(h_{2})\\dagger} \\otimes \\hat{a}^{(v_{2})} + \\text{c.c.}\\\\\n",
       "  \\hat{H}_{d_1} &= - \\frac{i \\Omega_{1} g_{1}}{2 \\Delta_{1}} \\left(\\hat{\\sigma}_{e,g}^{(q_{1})} \\otimes \\hat{a}^{(h_{1})} - \\text{c.c.}\\right) - \\frac{i \\Omega_{1} g_{1}}{2 \\Delta_{1}} \\hat{\\sigma}_{e,g}^{(q_{1})} \\otimes \\hat{b}^{(v_{1})} + \\frac{i \\Omega_{1} g_{1}}{2 \\Delta_{1}} \\hat{\\sigma}_{g,e}^{(q_{1})} \\otimes \\hat{a}^{(v_{1})\\dagger}\\\\\n",
       "  \\hat{H}_{d_2} &= - \\frac{i \\Omega_{2} g_{2}}{2 \\Delta_{2}} \\left(\\hat{\\sigma}_{e,g}^{(q_{2})} \\otimes \\hat{a}^{(h_{2})} - \\text{c.c.}\\right) - \\frac{i \\Omega_{2} g_{2}}{2 \\Delta_{2}} \\hat{\\sigma}_{e,g}^{(q_{2})} \\otimes \\hat{b}^{(v_{2})} + \\frac{i \\Omega_{2} g_{2}}{2 \\Delta_{2}} \\hat{\\sigma}_{g,e}^{(q_{2})} \\otimes \\hat{a}^{(v_{2})\\dagger}\\\\\n",
       "\\end{align}"
      ],
      "text/plain": [
       "<IPython.core.display.Latex object>"
      ]
     },
     "metadata": {},
     "output_type": "display_data"
    }
   ],
   "source": [
    "display_hamiltonian(slh.H)"
   ]
  },
  {
   "cell_type": "markdown",
   "metadata": {},
   "source": [
    "## Numerical Values"
   ]
  },
  {
   "cell_type": "code",
   "execution_count": 9,
   "metadata": {
    "attributes": {
     "classes": [],
     "id": "",
     "n": "9"
    },
    "collapsed": true
   },
   "outputs": [],
   "source": [
    "controls = sorted([sym for sym in slh.H.all_symbols() if sym.name.startswith('Omega')], key=str)"
   ]
  },
  {
   "cell_type": "code",
   "execution_count": 10,
   "metadata": {
    "attributes": {
     "classes": [],
     "id": "",
     "n": "10"
    },
    "collapsed": false
   },
   "outputs": [
    {
     "name": "stdout",
     "output_type": "stream",
     "text": [
      "num_vals = {\n",
      "    Symbol('g_2', positive=True): 0.0,\n",
      "    Symbol('Delta_2', real=True): 0.0,\n",
      "    Symbol('g_1', positive=True): 0.0,\n",
      "    Symbol('kappa', positive=True): 0.0,\n",
      "    Symbol('Delta_1', real=True): 0.0,\n",
      "    Symbol('Omega_2'): 0.0,\n",
      "    Symbol('Omega_1'): 0.0,\n",
      "}\n"
     ]
    }
   ],
   "source": [
    "from algebra import generate_num_vals_code\n",
    "generate_num_vals_code(slh.all_symbols())"
   ]
  },
  {
   "cell_type": "code",
   "execution_count": 11,
   "metadata": {
    "attributes": {
     "classes": [],
     "id": "",
     "n": "11"
    },
    "collapsed": true
   },
   "outputs": [],
   "source": [
    "Delta =  5000.0  # MHz\n",
    "g     =    50.0  # MHz\n",
    "kappa =     0.5  # MHz\n",
    "E0    =    70.0  # MHz\n",
    "t0    = -4    # microsec\n",
    "T     =  4    # microsec\n",
    "nt    = 2001\n",
    "num_vals = {\n",
    "    Symbol('Delta_1', real=True):   Delta,\n",
    "    Symbol('Delta_2', real=True):   Delta,\n",
    "    Symbol('g_2', positive=True):   g,\n",
    "    Symbol('g_1', positive=True):   g,\n",
    "    Symbol('kappa', positive=True): kappa,\n",
    "}"
   ]
  },
  {
   "cell_type": "markdown",
   "metadata": {},
   "source": [
    "## Time Grid and Guess Pulse"
   ]
  },
  {
   "cell_type": "code",
   "execution_count": 12,
   "metadata": {
    "attributes": {
     "classes": [],
     "id": "",
     "n": "12"
    },
    "collapsed": true
   },
   "outputs": [],
   "source": [
    "tgrid = QDYN.pulse.pulse_tgrid(t0=t0, T=T, nt=nt) # microsec"
   ]
  },
  {
   "cell_type": "code",
   "execution_count": 13,
   "metadata": {
    "attributes": {
     "classes": [],
     "id": "",
     "n": "13"
    },
    "collapsed": true
   },
   "outputs": [],
   "source": [
    "p = QDYN.pulse.Pulse(\n",
    "    tgrid, amplitude=(E0 * blackman(tgrid, t0, T)),\n",
    "    time_unit='microsec', ampl_unit='MHz')"
   ]
  },
  {
   "cell_type": "code",
   "execution_count": 14,
   "metadata": {
    "attributes": {
     "classes": [],
     "id": "",
     "n": "14"
    },
    "collapsed": true
   },
   "outputs": [],
   "source": [
    "controls = OrderedDict([\n",
    "    (Symbol('Omega_1'), p.copy()),\n",
    "    (Symbol('Omega_2'), p.copy()),\n",
    "])"
   ]
  },
  {
   "cell_type": "markdown",
   "metadata": {},
   "source": [
    "## OCT for forward transfer (rho)"
   ]
  },
  {
   "cell_type": "code",
   "execution_count": 15,
   "metadata": {
    "attributes": {
     "classes": [],
     "id": "",
     "n": "15"
    },
    "collapsed": true
   },
   "outputs": [],
   "source": [
    "model = qdyn_model.make_qdyn_oct_model(\n",
    "    slh, num_vals, controls, energy_unit='MHz',\n",
    "    mcwf=False, non_herm=False, oct_target='excitation_transfer_fw',\n",
    "    lambda_a=1e-4)"
   ]
  },
  {
   "cell_type": "code",
   "execution_count": 16,
   "metadata": {
    "attributes": {
     "classes": [],
     "id": "",
     "n": "17"
    },
    "collapsed": true
   },
   "outputs": [],
   "source": [
    "model.write_to_runfolder(\"./CROSSED/fw_oct_rho001/\")"
   ]
  },
  {
   "cell_type": "markdown",
   "metadata": {},
   "source": [
    "##  OCT for $\\sqrt{SWAP}$ (rho)"
   ]
  },
  {
   "cell_type": "code",
   "execution_count": 17,
   "metadata": {
    "attributes": {
     "classes": [],
     "id": "",
     "n": "20"
    },
    "collapsed": true
   },
   "outputs": [],
   "source": [
    "model = qdyn_model.make_qdyn_oct_model(\n",
    "    slh, num_vals, controls, energy_unit='MHz',\n",
    "    mcwf=False, non_herm=False, oct_target='sqrt_SWAP',\n",
    "    lambda_a=1e-4)"
   ]
  },
  {
   "cell_type": "code",
   "execution_count": 18,
   "metadata": {
    "attributes": {
     "classes": [],
     "id": "",
     "n": "22"
    },
    "collapsed": false
   },
   "outputs": [],
   "source": [
    "model.write_to_runfolder(\"./CROSSED/sqrtSWAP_oct_rho001/\")\n",
    "QDYN.gate2q.sqrt_SWAP.write(\"./CROSSED/sqrtSWAP_oct_rho001/target_gate.dat\")"
   ]
  },
  {
   "cell_type": "markdown",
   "metadata": {},
   "source": [
    "## Example optimization commands\n",
    "\n",
    "*   density matrix optimization\n",
    "        OMP_NUM_THREADS=1 qdyn_optimize --internal-units=GHz_units.txt --rho\n",
    "--debug --J_T=J_T_re ."
   ]
  },
  {
   "cell_type": "markdown",
   "metadata": {},
   "source": [
    "*   trajectory optimization (model with `mcwf=True`)\n",
    "\n",
    "        OMP_NUM_THREADS=1 qdyn_optimize --internal-units=GHz_units.txt\n",
    "--n-trajs=20 --J_T=J_T_sm ."
   ]
  }
 ],
 "metadata": {
  "anaconda-cloud": {},
  "kernelspec": {
   "display_name": "Python [default]",
   "language": "python",
   "name": "python3"
  },
  "language_info": {
   "codemirror_mode": {
    "name": "ipython",
    "version": 3
   },
   "file_extension": ".py",
   "mimetype": "text/x-python",
   "name": "python",
   "nbconvert_exporter": "python",
   "pygments_lexer": "ipython3",
   "version": "3.5.3"
  },
  "toc": {
   "nav_menu": {
    "height": "120px",
    "width": "252px"
   },
   "navigate_menu": true,
   "number_sections": true,
   "sideBar": true,
   "threshold": 4,
   "toc_cell": false,
   "toc_section_display": "block",
   "toc_window_display": false
  }
 },
 "nbformat": 4,
 "nbformat_minor": 2
}

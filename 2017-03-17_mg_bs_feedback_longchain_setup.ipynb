{
 "cells": [
  {
   "cell_type": "code",
   "execution_count": 1,
   "metadata": {
    "collapsed": false
   },
   "outputs": [],
   "source": [
    "from collections import OrderedDict\n",
    "from copy import copy\n",
    "import single_sided_network\n",
    "import qdyn_model\n",
    "from notebook_plots import display_hamiltonian\n",
    "from sympy import Symbol\n",
    "import QDYN\n",
    "from QDYN.pulse import blackman\n",
    "from QDYN.shutil import mkdir\n",
    "import matplotlib.pylab as plt\n",
    "import numpy as np\n",
    "import sympy\n",
    "from sympy import pi"
   ]
  },
  {
   "cell_type": "code",
   "execution_count": 2,
   "metadata": {
    "collapsed": true
   },
   "outputs": [],
   "source": [
    "%load_ext autoreload\n",
    "%autoreload 2"
   ]
  },
  {
   "cell_type": "markdown",
   "metadata": {},
   "source": [
    "## Circuit"
   ]
  },
  {
   "cell_type": "markdown",
   "metadata": {},
   "source": [
    "### 3 Nodes"
   ]
  },
  {
   "cell_type": "code",
   "execution_count": 3,
   "metadata": {
    "collapsed": false
   },
   "outputs": [],
   "source": [
    "circuit3 = single_sided_network.network_circuit(n_nodes=3, topology='bs_fb')"
   ]
  },
  {
   "cell_type": "code",
   "execution_count": 4,
   "metadata": {
    "collapsed": false
   },
   "outputs": [
    {
     "data": {
      "image/png": "[encoded data removed]",
      "text/plain": [
       "<IPython.core.display.Image object>"
      ]
     },
     "metadata": {},
     "output_type": "display_data"
    }
   ],
   "source": [
    "circuit3.show()"
   ]
  },
  {
   "cell_type": "code",
   "execution_count": 30,
   "metadata": {
    "collapsed": false
   },
   "outputs": [],
   "source": [
    "slh3 = single_sided_network.network_slh(n_cavity=2, n_nodes=3, topology='bs_fb')"
   ]
  },
  {
   "cell_type": "code",
   "execution_count": 6,
   "metadata": {
    "collapsed": false
   },
   "outputs": [
    {
     "data": {
      "text/latex": [
       "$\\begin{pmatrix}1\\end{pmatrix}$"
      ],
      "text/plain": [
       "[[1]]"
      ]
     },
     "execution_count": 6,
     "metadata": {},
     "output_type": "execute_result"
    }
   ],
   "source": [
    "slh3.S"
   ]
  },
  {
   "cell_type": "code",
   "execution_count": 7,
   "metadata": {
    "collapsed": false
   },
   "outputs": [
    {
     "data": {
      "text/latex": [
       "$\\begin{pmatrix}- \\frac{\\sqrt{2} \\sqrt{\\kappa} \\cos{\\left (\\theta \\right )}}{\\sin{\\left (\\theta \\right )} - 1} \\hat{a}^{(c_{1})} - \\frac{\\sqrt{2} \\sqrt{\\kappa} \\cos{\\left (\\theta \\right )}}{\\sin{\\left (\\theta \\right )} - 1} \\hat{a}^{(c_{2})} - \\frac{\\sqrt{2} \\sqrt{\\kappa} \\cos{\\left (\\theta \\right )}}{\\sin{\\left (\\theta \\right )} - 1} \\hat{a}^{(c_{3})}\\end{pmatrix}$"
      ],
      "text/plain": [
       "[[-sqrt(2)*sqrt(κ)*cos(θ)/(sin(θ) - 1) * â^(c₁) - sqrt(2)*sqrt(κ)*cos(θ)/(sin(θ) - 1) * â^(c₂) - sqrt(2)*sqrt(κ)*cos(θ)/(sin(θ) - 1) * â^(c₃)]]"
      ]
     },
     "execution_count": 7,
     "metadata": {},
     "output_type": "execute_result"
    }
   ],
   "source": [
    "slh3.L"
   ]
  },
  {
   "cell_type": "code",
   "execution_count": 8,
   "metadata": {
    "collapsed": false
   },
   "outputs": [
    {
     "data": {
      "text/latex": [
       "\\begin{align}\n",
       "  \\hat{H} &= \\hat{H}_0 + \\hat{H}_{\\text{int}} + \\hat{H}_{d_1} + \\hat{H}_{d_2} + \\hat{H}_{d_3}\\\\\n",
       "  \\hat{H}_0 &= - \\frac{g_{1}^{2}}{\\Delta_{1}} \\hat{a}^{(c_{1})\\dagger} \\hat{a}^{(c_{1})} - \\frac{g_{2}^{2}}{\\Delta_{2}} \\hat{a}^{(c_{2})\\dagger} \\hat{a}^{(c_{2})} - \\frac{g_{3}^{2}}{\\Delta_{3}} \\hat{a}^{(c_{3})\\dagger} \\hat{a}^{(c_{3})}\\\\\n",
       "  \\hat{H}_{\\text{int}} &= \\frac{g_{1}^{2}}{\\Delta_{1}} \\hat{\\Pi}_{g}^{(q_{1})} \\otimes \\hat{a}^{(c_{1})\\dagger} \\hat{a}^{(c_{1})} + i \\kappa \\hat{a}^{(c_{1})\\dagger} \\otimes \\hat{a}^{(c_{2})} + \\text{c.c.} + i \\kappa \\hat{a}^{(c_{1})\\dagger} \\otimes \\hat{a}^{(c_{3})} + \\text{c.c.} + \\frac{g_{2}^{2}}{\\Delta_{2}} \\hat{\\Pi}_{g}^{(q_{2})} \\otimes \\hat{a}^{(c_{2})\\dagger} \\hat{a}^{(c_{2})} + i \\kappa \\hat{a}^{(c_{2})\\dagger} \\otimes \\hat{a}^{(c_{3})} + \\text{c.c.} + \\frac{g_{3}^{2}}{\\Delta_{3}} \\hat{\\Pi}_{g}^{(q_{3})} \\otimes \\hat{a}^{(c_{3})\\dagger} \\hat{a}^{(c_{3})}\\\\\n",
       "  \\hat{H}_{d_1} &= - \\frac{i \\Omega_{1} g_{1}}{2 \\Delta_{1}} \\left(\\hat{\\sigma}_{e,g}^{(q_{1})} \\otimes \\hat{a}^{(c_{1})} - \\text{c.c.}\\right)\\\\\n",
       "  \\hat{H}_{d_2} &= - \\frac{i \\Omega_{2} g_{2}}{2 \\Delta_{2}} \\left(\\hat{\\sigma}_{e,g}^{(q_{2})} \\otimes \\hat{a}^{(c_{2})} - \\text{c.c.}\\right)\\\\\n",
       "  \\hat{H}_{d_3} &= - \\frac{i \\Omega_{3} g_{3}}{2 \\Delta_{3}} \\left(\\hat{\\sigma}_{e,g}^{(q_{3})} \\otimes \\hat{a}^{(c_{3})} - \\text{c.c.}\\right)\\\\\n",
       "\\end{align}"
      ],
      "text/plain": [
       "<IPython.core.display.Latex object>"
      ]
     },
     "metadata": {},
     "output_type": "display_data"
    }
   ],
   "source": [
    "display_hamiltonian(slh3.H)"
   ]
  },
  {
   "cell_type": "markdown",
   "metadata": {},
   "source": [
    "### 4 Nodes"
   ]
  },
  {
   "cell_type": "code",
   "execution_count": 38,
   "metadata": {
    "collapsed": false
   },
   "outputs": [],
   "source": [
    "slh4 = single_sided_network.network_slh(n_cavity=2, n_nodes=4, topology='bs_fb')"
   ]
  },
  {
   "cell_type": "code",
   "execution_count": 39,
   "metadata": {
    "collapsed": false
   },
   "outputs": [
    {
     "data": {
      "text/latex": [
       "\\begin{align}\n",
       "  \\hat{H} &= \\hat{H}_0 + \\hat{H}_{\\text{int}} + \\hat{H}_{d_1} + \\hat{H}_{d_2} + \\hat{H}_{d_3} + \\hat{H}_{d_4}\\\\\n",
       "  \\hat{H}_0 &= - \\frac{g_{1}^{2}}{\\Delta_{1}} \\hat{a}^{(c_{1})\\dagger} \\hat{a}^{(c_{1})} - \\frac{g_{2}^{2}}{\\Delta_{2}} \\hat{a}^{(c_{2})\\dagger} \\hat{a}^{(c_{2})} - \\frac{g_{3}^{2}}{\\Delta_{3}} \\hat{a}^{(c_{3})\\dagger} \\hat{a}^{(c_{3})} - \\frac{g_{4}^{2}}{\\Delta_{4}} \\hat{a}^{(c_{4})\\dagger} \\hat{a}^{(c_{4})}\\\\\n",
       "  \\hat{H}_{\\text{int}} &= \\frac{g_{1}^{2}}{\\Delta_{1}} \\hat{\\Pi}_{g}^{(q_{1})} \\otimes \\hat{a}^{(c_{1})\\dagger} \\hat{a}^{(c_{1})} + i \\kappa \\hat{a}^{(c_{1})\\dagger} \\otimes \\hat{a}^{(c_{2})} + \\text{c.c.} + i \\kappa \\hat{a}^{(c_{1})\\dagger} \\otimes \\hat{a}^{(c_{3})} + \\text{c.c.} + i \\kappa \\hat{a}^{(c_{1})\\dagger} \\otimes \\hat{a}^{(c_{4})} + \\text{c.c.} + \\frac{g_{2}^{2}}{\\Delta_{2}} \\hat{\\Pi}_{g}^{(q_{2})} \\otimes \\hat{a}^{(c_{2})\\dagger} \\hat{a}^{(c_{2})} + i \\kappa \\hat{a}^{(c_{2})\\dagger} \\otimes \\hat{a}^{(c_{3})} + \\text{c.c.} + i \\kappa \\hat{a}^{(c_{2})\\dagger} \\otimes \\hat{a}^{(c_{4})} + \\text{c.c.} + \\frac{g_{3}^{2}}{\\Delta_{3}} \\hat{\\Pi}_{g}^{(q_{3})} \\otimes \\hat{a}^{(c_{3})\\dagger} \\hat{a}^{(c_{3})} + i \\kappa \\hat{a}^{(c_{3})\\dagger} \\otimes \\hat{a}^{(c_{4})} + \\text{c.c.} + \\frac{g_{4}^{2}}{\\Delta_{4}} \\hat{\\Pi}_{g}^{(q_{4})} \\otimes \\hat{a}^{(c_{4})\\dagger} \\hat{a}^{(c_{4})}\\\\\n",
       "  \\hat{H}_{d_1} &= - \\frac{i \\Omega_{1} g_{1}}{2 \\Delta_{1}} \\left(\\hat{\\sigma}_{e,g}^{(q_{1})} \\otimes \\hat{a}^{(c_{1})} - \\text{c.c.}\\right)\\\\\n",
       "  \\hat{H}_{d_2} &= - \\frac{i \\Omega_{2} g_{2}}{2 \\Delta_{2}} \\left(\\hat{\\sigma}_{e,g}^{(q_{2})} \\otimes \\hat{a}^{(c_{2})} - \\text{c.c.}\\right)\\\\\n",
       "  \\hat{H}_{d_3} &= - \\frac{i \\Omega_{3} g_{3}}{2 \\Delta_{3}} \\left(\\hat{\\sigma}_{e,g}^{(q_{3})} \\otimes \\hat{a}^{(c_{3})} - \\text{c.c.}\\right)\\\\\n",
       "  \\hat{H}_{d_4} &= - \\frac{i \\Omega_{4} g_{4}}{2 \\Delta_{4}} \\left(\\hat{\\sigma}_{e,g}^{(q_{4})} \\otimes \\hat{a}^{(c_{4})} - \\text{c.c.}\\right)\\\\\n",
       "\\end{align}"
      ],
      "text/plain": [
       "<IPython.core.display.Latex object>"
      ]
     },
     "metadata": {},
     "output_type": "display_data"
    }
   ],
   "source": [
    "display_hamiltonian(slh4.H)"
   ]
  },
  {
   "cell_type": "markdown",
   "metadata": {},
   "source": [
    "### 5 Nodes"
   ]
  },
  {
   "cell_type": "code",
   "execution_count": 45,
   "metadata": {
    "collapsed": false
   },
   "outputs": [],
   "source": [
    "slh5 = single_sided_network.network_slh(n_cavity=2, n_nodes=5, topology='bs_fb')"
   ]
  },
  {
   "cell_type": "code",
   "execution_count": 46,
   "metadata": {
    "collapsed": false
   },
   "outputs": [
    {
     "data": {
      "text/latex": [
       "\\begin{align}\n",
       "  \\hat{H} &= \\hat{H}_0 + \\hat{H}_{\\text{int}} + \\hat{H}_{d_1} + \\hat{H}_{d_2} + \\hat{H}_{d_3} + \\hat{H}_{d_4} + \\hat{H}_{d_5}\\\\\n",
       "  \\hat{H}_0 &= - \\frac{g_{1}^{2}}{\\Delta_{1}} \\hat{a}^{(c_{1})\\dagger} \\hat{a}^{(c_{1})} - \\frac{g_{2}^{2}}{\\Delta_{2}} \\hat{a}^{(c_{2})\\dagger} \\hat{a}^{(c_{2})} - \\frac{g_{3}^{2}}{\\Delta_{3}} \\hat{a}^{(c_{3})\\dagger} \\hat{a}^{(c_{3})} - \\frac{g_{4}^{2}}{\\Delta_{4}} \\hat{a}^{(c_{4})\\dagger} \\hat{a}^{(c_{4})} - \\frac{g_{5}^{2}}{\\Delta_{5}} \\hat{a}^{(c_{5})\\dagger} \\hat{a}^{(c_{5})}\\\\\n",
       "  \\hat{H}_{\\text{int}} &= \\frac{g_{1}^{2}}{\\Delta_{1}} \\hat{\\Pi}_{g}^{(q_{1})} \\otimes \\hat{a}^{(c_{1})\\dagger} \\hat{a}^{(c_{1})} + i \\kappa \\hat{a}^{(c_{1})\\dagger} \\otimes \\hat{a}^{(c_{2})} + \\text{c.c.} + i \\kappa \\hat{a}^{(c_{1})\\dagger} \\otimes \\hat{a}^{(c_{3})} + \\text{c.c.} + i \\kappa \\hat{a}^{(c_{1})\\dagger} \\otimes \\hat{a}^{(c_{4})} + \\text{c.c.} + i \\kappa \\hat{a}^{(c_{1})\\dagger} \\otimes \\hat{a}^{(c_{5})} + \\text{c.c.} + \\frac{g_{2}^{2}}{\\Delta_{2}} \\hat{\\Pi}_{g}^{(q_{2})} \\otimes \\hat{a}^{(c_{2})\\dagger} \\hat{a}^{(c_{2})} + i \\kappa \\hat{a}^{(c_{2})\\dagger} \\otimes \\hat{a}^{(c_{3})} + \\text{c.c.} + i \\kappa \\hat{a}^{(c_{2})\\dagger} \\otimes \\hat{a}^{(c_{4})} + \\text{c.c.} + i \\kappa \\hat{a}^{(c_{2})\\dagger} \\otimes \\hat{a}^{(c_{5})} + \\text{c.c.} + \\frac{g_{3}^{2}}{\\Delta_{3}} \\hat{\\Pi}_{g}^{(q_{3})} \\otimes \\hat{a}^{(c_{3})\\dagger} \\hat{a}^{(c_{3})} + i \\kappa \\hat{a}^{(c_{3})\\dagger} \\otimes \\hat{a}^{(c_{4})} + \\text{c.c.} + i \\kappa \\hat{a}^{(c_{3})\\dagger} \\otimes \\hat{a}^{(c_{5})} + \\text{c.c.} + \\frac{g_{4}^{2}}{\\Delta_{4}} \\hat{\\Pi}_{g}^{(q_{4})} \\otimes \\hat{a}^{(c_{4})\\dagger} \\hat{a}^{(c_{4})} + i \\kappa \\hat{a}^{(c_{4})\\dagger} \\otimes \\hat{a}^{(c_{5})} + \\text{c.c.} + \\frac{g_{5}^{2}}{\\Delta_{5}} \\hat{\\Pi}_{g}^{(q_{5})} \\otimes \\hat{a}^{(c_{5})\\dagger} \\hat{a}^{(c_{5})}\\\\\n",
       "  \\hat{H}_{d_1} &= - \\frac{i \\Omega_{1} g_{1}}{2 \\Delta_{1}} \\left(\\hat{\\sigma}_{e,g}^{(q_{1})} \\otimes \\hat{a}^{(c_{1})} - \\text{c.c.}\\right)\\\\\n",
       "  \\hat{H}_{d_2} &= - \\frac{i \\Omega_{2} g_{2}}{2 \\Delta_{2}} \\left(\\hat{\\sigma}_{e,g}^{(q_{2})} \\otimes \\hat{a}^{(c_{2})} - \\text{c.c.}\\right)\\\\\n",
       "  \\hat{H}_{d_3} &= - \\frac{i \\Omega_{3} g_{3}}{2 \\Delta_{3}} \\left(\\hat{\\sigma}_{e,g}^{(q_{3})} \\otimes \\hat{a}^{(c_{3})} - \\text{c.c.}\\right)\\\\\n",
       "  \\hat{H}_{d_4} &= - \\frac{i \\Omega_{4} g_{4}}{2 \\Delta_{4}} \\left(\\hat{\\sigma}_{e,g}^{(q_{4})} \\otimes \\hat{a}^{(c_{4})} - \\text{c.c.}\\right)\\\\\n",
       "  \\hat{H}_{d_5} &= - \\frac{i \\Omega_{5} g_{5}}{2 \\Delta_{5}} \\left(\\hat{\\sigma}_{e,g}^{(q_{5})} \\otimes \\hat{a}^{(c_{5})} - \\text{c.c.}\\right)\\\\\n",
       "\\end{align}"
      ],
      "text/plain": [
       "<IPython.core.display.Latex object>"
      ]
     },
     "metadata": {},
     "output_type": "display_data"
    }
   ],
   "source": [
    "display_hamiltonian(slh5.H)"
   ]
  },
  {
   "cell_type": "markdown",
   "metadata": {},
   "source": [
    "## Numerical Values (3 Nodes)"
   ]
  },
  {
   "cell_type": "code",
   "execution_count": 9,
   "metadata": {
    "collapsed": false
   },
   "outputs": [],
   "source": [
    "controls3 = sorted([sym for sym in slh3.H.all_symbols() if sym.name.startswith('Omega')], key=str)"
   ]
  },
  {
   "cell_type": "code",
   "execution_count": 10,
   "metadata": {
    "collapsed": false
   },
   "outputs": [],
   "source": [
    "# from algebra import generate_num_vals_code\n",
    "# generate_num_vals_code(slh.all_symbols())"
   ]
  },
  {
   "cell_type": "code",
   "execution_count": 11,
   "metadata": {
    "collapsed": true
   },
   "outputs": [],
   "source": [
    "Delta =  5000.0  # MHz\n",
    "g     =    50.0  # MHz\n",
    "kappa =     0.5  # MHz\n",
    "E0    =    70.0  # MHz\n",
    "t0    = -4    # microsec\n",
    "T     =  4    # microsec\n",
    "nt    = 2001\n",
    "theta = 1.5 * np.pi\n",
    "num_vals3 = {\n",
    "    Symbol('Delta_1', real=True):   Delta,\n",
    "    Symbol('Delta_2', real=True):   Delta,\n",
    "    Symbol('Delta_3', real=True):   Delta,\n",
    "    Symbol('g_1', positive=True):   g,\n",
    "    Symbol('g_2', positive=True):   g,\n",
    "    Symbol('g_3', positive=True):   g,\n",
    "    Symbol('kappa', positive=True): kappa,\n",
    "    Symbol('theta', real=True):     theta,\n",
    "}"
   ]
  },
  {
   "cell_type": "markdown",
   "metadata": {},
   "source": [
    "## Magnitude of coefficients"
   ]
  },
  {
   "cell_type": "code",
   "execution_count": 12,
   "metadata": {
    "collapsed": true
   },
   "outputs": [],
   "source": [
    "from qnet.algebra.pattern_matching import pattern\n",
    "from qnet.algebra.operator_algebra import ScalarTimesOperator"
   ]
  },
  {
   "cell_type": "code",
   "execution_count": 13,
   "metadata": {
    "collapsed": false
   },
   "outputs": [
    {
     "data": {
      "text/plain": [
       "{'-I*Omega_1*g_1/(2*Delta_1)': -0.005*I*Omega_1,\n",
       " '-I*Omega_2*g_2/(2*Delta_2)': -0.005*I*Omega_2,\n",
       " '-I*Omega_3*g_3/(2*Delta_3)': -0.005*I*Omega_3,\n",
       " '-I*kappa': -0.5*I,\n",
       " '-g_1**2/Delta_1': -0.500000000000000,\n",
       " '-g_2**2/Delta_2': -0.500000000000000,\n",
       " '-g_3**2/Delta_3': -0.500000000000000,\n",
       " 'I*Omega_1*g_1/(2*Delta_1)': 0.005*I*Omega_1,\n",
       " 'I*Omega_2*g_2/(2*Delta_2)': 0.005*I*Omega_2,\n",
       " 'I*Omega_3*g_3/(2*Delta_3)': 0.005*I*Omega_3,\n",
       " 'I*kappa': 0.5*I,\n",
       " 'g_1**2/Delta_1': 0.500000000000000,\n",
       " 'g_2**2/Delta_2': 0.500000000000000,\n",
       " 'g_3**2/Delta_3': 0.500000000000000}"
      ]
     },
     "execution_count": 13,
     "metadata": {},
     "output_type": "execute_result"
    }
   ],
   "source": [
    "{str(t.coeff): t.coeff.subs(num_vals3) for t in pattern(head=ScalarTimesOperator).findall(slh3.H)}"
   ]
  },
  {
   "cell_type": "markdown",
   "metadata": {},
   "source": [
    "## Time Grid and Guess Pulse"
   ]
  },
  {
   "cell_type": "code",
   "execution_count": 14,
   "metadata": {
    "collapsed": true
   },
   "outputs": [],
   "source": [
    "tgrid = QDYN.pulse.pulse_tgrid(t0=t0, T=T, nt=nt) # microsec"
   ]
  },
  {
   "cell_type": "code",
   "execution_count": 15,
   "metadata": {
    "collapsed": true
   },
   "outputs": [],
   "source": [
    "p = QDYN.pulse.Pulse(\n",
    "    tgrid, amplitude=(E0 * blackman(tgrid, t0, T)),\n",
    "    time_unit='microsec', ampl_unit='MHz')"
   ]
  },
  {
   "cell_type": "code",
   "execution_count": 16,
   "metadata": {
    "collapsed": true
   },
   "outputs": [],
   "source": [
    "controls3 = OrderedDict([\n",
    "    (Symbol('Omega_1'), p.copy()),\n",
    "    (Symbol('Omega_2'), p.copy()),\n",
    "    (Symbol('Omega_3'), p.copy()),\n",
    "])"
   ]
  },
  {
   "cell_type": "markdown",
   "metadata": {},
   "source": [
    "##  OCT for sqrtSWAP (hs)"
   ]
  },
  {
   "cell_type": "code",
   "execution_count": 17,
   "metadata": {
    "collapsed": true
   },
   "outputs": [],
   "source": [
    "sqrt_SWAP = QDYN.gate2q.Gate2Q([\n",
    "    [1,             0,             0,   0],\n",
    "    [0, -1/np.sqrt(2),  1/np.sqrt(2),   0],\n",
    "    [0, -1/np.sqrt(2), -1/np.sqrt(2),   0],\n",
    "    [0,             0,             0, -1j]]\n",
    ")"
   ]
  },
  {
   "cell_type": "code",
   "execution_count": 18,
   "metadata": {
    "collapsed": true
   },
   "outputs": [],
   "source": [
    "model = qdyn_model.make_qdyn_oct_model(\n",
    "    slh3, num_vals3, controls3, energy_unit='MHz',\n",
    "    mcwf=False, non_herm=True, oct_target='gate',\n",
    "    lambda_a=1e-4)"
   ]
  },
  {
   "cell_type": "code",
   "execution_count": 19,
   "metadata": {
    "collapsed": true
   },
   "outputs": [],
   "source": [
    "model.write_to_runfolder(\"./BS_FB/sqrtSWAP3_oct_hs001/\")\n",
    "sqrt_SWAP.write(\"./BS_FB/sqrtSWAP3_oct_hs001/target_gate.dat\")"
   ]
  },
  {
   "cell_type": "markdown",
   "metadata": {},
   "source": [
    "##  OCT for Dicke State (3 nodes, hs)"
   ]
  },
  {
   "cell_type": "code",
   "execution_count": 31,
   "metadata": {
    "collapsed": false
   },
   "outputs": [],
   "source": [
    "num_vals_diss3 = num_vals3.copy()\n",
    "θ = Symbol('theta', real=True)\n",
    "num_vals_diss3[θ] = 0.25 * np.pi"
   ]
  },
  {
   "cell_type": "code",
   "execution_count": 34,
   "metadata": {
    "collapsed": false
   },
   "outputs": [],
   "source": [
    "model = qdyn_model.make_qdyn_oct_model(\n",
    "    slh3, num_vals_diss3, controls3, energy_unit='MHz',\n",
    "    mcwf=True, non_herm=True, oct_target='dicke',\n",
    "    lambda_a=1e-1)"
   ]
  },
  {
   "cell_type": "code",
   "execution_count": 35,
   "metadata": {
    "collapsed": false
   },
   "outputs": [
    {
     "name": "stderr",
     "output_type": "stream",
     "text": [
      "WARNING:QDYN.model:Removing 'add_to_H_jump' attribute\n"
     ]
    }
   ],
   "source": [
    "model.write_to_runfolder(\"./BS_FB/dicke3_oct_hs001/\")"
   ]
  },
  {
   "cell_type": "markdown",
   "metadata": {},
   "source": [
    "##  OCT for Dicke State (4 nodes, hs)"
   ]
  },
  {
   "cell_type": "code",
   "execution_count": 41,
   "metadata": {
    "collapsed": true
   },
   "outputs": [],
   "source": [
    "num_vals4 = {\n",
    "    Symbol('Delta_1', real=True):   Delta,\n",
    "    Symbol('Delta_2', real=True):   Delta,\n",
    "    Symbol('Delta_3', real=True):   Delta,\n",
    "    Symbol('Delta_4', real=True):   Delta,\n",
    "    Symbol('g_1', positive=True):   g,\n",
    "    Symbol('g_2', positive=True):   g,\n",
    "    Symbol('g_3', positive=True):   g,\n",
    "    Symbol('g_4', positive=True):   g,\n",
    "    Symbol('kappa', positive=True): kappa,\n",
    "    Symbol('theta', real=True):     0.25 * np.pi,\n",
    "}"
   ]
  },
  {
   "cell_type": "code",
   "execution_count": 42,
   "metadata": {
    "collapsed": true
   },
   "outputs": [],
   "source": [
    "controls4 = OrderedDict([\n",
    "    (Symbol('Omega_1'), p.copy()),\n",
    "    (Symbol('Omega_2'), p.copy()),\n",
    "    (Symbol('Omega_3'), p.copy()),\n",
    "    (Symbol('Omega_4'), p.copy()),\n",
    "])"
   ]
  },
  {
   "cell_type": "code",
   "execution_count": 43,
   "metadata": {
    "collapsed": false
   },
   "outputs": [],
   "source": [
    "model = qdyn_model.make_qdyn_oct_model(\n",
    "    slh4, num_vals4, controls4, energy_unit='MHz',\n",
    "    mcwf=True, non_herm=True, oct_target='dicke',\n",
    "    lambda_a=1e-1)"
   ]
  },
  {
   "cell_type": "code",
   "execution_count": 44,
   "metadata": {
    "collapsed": false
   },
   "outputs": [
    {
     "name": "stderr",
     "output_type": "stream",
     "text": [
      "WARNING:QDYN.model:Removing 'add_to_H_jump' attribute\n"
     ]
    }
   ],
   "source": [
    "model.write_to_runfolder(\"./BS_FB/dicke4_oct_hs001/\")"
   ]
  },
  {
   "cell_type": "markdown",
   "metadata": {},
   "source": [
    "##  OCT for Dicke State (5 nodes, hs)"
   ]
  },
  {
   "cell_type": "code",
   "execution_count": 47,
   "metadata": {
    "collapsed": true
   },
   "outputs": [],
   "source": [
    "num_vals5 = {\n",
    "    Symbol('Delta_1', real=True):   Delta,\n",
    "    Symbol('Delta_2', real=True):   Delta,\n",
    "    Symbol('Delta_3', real=True):   Delta,\n",
    "    Symbol('Delta_4', real=True):   Delta,\n",
    "    Symbol('Delta_5', real=True):   Delta,\n",
    "    Symbol('g_1', positive=True):   g,\n",
    "    Symbol('g_2', positive=True):   g,\n",
    "    Symbol('g_3', positive=True):   g,\n",
    "    Symbol('g_4', positive=True):   g,\n",
    "    Symbol('g_5', positive=True):   g,\n",
    "    Symbol('kappa', positive=True): kappa,\n",
    "    Symbol('theta', real=True):     0.25 * np.pi,\n",
    "}"
   ]
  },
  {
   "cell_type": "code",
   "execution_count": 48,
   "metadata": {
    "collapsed": true
   },
   "outputs": [],
   "source": [
    "controls5 = OrderedDict([\n",
    "    (Symbol('Omega_1'), p.copy()),\n",
    "    (Symbol('Omega_2'), p.copy()),\n",
    "    (Symbol('Omega_3'), p.copy()),\n",
    "    (Symbol('Omega_4'), p.copy()),\n",
    "    (Symbol('Omega_5'), p.copy()),\n",
    "])"
   ]
  },
  {
   "cell_type": "code",
   "execution_count": 49,
   "metadata": {
    "collapsed": false
   },
   "outputs": [],
   "source": [
    "model = qdyn_model.make_qdyn_oct_model(\n",
    "    slh5, num_vals5, controls5, energy_unit='MHz',\n",
    "    mcwf=True, non_herm=True, oct_target='dicke',\n",
    "    lambda_a=1e-1)"
   ]
  },
  {
   "cell_type": "code",
   "execution_count": 50,
   "metadata": {
    "collapsed": false
   },
   "outputs": [
    {
     "name": "stderr",
     "output_type": "stream",
     "text": [
      "WARNING:QDYN.model:Removing 'add_to_H_jump' attribute\n"
     ]
    }
   ],
   "source": [
    "model.write_to_runfolder(\"./BS_FB/dicke5_oct_hs001/\")"
   ]
  },
  {
   "cell_type": "markdown",
   "metadata": {},
   "source": [
    "## Example optimization commands\n",
    "\n",
    "*   hilbert space optimization\n",
    "\n",
    "    ```OMP_NUM_THREADS=1 qdyn_optimize --internal-units=GHz_units.txt --debug --J_T=J_T_re .```\n",
    "\n",
    "*   trajectory optimization (model with `mcwf=True`)\n",
    "\n",
    "    ```OMP_NUM_THREADS=1 qdyn_optimize --internal-units=GHz_units.txt --n-trajs=20 --J_T=J_T_sm .```"
   ]
  },
  {
   "cell_type": "code",
   "execution_count": null,
   "metadata": {
    "collapsed": true
   },
   "outputs": [],
   "source": []
  }
 ],
 "metadata": {
  "anaconda-cloud": {},
  "kernelspec": {
   "display_name": "Python [default]",
   "language": "python",
   "name": "python3"
  },
  "language_info": {
   "codemirror_mode": {
    "name": "ipython",
    "version": 3
   },
   "file_extension": ".py",
   "mimetype": "text/x-python",
   "name": "python",
   "nbconvert_exporter": "python",
   "pygments_lexer": "ipython3",
   "version": "3.5.3"
  },
  "toc": {
   "nav_menu": {
    "height": "123px",
    "width": "252px"
   },
   "navigate_menu": true,
   "number_sections": true,
   "sideBar": true,
   "threshold": 4,
   "toc_cell": false,
   "toc_section_display": "block",
   "toc_window_display": false
  }
 },
 "nbformat": 4,
 "nbformat_minor": 2
}

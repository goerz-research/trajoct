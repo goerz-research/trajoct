{
 "cells": [
  {
   "cell_type": "code",
   "execution_count": 1,
   "metadata": {
    "attributes": {
     "classes": [],
     "id": "",
     "n": "1"
    },
    "collapsed": false
   },
   "outputs": [],
   "source": [
    "from os.path import join\n",
    "from io import StringIO\n",
    "from collections import defaultdict, OrderedDict\n",
    "\n",
    "import sympy\n",
    "from sympy import Symbol, sqrt, cos, pi, symbols\n",
    "import numpy as np\n",
    "import matplotlib.pylab as plt\n",
    "import pandas as pd\n",
    "\n",
    "import qnet\n",
    "from qnet.algebra import *\n",
    "\n",
    "import QDYN\n",
    "\n",
    "from src.notebook_plots_v1 import show_summary_dicke\n",
    "from src.single_sided_network_v1 import network_slh\n",
    "from src.dicke_half_model_v2 import write_dicke_half_model, err_dicke_half\n",
    "from src.clusterjob_actions_v1 import (\n",
    "    submit_crab_powell, submit_propagation, wait_for_clusterjob)\n",
    "\n",
    "from doit.tools import register_doit_as_IPython_magic\n",
    "import clusterjob"
   ]
  },
  {
   "cell_type": "code",
   "execution_count": 2,
   "metadata": {
    "attributes": {
     "classes": [],
     "id": "",
     "n": "2"
    },
    "collapsed": true
   },
   "outputs": [],
   "source": [
    "%load_ext autoreload\n",
    "%autoreload 2"
   ]
  },
  {
   "cell_type": "code",
   "execution_count": 3,
   "metadata": {
    "attributes": {
     "classes": [],
     "id": "",
     "n": "3"
    },
    "collapsed": true
   },
   "outputs": [],
   "source": [
    "qnet.init_printing()"
   ]
  },
  {
   "cell_type": "code",
   "execution_count": 4,
   "metadata": {
    "attributes": {
     "classes": [],
     "id": "",
     "n": "4"
    },
    "collapsed": true
   },
   "outputs": [],
   "source": [
    "register_doit_as_IPython_magic()"
   ]
  },
  {
   "cell_type": "code",
   "execution_count": 5,
   "metadata": {
    "attributes": {
     "classes": [],
     "id": "",
     "n": "5"
    },
    "collapsed": true
   },
   "outputs": [],
   "source": [
    "%run -i module.py"
   ]
  },
  {
   "cell_type": "code",
   "execution_count": 6,
   "metadata": {
    "attributes": {
     "classes": [],
     "id": "",
     "n": "6"
    },
    "collapsed": true
   },
   "outputs": [],
   "source": [
    "module('load', 'intel/xe2011')\n",
    "module('load', 'mpi')"
   ]
  },
  {
   "cell_type": "code",
   "execution_count": 7,
   "metadata": {
    "collapsed": true
   },
   "outputs": [],
   "source": [
    "clusterjob.JobScript.read_defaults('./config/mlhpc_cluster.ini')\n",
    "clusterjob.JobScript.cache_folder = './data/doit_clusterjobs/cache_powell/'"
   ]
  },
  {
   "cell_type": "code",
   "execution_count": 8,
   "metadata": {
    "collapsed": true
   },
   "outputs": [],
   "source": [
    "# clusterjob.JobScript.clear_cache_folder()"
   ]
  },
  {
   "cell_type": "markdown",
   "metadata": {},
   "source": [
    "$\n",
    "\\newcommand{ket}[1]{\\vert #1 \\rangle}\n",
    "\\newcommand{bra}[1]{\\langle #1 \\vert}\n",
    "\\newcommand{Op}[1]{\\hat{#1}}\n",
    "$\n",
    "\n",
    "# Does CRAB with Powell's Method work better than with Nelder-Mead?"
   ]
  },
  {
   "cell_type": "markdown",
   "metadata": {},
   "source": [
    "## task definitions"
   ]
  },
  {
   "cell_type": "code",
   "execution_count": 9,
   "metadata": {
    "attributes": {
     "classes": [],
     "id": "",
     "n": "9"
    },
    "collapsed": true
   },
   "outputs": [],
   "source": [
    "def runfolder(row):\n",
    "    return './data/CRAB_Powell/4nodes_kappa1e0_T%d_E0cycles%d_ncrab%d_seed%d' % (\n",
    "        row['T'], row['E0_cycles'], row['n_crab'], row['seed'])"
   ]
  },
  {
   "cell_type": "code",
   "execution_count": 10,
   "metadata": {
    "attributes": {
     "classes": [],
     "id": "",
     "n": "10"
    },
    "collapsed": true
   },
   "outputs": [],
   "source": [
    "def runfolders(params_df):\n",
    "    \"\"\"Return a list of all the runfolders\"\"\"\n",
    "    rfs = OrderedDict([])\n",
    "    for ind, row in params_df.iterrows():\n",
    "        rfs[runfolder(row)] = 1\n",
    "    return list(rfs.keys())"
   ]
  },
  {
   "cell_type": "code",
   "execution_count": 11,
   "metadata": {
    "attributes": {
     "classes": [],
     "id": "",
     "n": "11"
    },
    "collapsed": true
   },
   "outputs": [],
   "source": [
    "def task_create_runfolder():\n",
    "    \"\"\"Create all necessary runfolders for the runs defined in params_df\"\"\"\n",
    "    for ind, row in params_df.iterrows():\n",
    "        rf = runfolder(row)\n",
    "        yield {\n",
    "            'name': str(rf),\n",
    "            'actions': [\n",
    "                (write_dicke_half_model, [slh,],  dict(\n",
    "                    rf=rf, T=row['T'], theta=0, nt=500,\n",
    "                    kappa=1.0, E0_cycles=row['E0_cycles'], mcwf=True,\n",
    "                    non_herm=True, complex_pulses=True))],\n",
    "            'targets': [join(rf, 'config')],\n",
    "            'uptodate': [True, ] # up to date if target exists\n",
    "        }"
   ]
  },
  {
   "cell_type": "code",
   "execution_count": 12,
   "metadata": {
    "attributes": {
     "classes": [],
     "id": "",
     "n": "13"
    },
    "collapsed": true
   },
   "outputs": [],
   "source": [
    "def task_submit_crab():\n",
    "    \"\"\"Run optimization for every runfolder from params_df\"\"\"\n",
    "    for ind, row in params_df.iterrows():\n",
    "        rf = runfolder(row)\n",
    "        yield {\n",
    "            'name': str(rf),\n",
    "            'actions': [\n",
    "                (submit_crab_powell, [rf, ], dict(\n",
    "                    n_crab=int(row['n_crab']), n_trajs=int(row['n_trajs']),\n",
    "                    seed=int(row['seed']), complex=True))],\n",
    "            'file_dep': [join(rf, 'config')],\n",
    "            'targets': [join(rf, 'pulse1.oct.dat')],\n",
    "            'uptodate': [True, ] # up to date if target exists\n",
    "        }"
   ]
  },
  {
   "cell_type": "code",
   "execution_count": 13,
   "metadata": {
    "attributes": {
     "classes": [],
     "id": "",
     "n": "14"
    },
    "collapsed": true
   },
   "outputs": [],
   "source": [
    "def task_wait_for_crab():\n",
    "    for ind, row in params_df.iterrows():\n",
    "        rf = runfolder(row)\n",
    "        yield {\n",
    "            'name': str(rf),\n",
    "            'task_dep': ['submit_crab:%s' % rf],\n",
    "            'actions': [\n",
    "                (wait_for_clusterjob, [join(rf, 'crab.job.dump')], {}),]}"
   ]
  },
  {
   "cell_type": "code",
   "execution_count": 14,
   "metadata": {
    "attributes": {
     "classes": [],
     "id": "",
     "n": "15"
    },
    "collapsed": true
   },
   "outputs": [],
   "source": [
    "def task_submit_propagation():\n",
    "    \"\"\"Run optimization for every runfolder from params_df\"\"\"\n",
    "    for ind, row in params_df.iterrows():\n",
    "        rf = runfolder(row)\n",
    "        yield {\n",
    "            'name': str(rf),\n",
    "            'actions': [\n",
    "                (submit_propagation, [rf, ], dict(n_trajs=row['n_trajs']))],\n",
    "            'file_dep': [join(rf, 'pulse1.oct.dat'),],}"
   ]
  },
  {
   "cell_type": "code",
   "execution_count": 15,
   "metadata": {
    "collapsed": true
   },
   "outputs": [],
   "source": [
    "def task_wait_for_propagation():\n",
    "    \"\"\"Run optimization for every runfolder from params_df\"\"\"\n",
    "    for ind, row in params_df.iterrows():\n",
    "        rf = runfolder(row)\n",
    "        yield {\n",
    "            'name': str(rf),\n",
    "            'task_dep': ['submit_propagation:%s' % rf],\n",
    "            'actions': [\n",
    "                (wait_for_clusterjob, [join(rf, 'prop.job.dump')], {}),]}"
   ]
  },
  {
   "cell_type": "markdown",
   "metadata": {},
   "source": [
    "## Optimization"
   ]
  },
  {
   "cell_type": "code",
   "execution_count": 16,
   "metadata": {
    "attributes": {
     "classes": [],
     "id": "",
     "n": "16"
    },
    "collapsed": true
   },
   "outputs": [],
   "source": [
    "params_data_str = r'''\n",
    "#    T  E0_cycles  n_crab n_trajs  seed\n",
    "    50          2       5       5     0\n",
    "    50          2       5       5     1\n",
    "    50          2       5      20     2\n",
    "    50          2       2       5     0\n",
    "    50          2       2       5     1\n",
    "    50          2       2      20     2\n",
    "'''\n",
    "params_df = pd.read_fwf(\n",
    "        StringIO(params_data_str), comment='#', header=1,\n",
    "        names=['T', 'E0_cycles', 'n_crab', 'n_trajs', 'seed'])"
   ]
  },
  {
   "cell_type": "code",
   "execution_count": 17,
   "metadata": {
    "collapsed": false
   },
   "outputs": [
    {
     "data": {
      "text/html": [
       "<div>\n",
       "<table border=\"1\" class=\"dataframe\">\n",
       "  <thead>\n",
       "    <tr style=\"text-align: right;\">\n",
       "      <th></th>\n",
       "      <th>T</th>\n",
       "      <th>E0_cycles</th>\n",
       "      <th>n_crab</th>\n",
       "      <th>n_trajs</th>\n",
       "      <th>seed</th>\n",
       "    </tr>\n",
       "  </thead>\n",
       "  <tbody>\n",
       "    <tr>\n",
       "      <th>0</th>\n",
       "      <td>50</td>\n",
       "      <td>2</td>\n",
       "      <td>5</td>\n",
       "      <td>5</td>\n",
       "      <td>0</td>\n",
       "    </tr>\n",
       "    <tr>\n",
       "      <th>1</th>\n",
       "      <td>50</td>\n",
       "      <td>2</td>\n",
       "      <td>5</td>\n",
       "      <td>5</td>\n",
       "      <td>1</td>\n",
       "    </tr>\n",
       "    <tr>\n",
       "      <th>2</th>\n",
       "      <td>50</td>\n",
       "      <td>2</td>\n",
       "      <td>5</td>\n",
       "      <td>20</td>\n",
       "      <td>2</td>\n",
       "    </tr>\n",
       "    <tr>\n",
       "      <th>3</th>\n",
       "      <td>50</td>\n",
       "      <td>2</td>\n",
       "      <td>2</td>\n",
       "      <td>5</td>\n",
       "      <td>0</td>\n",
       "    </tr>\n",
       "    <tr>\n",
       "      <th>4</th>\n",
       "      <td>50</td>\n",
       "      <td>2</td>\n",
       "      <td>2</td>\n",
       "      <td>5</td>\n",
       "      <td>1</td>\n",
       "    </tr>\n",
       "    <tr>\n",
       "      <th>5</th>\n",
       "      <td>50</td>\n",
       "      <td>2</td>\n",
       "      <td>2</td>\n",
       "      <td>20</td>\n",
       "      <td>2</td>\n",
       "    </tr>\n",
       "  </tbody>\n",
       "</table>\n",
       "</div>"
      ],
      "text/plain": [
       "    T  E0_cycles  n_crab  n_trajs  seed\n",
       "0  50          2       5        5     0\n",
       "1  50          2       5        5     1\n",
       "2  50          2       5       20     2\n",
       "3  50          2       2        5     0\n",
       "4  50          2       2        5     1\n",
       "5  50          2       2       20     2"
      ]
     },
     "execution_count": 17,
     "metadata": {},
     "output_type": "execute_result"
    }
   ],
   "source": [
    "params_df"
   ]
  },
  {
   "cell_type": "code",
   "execution_count": null,
   "metadata": {
    "attributes": {
     "classes": [],
     "id": "",
     "n": "17"
    },
    "collapsed": true
   },
   "outputs": [],
   "source": [
    "slh = network_slh(n_cavity=2, n_nodes=4, topology='driven_bs_fb')"
   ]
  },
  {
   "cell_type": "code",
   "execution_count": null,
   "metadata": {
    "attributes": {
     "classes": [],
     "id": "",
     "n": "18"
    },
    "collapsed": false
   },
   "outputs": [
    {
     "name": "stdout",
     "output_type": "stream",
     "text": [
      "-- create_runfolder:T            50\n",
      "E0_cycles     2\n",
      "n_crab        5\n",
      "n_trajs       5\n",
      "seed          0\n",
      "Name: 0, dtype: int64\n",
      "-- create_runfolder:T            50\n",
      "E0_cycles     2\n",
      "n_crab        5\n",
      "n_trajs       5\n",
      "seed          1\n",
      "Name: 1, dtype: int64\n",
      "-- create_runfolder:T            50\n",
      "E0_cycles     2\n",
      "n_crab        5\n",
      "n_trajs      20\n",
      "seed          2\n",
      "Name: 2, dtype: int64\n",
      "-- create_runfolder:T            50\n",
      "E0_cycles     2\n",
      "n_crab        2\n",
      "n_trajs       5\n",
      "seed          0\n",
      "Name: 3, dtype: int64\n",
      "-- create_runfolder:T            50\n",
      "E0_cycles     2\n",
      "n_crab        2\n",
      "n_trajs       5\n",
      "seed          1\n",
      "Name: 4, dtype: int64\n",
      "-- create_runfolder:T            50\n",
      "E0_cycles     2\n",
      "n_crab        2\n",
      "n_trajs      20\n",
      "seed          2\n",
      "Name: 5, dtype: int64\n",
      ".  submit_crab:./data/CRAB_Powell/4nodes_kappa1e0_T50_E0cycles2_ncrab5_seed0\n",
      ".  submit_crab:./data/CRAB_Powell/4nodes_kappa1e0_T50_E0cycles2_ncrab5_seed1\n",
      ".  submit_crab:./data/CRAB_Powell/4nodes_kappa1e0_T50_E0cycles2_ncrab5_seed2\n",
      ".  submit_crab:./data/CRAB_Powell/4nodes_kappa1e0_T50_E0cycles2_ncrab2_seed0\n",
      ".  submit_crab:./data/CRAB_Powell/4nodes_kappa1e0_T50_E0cycles2_ncrab2_seed1\n",
      ".  submit_crab:./data/CRAB_Powell/4nodes_kappa1e0_T50_E0cycles2_ncrab2_seed2\n",
      ".  wait_for_crab:./data/CRAB_Powell/4nodes_kappa1e0_T50_E0cycles2_ncrab5_seed0\n"
     ]
    }
   ],
   "source": [
    "%doit wait_for_crab"
   ]
  },
  {
   "cell_type": "code",
   "execution_count": null,
   "metadata": {
    "attributes": {
     "classes": [],
     "id": "",
     "n": "19"
    },
    "collapsed": true
   },
   "outputs": [],
   "source": [
    "#%doit propagate"
   ]
  },
  {
   "cell_type": "markdown",
   "metadata": {},
   "source": [
    "\n",
    "## STATUS"
   ]
  },
  {
   "cell_type": "code",
   "execution_count": null,
   "metadata": {
    "collapsed": false,
    "scrolled": false
   },
   "outputs": [],
   "source": [
    "for rf in runfolders(params_df):\n",
    "    show_summary_dicke(rf, pulses='pulse*.oct.dat')"
   ]
  },
  {
   "cell_type": "code",
   "execution_count": null,
   "metadata": {
    "collapsed": true
   },
   "outputs": [],
   "source": []
  }
 ],
 "metadata": {
  "kernelspec": {
   "display_name": "default",
   "language": "python",
   "name": "default"
  },
  "language_info": {
   "codemirror_mode": {
    "name": "ipython",
    "version": 3
   },
   "file_extension": ".py",
   "mimetype": "text/x-python",
   "name": "python",
   "nbconvert_exporter": "python",
   "pygments_lexer": "ipython3",
   "version": "3.6.0"
  }
 },
 "nbformat": 4,
 "nbformat_minor": 2
}

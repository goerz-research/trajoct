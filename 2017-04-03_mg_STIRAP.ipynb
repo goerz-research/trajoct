{
 "cells": [
  {
   "cell_type": "code",
   "execution_count": 1,
   "metadata": {
    "collapsed": false
   },
   "outputs": [],
   "source": [
    "import sympy\n",
    "from sympy import Symbol, sqrt, cos, pi, symbols\n",
    "import numpy as np\n",
    "import matplotlib.pylab as plt\n",
    "\n",
    "import qnet\n",
    "from qnet.algebra import *\n",
    "from qnet.printing import srepr\n",
    "\n",
    "import QDYN\n",
    "\n",
    "from src.notebook_plots_v1 import plot_bs_decay, display_hamiltonian, display_eq, show_summary_dicke\n",
    "from src.single_sided_network_v1 import network_slh\n",
    "from src.single_sided_node_v1 import node_slh\n",
    "from src.qdyn_model_v1 import make_qdyn_oct_model"
   ]
  },
  {
   "cell_type": "code",
   "execution_count": 2,
   "metadata": {
    "collapsed": false
   },
   "outputs": [],
   "source": [
    "%load_ext autoreload\n",
    "%autoreload 2"
   ]
  },
  {
   "cell_type": "code",
   "execution_count": 3,
   "metadata": {
    "collapsed": true
   },
   "outputs": [],
   "source": [
    "qnet.init_printing()"
   ]
  },
  {
   "cell_type": "markdown",
   "metadata": {},
   "source": [
    "$\n",
    "\\newcommand{ket}[1]{\\vert #1 \\rangle}\n",
    "\\newcommand{bra}[1]{\\langle #1 \\vert}\n",
    "\\newcommand{Op}[1]{\\hat{#1}}\n",
    "$"
   ]
  },
  {
   "cell_type": "markdown",
   "metadata": {},
   "source": [
    "# Using STIRAP for the dicke-initialization"
   ]
  },
  {
   "cell_type": "markdown",
   "metadata": {},
   "source": [
    "## System description"
   ]
  },
  {
   "cell_type": "markdown",
   "metadata": {},
   "source": [
    "### Description of a network node"
   ]
  },
  {
   "cell_type": "markdown",
   "metadata": {},
   "source": [
    "Each node of our network consists of a driven $\\Lambda$-type atom embedded in a cavity [@CiracPRL1997]. After adiabatic elimination of the $\\ket{r}$-state, the Hamiltonian and Lindblad operator of the node read"
   ]
  },
  {
   "cell_type": "code",
   "execution_count": 4,
   "metadata": {
    "collapsed": false
   },
   "outputs": [
    {
     "data": {
      "text/latex": [
       "\\begin{align}\n",
       "  \\hat{H} &= \\hat{H}_0 + \\hat{H}_{\\text{int}} + \\hat{H}_{1}\\\\\n",
       "  \\hat{H}_0 &= - \\frac{g_{1}^{2}}{\\Delta_{1}} \\hat{a}^{(c_{1})\\dagger} \\hat{a}^{(c_{1})}\\\\\n",
       "  \\hat{H}_{\\text{int}} &= \\frac{g_{1}^{2}}{\\Delta_{1}} \\hat{\\Pi}_{g}^{(q_{1})} \\otimes \\hat{a}^{(c_{1})\\dagger} \\hat{a}^{(c_{1})}\\\\\n",
       "  \\hat{H}_{1} &= - \\frac{i \\Omega_{1} g_{1}}{2 \\Delta_{1}} \\left(\\hat{\\sigma}_{e,g}^{(q_{1})} \\otimes \\hat{a}^{(c_{1})} - \\text{c.c.}\\right)\\\\\n",
       "\\end{align}"
      ],
      "text/plain": [
       "<IPython.core.display.Latex object>"
      ]
     },
     "metadata": {},
     "output_type": "display_data"
    }
   ],
   "source": [
    "slh_node = node_slh(1, n_cavity=3)\n",
    "display_hamiltonian(slh_node.H)"
   ]
  },
  {
   "cell_type": "markdown",
   "metadata": {},
   "source": [
    "and"
   ]
  },
  {
   "cell_type": "code",
   "execution_count": 5,
   "metadata": {
    "collapsed": false
   },
   "outputs": [
    {
     "data": {
      "text/latex": [
       "\\begin{equation}\n",
       "\\Op{L}  = \\begin{pmatrix}\\sqrt{2} \\sqrt{\\kappa} \\hat{a}^{(c_{1})}\\end{pmatrix}\n",
       "\\end{equation}"
      ],
      "text/plain": [
       "<IPython.core.display.Latex object>"
      ]
     },
     "metadata": {},
     "output_type": "display_data"
    }
   ],
   "source": [
    "display_eq('\\Op{L} ', slh_node.L)"
   ]
  },
  {
   "cell_type": "markdown",
   "metadata": {},
   "source": [
    "respectively."
   ]
  },
  {
   "cell_type": "markdown",
   "metadata": {},
   "source": [
    "Adding a coherent displacement feeding into the node additionally drives the cavity:"
   ]
  },
  {
   "cell_type": "code",
   "execution_count": 6,
   "metadata": {
    "collapsed": false
   },
   "outputs": [
    {
     "data": {
      "text/latex": [
       "$- \\frac{i \\Omega_{1} g_{1}}{2 \\Delta_{1}} \\left(\\hat{\\sigma}_{e,g}^{(q_{1})} \\otimes \\hat{a}^{(c_{1})} - \\hat{\\sigma}_{g,e}^{(q_{1})} \\otimes \\hat{a}^{(c_{1})\\dagger}\\right) + \\frac{g_{1}^{2}}{\\Delta_{1}} \\hat{\\Pi}_{g}^{(q_{1})} \\otimes \\hat{a}^{(c_{1})\\dagger} \\hat{a}^{(c_{1})} + \\frac{i}{2} \\left(- \\Omega_{\\alpha} \\lambda \\hat{a}^{(c_{1})\\dagger} + \\Omega_{\\alpha} \\lambda \\hat{a}^{(c_{1})}\\right) - \\frac{g_{1}^{2}}{\\Delta_{1}} \\hat{a}^{(c_{1})\\dagger} \\hat{a}^{(c_{1})}$"
      ],
      "text/plain": [
       "-I*Ω_1*g_1/(2*Δ_1) * (σ̂_e,g^(q₁) ⊗ â^(c₁) - σ̂_g,e^(q₁) ⊗ â^(c₁)†) + g_1**2/Δ_1 * Π̂_g^(q₁) ⊗ â^(c₁)† â^(c₁) + I/2 * (-Ωₐₗₚₕₐ⋅λ * â^(c₁)† + Ωₐₗₚₕₐ⋅λ * â^(c₁)) - g_1**2/Δ_1 * â^(c₁)† â^(c₁)"
      ]
     },
     "execution_count": 6,
     "metadata": {},
     "output_type": "execute_result"
    }
   ],
   "source": [
    "Ω_α, Ω_1, α = symbols('Omega_alpha Omega_1 alpha', positive=True)\n",
    "κ = Symbol('kappa', positive=True); λ = Symbol('lambda', positive=True); μ = Symbol('mu', positive=True)\n",
    "H_node_driven = (slh_node << qnet.cc.Displace('W', alpha=α)).toSLH().H.substitute(\n",
    "    {α: λ/sqrt(2*κ) * Ω_α.conjugate()})\n",
    "H_node_driven"
   ]
  },
  {
   "cell_type": "code",
   "execution_count": 7,
   "metadata": {
    "collapsed": false
   },
   "outputs": [
    {
     "data": {
      "text/plain": [
       "[\"Symbol('Omega_alpha', positive=True)\",\n",
       " \"Symbol('g_1', positive=True)\",\n",
       " \"Symbol('Delta_1', real=True)\",\n",
       " \"Symbol('lambda', positive=True)\",\n",
       " \"Symbol('Omega_1')\"]"
      ]
     },
     "execution_count": 7,
     "metadata": {},
     "output_type": "execute_result"
    }
   ],
   "source": [
    "[srepr(s) for s in H_node_driven.all_symbols()]"
   ]
  },
  {
   "cell_type": "code",
   "execution_count": 8,
   "metadata": {
    "collapsed": true
   },
   "outputs": [],
   "source": [
    "g_1, Δ_1 = Symbol('g_1', positive=True), Symbol('Delta_1', real=True)"
   ]
  },
  {
   "cell_type": "markdown",
   "metadata": {},
   "source": [
    "Here, we have renormalized the displacement amplitude as $\\alpha \\rightarrow \\frac{\\lambda \\Omega_\\alpha^*}{\\sqrt{2 \\kappa}}$. The factor $\\sqrt{2\\kappa}$ ensures that $\\Omega_a$ is in units of energy, and the dimensionless $\\lambda = g_1 / \\Delta_1$ rescales $\\Omega_\\alpha$ have comparable amplitudes as $\\Omega_1$."
   ]
  },
  {
   "cell_type": "markdown",
   "metadata": {},
   "source": [
    "It is instructive to write out this Hamiltonian in a matrix representation,"
   ]
  },
  {
   "cell_type": "code",
   "execution_count": 9,
   "metadata": {
    "collapsed": false
   },
   "outputs": [],
   "source": [
    "H_matrix = qnet.convert.convert_to_sympy_matrix(H_node_driven).subs({g_1/Δ_1: λ, Symbol('Omega_1'): Ω_1}).subs({λ: μ})#.subs({g_1: 0})"
   ]
  },
  {
   "cell_type": "code",
   "execution_count": 10,
   "metadata": {
    "collapsed": false
   },
   "outputs": [
    {
     "data": {
      "image/png": "[encoded data removed]",
      "text/latex": [
       "$$\\left[\\begin{matrix}0 & \\frac{i \\Omega_{\\alpha}}{2} \\mu & 0 & 0 & 0 & 0\\\\- \\frac{i \\Omega_{\\alpha}}{2} \\mu & 0 & \\frac{i \\Omega_{\\alpha}}{2} \\sqrt{2} \\mu & \\frac{i \\Omega_{1}}{2} \\mu & 0 & 0\\\\0 & - \\frac{i \\Omega_{\\alpha}}{2} \\sqrt{2} \\mu & 0 & 0 & \\frac{i \\Omega_{1}}{2} \\sqrt{2} \\mu & 0\\\\0 & - \\frac{i \\Omega_{1}}{2} \\mu & 0 & 0 & \\frac{i \\Omega_{\\alpha}}{2} \\mu & 0\\\\0 & 0 & - \\frac{i \\Omega_{1}}{2} \\sqrt{2} \\mu & - \\frac{i \\Omega_{\\alpha}}{2} \\mu & - g_{1} \\mu & \\frac{i \\Omega_{\\alpha}}{2} \\sqrt{2} \\mu\\\\0 & 0 & 0 & 0 & - \\frac{i \\Omega_{\\alpha}}{2} \\sqrt{2} \\mu & - 2 g_{1} \\mu\\end{matrix}\\right]$$"
      ],
      "text/plain": [
       "⎡                ⅈ⋅Ωₐₗₚₕₐ⋅μ                                                   \n",
       "⎢     0          ──────────           0             0               0         \n",
       "⎢                    2                                                        \n",
       "⎢                                                                             \n",
       "⎢-ⅈ⋅Ωₐₗₚₕₐ⋅μ                    √2⋅ⅈ⋅Ωₐₗₚₕₐ⋅μ     ⅈ⋅Ω₁⋅μ                      \n",
       "⎢────────────         0         ─────────────     ──────            0         \n",
       "⎢     2                               2             2                         \n",
       "⎢                                                                             \n",
       "⎢              -√2⋅ⅈ⋅Ωₐₗₚₕₐ⋅μ                                   √2⋅ⅈ⋅Ω₁⋅μ     \n",
       "⎢     0        ───────────────        0             0           ─────────     \n",
       "⎢                     2                                             2         \n",
       "⎢                                                                             \n",
       "⎢                 -ⅈ⋅Ω₁⋅μ                                      ⅈ⋅Ωₐₗₚₕₐ⋅μ     \n",
       "⎢     0           ────────            0             0          ──────────     \n",
       "⎢                    2                                             2          \n",
       "⎢                                                                             \n",
       "⎢                                -√2⋅ⅈ⋅Ω₁⋅μ    -ⅈ⋅Ωₐₗₚₕₐ⋅μ                    \n",
       "⎢     0               0          ───────────   ────────────       -g₁⋅μ       \n",
       "⎢                                     2             2                         \n",
       "⎢                                                                             \n",
       "⎢                                                            -√2⋅ⅈ⋅Ωₐₗₚₕₐ⋅μ   \n",
       "⎢     0               0               0             0        ───────────────  \n",
       "⎣                                                                   2         \n",
       "\n",
       "             ⎤\n",
       "      0      ⎥\n",
       "             ⎥\n",
       "             ⎥\n",
       "             ⎥\n",
       "      0      ⎥\n",
       "             ⎥\n",
       "             ⎥\n",
       "             ⎥\n",
       "      0      ⎥\n",
       "             ⎥\n",
       "             ⎥\n",
       "             ⎥\n",
       "      0      ⎥\n",
       "             ⎥\n",
       "             ⎥\n",
       "√2⋅ⅈ⋅Ωₐₗₚₕₐ⋅μ⎥\n",
       "─────────────⎥\n",
       "      2      ⎥\n",
       "             ⎥\n",
       "             ⎥\n",
       "   -2⋅g₁⋅μ   ⎥\n",
       "             ⎦"
      ]
     },
     "execution_count": 10,
     "metadata": {},
     "output_type": "execute_result"
    }
   ],
   "source": [
    "H_matrix"
   ]
  },
  {
   "cell_type": "code",
   "execution_count": 11,
   "metadata": {
    "collapsed": false
   },
   "outputs": [
    {
     "name": "stdout",
     "output_type": "stream",
     "text": [
      "mat = {{0, (1/2)*I*Ωα*mu, 0, 0, 0, 0},\n",
      "{-1/2*I*Ωα*mu, 0, (1/2)*2^(1/2)*I*Ωα*mu, (1/2)*I*Ω1*mu, 0, 0},\n",
      "{0, -1/2*2^(1/2)*I*Ωα*mu, 0, 0, (1/2)*2^(1/2)*I*Ω1*mu, 0},\n",
      "{0, -1/2*I*Ω1*mu, 0, 0, (1/2)*I*Ωα*mu, 0},\n",
      "{0, 0, -1/2*2^(1/2)*I*Ω1*mu, -1/2*I*Ωα*mu, -g1*mu, (1/2)*2^(1/2)*I*Ωα*mu},\n",
      "{0, 0, 0, 0, -1/2*2^(1/2)*I*Ωα*mu, -2*g1*mu}\n",
      "}\n"
     ]
    }
   ],
   "source": [
    "mat_rows = []\n",
    "for row in range(H_matrix.rows):\n",
    "    vals = [sympy.mathematica_code(v) for v in H_matrix.row(row)]\n",
    "    mat_rows.append(\"{\" + \", \".join(vals) + \"}\")\n",
    "mat_code = \"mat = {\" + \",\\n\".join(mat_rows) + \"\\n}\"\n",
    "print(mat_code.replace('lambda', 'λ').replace('Omega', 'Ω').replace('alpha', 'α').replace('_',''))"
   ]
  },
  {
   "cell_type": "markdown",
   "metadata": {},
   "source": [
    "where the rows/colums correspond to the following quantum numbers:"
   ]
  },
  {
   "cell_type": "code",
   "execution_count": 12,
   "metadata": {
    "collapsed": false
   },
   "outputs": [
    {
     "data": {
      "text/plain": [
       "('g,0', 'g,1', 'g,2', 'e,0', 'e,1', 'e,2')"
      ]
     },
     "execution_count": 12,
     "metadata": {},
     "output_type": "execute_result"
    }
   ],
   "source": [
    "slh_node.H.space.basis_labels"
   ]
  },
  {
   "cell_type": "code",
   "execution_count": 13,
   "metadata": {
    "collapsed": false
   },
   "outputs": [
    {
     "data": {
      "image/png": "[encoded data removed]",
      "text/latex": [
       "$$\\operatorname{PurePoly}{\\left( \\lambda^{6} + 3 \\lambda^{5} g_{1} \\mu + \\lambda^{4} \\left(- \\frac{3 \\Omega_{1}^{2}}{4} \\mu^{2} - \\frac{3 \\Omega_{\\alpha}^{2}}{2} \\mu^{2} + 2 g_{1}^{2} \\mu^{2}\\right) + \\lambda^{3} \\left(- \\frac{7 g_{1}}{4} \\Omega_{1}^{2} \\mu^{3} - \\frac{11 g_{1}}{4} \\Omega_{\\alpha}^{2} \\mu^{3}\\right) + \\lambda^{2} \\left(\\frac{\\Omega_{1}^{4} \\mu^{4}}{8} - \\frac{\\Omega_{1}^{2} g_{1}^{2}}{2} \\mu^{4} + \\frac{9 \\Omega_{\\alpha}^{4}}{16} \\mu^{4} - \\frac{3 \\Omega_{\\alpha}^{2}}{2} g_{1}^{2} \\mu^{4}\\right) + \\lambda \\left(\\frac{\\Omega_{1}^{4} g_{1}}{4} \\mu^{5} - \\frac{\\Omega_{1}^{2} g_{1}}{4} \\Omega_{\\alpha}^{2} \\mu^{5} + \\frac{3 g_{1}}{8} \\Omega_{\\alpha}^{4} \\mu^{5}\\right), \\lambda, domain=\\mathbb{Q}\\left[\\Omega_{1}, \\Omega_{\\alpha}, g_{1}, \\mu\\right] \\right)}$$"
      ],
      "text/plain": [
       "PurePoly(_lambda**6 + 3*g_1*mu*_lambda**5 + (-3*Omega_1**2*mu**2/4 - 3*Omega_a\n",
       "lpha**2*mu**2/2 + 2*g_1**2*mu**2)*_lambda**4 + (-7*Omega_1**2*g_1*mu**3/4 - 11\n",
       "*Omega_alpha**2*g_1*mu**3/4)*_lambda**3 + (Omega_1**4*mu**4/8 - Omega_1**2*g_1\n",
       "**2*mu**4/2 + 9*Omega_alpha**4*mu**4/16 - 3*Omega_alpha**2*g_1**2*mu**4/2)*_la\n",
       "mbda**2 + (Omega_1**4*g_1*mu**5/4 - Omega_1**2*Omega_alpha**2*g_1*mu**5/4 + 3*\n",
       "Omega_alpha**4*g_1*mu**5/8)*_lambda, _lambda, domain='QQ[Omega_1,Omega_alpha,g\n",
       "_1,mu]')"
      ]
     },
     "execution_count": 13,
     "metadata": {},
     "output_type": "execute_result"
    }
   ],
   "source": [
    "H_matrix.charpoly()"
   ]
  },
  {
   "cell_type": "code",
   "execution_count": 14,
   "metadata": {
    "collapsed": false
   },
   "outputs": [
    {
     "data": {
      "image/png": "[encoded data removed]",
      "text/latex": [
       "$$\\left [ \\left ( 0, \\quad 1, \\quad \\left [ \\left[\\begin{matrix}\\frac{\\Omega_{1}}{\\Omega_{\\alpha}} - \\frac{\\Omega_{\\alpha}}{\\Omega_{1}}\\\\0\\\\- \\frac{\\sqrt{2} \\Omega_{\\alpha}}{2 \\Omega_{1}}\\\\1\\\\0\\\\0\\end{matrix}\\right]\\right ]\\right )\\right ]$$"
      ],
      "text/plain": [
       "⎡⎛      ⎡⎡  Ω₁     Ωₐₗₚₕₐ⎤⎤⎞⎤\n",
       "⎢⎜0, 1, ⎢⎢────── - ──────⎥⎥⎟⎥\n",
       "⎢⎜      ⎢⎢Ωₐₗₚₕₐ     Ω₁  ⎥⎥⎟⎥\n",
       "⎢⎜      ⎢⎢               ⎥⎥⎟⎥\n",
       "⎢⎜      ⎢⎢       0       ⎥⎥⎟⎥\n",
       "⎢⎜      ⎢⎢               ⎥⎥⎟⎥\n",
       "⎢⎜      ⎢⎢  -√2⋅Ωₐₗₚₕₐ   ⎥⎥⎟⎥\n",
       "⎢⎜      ⎢⎢  ───────────  ⎥⎥⎟⎥\n",
       "⎢⎜      ⎢⎢      2⋅Ω₁     ⎥⎥⎟⎥\n",
       "⎢⎜      ⎢⎢               ⎥⎥⎟⎥\n",
       "⎢⎜      ⎢⎢       1       ⎥⎥⎟⎥\n",
       "⎢⎜      ⎢⎢               ⎥⎥⎟⎥\n",
       "⎢⎜      ⎢⎢       0       ⎥⎥⎟⎥\n",
       "⎢⎜      ⎢⎢               ⎥⎥⎟⎥\n",
       "⎣⎝      ⎣⎣       0       ⎦⎦⎠⎦"
      ]
     },
     "execution_count": 14,
     "metadata": {},
     "output_type": "execute_result"
    }
   ],
   "source": [
    "H_matrix.eigenvects()"
   ]
  },
  {
   "cell_type": "code",
   "execution_count": 15,
   "metadata": {
    "collapsed": false
   },
   "outputs": [],
   "source": [
    "ev0 = H_matrix.eigenvects()[0][2][0]"
   ]
  },
  {
   "cell_type": "code",
   "execution_count": 16,
   "metadata": {
    "collapsed": false
   },
   "outputs": [],
   "source": [
    "ev0_norm = ev0.normalized()"
   ]
  },
  {
   "cell_type": "code",
   "execution_count": 17,
   "metadata": {
    "collapsed": false
   },
   "outputs": [
    {
     "data": {
      "image/png": "[encoded data removed]",
      "text/latex": [
       "$$\\left [ \\frac{\\sqrt{2} \\Omega_{1}^{3} - \\sqrt{2} \\Omega_{1} \\Omega_{\\alpha}^{2}}{\\sqrt{2 \\Omega_{1}^{6} - 2 \\Omega_{1}^{4} \\Omega_{\\alpha}^{2} + 3 \\Omega_{1}^{2} \\Omega_{\\alpha}^{4}}}, \\quad 0, \\quad - \\frac{\\Omega_{1} \\Omega_{\\alpha}^{2}}{\\sqrt{2 \\Omega_{1}^{6} - 2 \\Omega_{1}^{4} \\Omega_{\\alpha}^{2} + 3 \\Omega_{1}^{2} \\Omega_{\\alpha}^{4}}}, \\quad \\frac{\\sqrt{2} \\Omega_{1}^{2} \\Omega_{\\alpha}}{\\sqrt{2 \\Omega_{1}^{6} - 2 \\Omega_{1}^{4} \\Omega_{\\alpha}^{2} + 3 \\Omega_{1}^{2} \\Omega_{\\alpha}^{4}}}, \\quad 0, \\quad 0\\right ]$$"
      ],
      "text/plain": [
       "⎡               3               2                                        2    \n",
       "⎢          √2⋅Ω₁  - √2⋅Ω₁⋅Ωₐₗₚₕₐ                               -Ω₁⋅Ωₐₗₚₕₐ     \n",
       "⎢──────────────────────────────────────────, 0, ──────────────────────────────\n",
       "⎢   _______________________________________        ___________________________\n",
       "⎢  ╱     6       4       2       2       4        ╱     6       4       2     \n",
       "⎣╲╱  2⋅Ω₁  - 2⋅Ω₁ ⋅Ωₐₗₚₕₐ  + 3⋅Ω₁ ⋅Ωₐₗₚₕₐ       ╲╱  2⋅Ω₁  - 2⋅Ω₁ ⋅Ωₐₗₚₕₐ  + 3⋅\n",
       "\n",
       "                                 2                            ⎤\n",
       "                            √2⋅Ω₁ ⋅Ωₐₗₚₕₐ                     ⎥\n",
       "────────────, ──────────────────────────────────────────, 0, 0⎥\n",
       "____________     _______________________________________      ⎥\n",
       "  2       4     ╱     6       4       2       2       4       ⎥\n",
       "Ω₁ ⋅Ωₐₗₚₕₐ    ╲╱  2⋅Ω₁  - 2⋅Ω₁ ⋅Ωₐₗₚₕₐ  + 3⋅Ω₁ ⋅Ωₐₗₚₕₐ        ⎦"
      ]
     },
     "execution_count": 17,
     "metadata": {},
     "output_type": "execute_result"
    }
   ],
   "source": [
    "components = [a.cancel() for a in ev0_norm]\n",
    "components"
   ]
  },
  {
   "cell_type": "code",
   "execution_count": 18,
   "metadata": {
    "collapsed": false
   },
   "outputs": [
    {
     "data": {
      "image/png": "[encoded data removed]",
      "text/latex": [
       "$$\\frac{\\sqrt{2} \\Omega_{1}^{3} - \\sqrt{2} \\Omega_{1} \\Omega_{\\alpha}^{2}}{\\sqrt{2 \\Omega_{1}^{6} - 2 \\Omega_{1}^{4} \\Omega_{\\alpha}^{2} + 3 \\Omega_{1}^{2} \\Omega_{\\alpha}^{4}}}$$"
      ],
      "text/plain": [
       "               3               2          \n",
       "          √2⋅Ω₁  - √2⋅Ω₁⋅Ωₐₗₚₕₐ           \n",
       "──────────────────────────────────────────\n",
       "   _______________________________________\n",
       "  ╱     6       4       2       2       4 \n",
       "╲╱  2⋅Ω₁  - 2⋅Ω₁ ⋅Ωₐₗₚₕₐ  + 3⋅Ω₁ ⋅Ωₐₗₚₕₐ  "
      ]
     },
     "execution_count": 18,
     "metadata": {},
     "output_type": "execute_result"
    }
   ],
   "source": [
    "components[0]"
   ]
  },
  {
   "cell_type": "code",
   "execution_count": 19,
   "metadata": {
    "collapsed": false
   },
   "outputs": [
    {
     "data": {
      "image/png": "[encoded data removed]",
      "text/latex": [
       "$$- \\frac{\\sqrt{6}}{3}$$"
      ],
      "text/plain": [
       "-√6 \n",
       "────\n",
       " 3  "
      ]
     },
     "execution_count": 19,
     "metadata": {},
     "output_type": "execute_result"
    }
   ],
   "source": [
    "sympy.limit(components[0], Ω_1, 0)"
   ]
  },
  {
   "cell_type": "code",
   "execution_count": 20,
   "metadata": {
    "collapsed": false
   },
   "outputs": [
    {
     "data": {
      "image/png": "[encoded data removed]",
      "text/latex": [
       "$$- \\frac{\\sqrt{3}}{3}$$"
      ],
      "text/plain": [
       "-√3 \n",
       "────\n",
       " 3  "
      ]
     },
     "execution_count": 20,
     "metadata": {},
     "output_type": "execute_result"
    }
   ],
   "source": [
    "sympy.limit(components[2], Ω_1, 0)"
   ]
  },
  {
   "cell_type": "code",
   "execution_count": 21,
   "metadata": {
    "collapsed": false
   },
   "outputs": [
    {
     "data": {
      "image/png": "[encoded data removed]",
      "text/latex": [
       "$$0$$"
      ],
      "text/plain": [
       "0"
      ]
     },
     "execution_count": 21,
     "metadata": {},
     "output_type": "execute_result"
    }
   ],
   "source": [
    "sympy.limit(components[3], Ω_1, 0)"
   ]
  },
  {
   "cell_type": "code",
   "execution_count": 22,
   "metadata": {
    "collapsed": false
   },
   "outputs": [
    {
     "data": {
      "image/png": "[encoded data removed]",
      "text/latex": [
       "$$1$$"
      ],
      "text/plain": [
       "1"
      ]
     },
     "execution_count": 22,
     "metadata": {},
     "output_type": "execute_result"
    }
   ],
   "source": [
    "sympy.limit(components[0], Ω_α, 0)"
   ]
  },
  {
   "cell_type": "code",
   "execution_count": 23,
   "metadata": {
    "collapsed": false
   },
   "outputs": [
    {
     "data": {
      "image/png": "[encoded data removed]",
      "text/latex": [
       "$$0$$"
      ],
      "text/plain": [
       "0"
      ]
     },
     "execution_count": 23,
     "metadata": {},
     "output_type": "execute_result"
    }
   ],
   "source": [
    "sympy.limit(components[2], Ω_α, 0)"
   ]
  },
  {
   "cell_type": "code",
   "execution_count": 24,
   "metadata": {
    "collapsed": false
   },
   "outputs": [
    {
     "data": {
      "image/png": "[encoded data removed]",
      "text/latex": [
       "$$0$$"
      ],
      "text/plain": [
       "0"
      ]
     },
     "execution_count": 24,
     "metadata": {},
     "output_type": "execute_result"
    }
   ],
   "source": [
    "sympy.limit(components[3], Ω_α, 0)"
   ]
  },
  {
   "cell_type": "code",
   "execution_count": 25,
   "metadata": {
    "collapsed": false
   },
   "outputs": [
    {
     "data": {
      "image/png": "[encoded data removed]",
      "text/latex": [
       "$$\\frac{\\sqrt{2} \\omega_{1}^{2} - \\sqrt{2} \\omega_{a}^{2}}{\\sqrt{2 \\omega_{1}^{4} - 2 \\omega_{1}^{2} \\omega_{a}^{2} + 3 \\omega_{a}^{4}}}$$"
      ],
      "text/plain": [
       "            2        2        \n",
       "       √2⋅ω₁  - √2⋅ωₐ         \n",
       "──────────────────────────────\n",
       "   ___________________________\n",
       "  ╱     4       2   2       4 \n",
       "╲╱  2⋅ω₁  - 2⋅ω₁ ⋅ωₐ  + 3⋅ωₐ  "
      ]
     },
     "execution_count": 25,
     "metadata": {},
     "output_type": "execute_result"
    }
   ],
   "source": [
    "limit0 = sympy.limit(sympy.limit(components[0], Ω_α, Symbol('omega_a')), Ω_1, Symbol('omega_1'))\n",
    "limit0"
   ]
  },
  {
   "cell_type": "code",
   "execution_count": 26,
   "metadata": {
    "collapsed": false
   },
   "outputs": [
    {
     "data": {
      "image/png": "[encoded data removed]",
      "text/latex": [
       "$$- \\frac{\\omega_{a}^{2}}{\\sqrt{2 \\omega_{1}^{4} - 2 \\omega_{1}^{2} \\omega_{a}^{2} + 3 \\omega_{a}^{4}}}$$"
      ],
      "text/plain": [
       "               2              \n",
       "            -ωₐ               \n",
       "──────────────────────────────\n",
       "   ___________________________\n",
       "  ╱     4       2   2       4 \n",
       "╲╱  2⋅ω₁  - 2⋅ω₁ ⋅ωₐ  + 3⋅ωₐ  "
      ]
     },
     "execution_count": 26,
     "metadata": {},
     "output_type": "execute_result"
    }
   ],
   "source": [
    "limit2 = sympy.limit(sympy.limit(components[2], Ω_α, Symbol('omega_a')), Ω_1, Symbol('omega_1'))\n",
    "limit2"
   ]
  },
  {
   "cell_type": "code",
   "execution_count": 27,
   "metadata": {
    "collapsed": false
   },
   "outputs": [
    {
     "data": {
      "image/png": "[encoded data removed]",
      "text/latex": [
       "$$\\frac{\\sqrt{2} \\omega_{1} \\omega_{a}}{\\sqrt{2 \\omega_{1}^{4} - 2 \\omega_{1}^{2} \\omega_{a}^{2} + 3 \\omega_{a}^{4}}}$$"
      ],
      "text/plain": [
       "           √2⋅ω₁⋅ωₐ           \n",
       "──────────────────────────────\n",
       "   ___________________________\n",
       "  ╱     4       2   2       4 \n",
       "╲╱  2⋅ω₁  - 2⋅ω₁ ⋅ωₐ  + 3⋅ωₐ  "
      ]
     },
     "execution_count": 27,
     "metadata": {},
     "output_type": "execute_result"
    }
   ],
   "source": [
    "limit3 = sympy.limit(sympy.limit(components[3], Ω_α, Symbol('omega_a')), Ω_1, Symbol('omega_1'))\n",
    "limit3"
   ]
  },
  {
   "cell_type": "code",
   "execution_count": 28,
   "metadata": {
    "collapsed": false
   },
   "outputs": [],
   "source": [
    "sols = sympy.solve(limit3-1,  Symbol('omega_1'))"
   ]
  },
  {
   "cell_type": "code",
   "execution_count": 29,
   "metadata": {
    "collapsed": false
   },
   "outputs": [
    {
     "data": {
      "image/png": "[encoded data removed]",
      "text/latex": [
       "$$0.638943104246273$$"
      ],
      "text/plain": [
       "0.638943104246273"
      ]
     },
     "execution_count": 29,
     "metadata": {},
     "output_type": "execute_result"
    }
   ],
   "source": [
    "abs(sympy.N(limit0.subs({Symbol('omega_1'): sols[0]}).simplify().subs({Symbol('omega_a'): 1})))"
   ]
  },
  {
   "cell_type": "code",
   "execution_count": 30,
   "metadata": {
    "collapsed": false
   },
   "outputs": [
    {
     "data": {
      "image/png": "[encoded data removed]",
      "text/latex": [
       "$$0.638943104246273$$"
      ],
      "text/plain": [
       "0.638943104246273"
      ]
     },
     "execution_count": 30,
     "metadata": {},
     "output_type": "execute_result"
    }
   ],
   "source": [
    "abs(sympy.N(limit2.subs({Symbol('omega_1'): sols[0]}).simplify().subs({Symbol('omega_a'): 1})))"
   ]
  },
  {
   "cell_type": "code",
   "execution_count": 31,
   "metadata": {
    "collapsed": false
   },
   "outputs": [
    {
     "data": {
      "image/png": "[encoded data removed]",
      "text/latex": [
       "$$1.0$$"
      ],
      "text/plain": [
       "1.00000000000000"
      ]
     },
     "execution_count": 31,
     "metadata": {},
     "output_type": "execute_result"
    }
   ],
   "source": [
    "abs(sympy.N(limit3.subs({Symbol('omega_1'): sols[0]}).simplify().subs({Symbol('omega_a'): 1})))"
   ]
  },
  {
   "cell_type": "code",
   "execution_count": 32,
   "metadata": {
    "collapsed": true
   },
   "outputs": [],
   "source": [
    "x = sols[0]"
   ]
  },
  {
   "cell_type": "code",
   "execution_count": null,
   "metadata": {
    "collapsed": true
   },
   "outputs": [],
   "source": []
  },
  {
   "cell_type": "markdown",
   "metadata": {},
   "source": [
    "### Standard STIRAP"
   ]
  },
  {
   "cell_type": "code",
   "execution_count": 33,
   "metadata": {
    "collapsed": false
   },
   "outputs": [],
   "source": [
    "H_stirap = - sympy.Matrix(\n",
    "    [[0, Ω_α, 0],\n",
    "    [Ω_α, 0, Ω_1],\n",
    "    [0, Ω_1, 0]]\n",
    ") / 2"
   ]
  },
  {
   "cell_type": "code",
   "execution_count": 34,
   "metadata": {
    "collapsed": false
   },
   "outputs": [
    {
     "data": {
      "image/png": "[encoded data removed]",
      "text/latex": [
       "$$\\left \\{ 0 : 1, \\quad - \\frac{1}{2} \\sqrt{\\Omega_{1}^{2} + \\Omega_{\\alpha}^{2}} : 1, \\quad \\frac{1}{2} \\sqrt{\\Omega_{1}^{2} + \\Omega_{\\alpha}^{2}} : 1\\right \\}$$"
      ],
      "text/plain": [
       "⎧          _______________         _______________   ⎫\n",
       "⎪         ╱   2         2         ╱   2         2    ⎪\n",
       "⎨      -╲╱  Ω₁  + Ωₐₗₚₕₐ        ╲╱  Ω₁  + Ωₐₗₚₕₐ     ⎬\n",
       "⎪0: 1, ────────────────────: 1, ──────────────────: 1⎪\n",
       "⎩               2                       2            ⎭"
      ]
     },
     "execution_count": 34,
     "metadata": {},
     "output_type": "execute_result"
    }
   ],
   "source": [
    "H_stirap.eigenvals()"
   ]
  },
  {
   "cell_type": "code",
   "execution_count": 35,
   "metadata": {
    "collapsed": false
   },
   "outputs": [],
   "source": [
    "ev_stirap = H_stirap.eigenvects()"
   ]
  },
  {
   "cell_type": "code",
   "execution_count": 36,
   "metadata": {
    "collapsed": false
   },
   "outputs": [
    {
     "data": {
      "image/png": "[encoded data removed]",
      "text/latex": [
       "$$\\left [ \\left ( 0, \\quad 1, \\quad \\left [ \\left[\\begin{matrix}- \\frac{\\Omega_{1}}{\\Omega_{\\alpha}}\\\\0\\\\1\\end{matrix}\\right]\\right ]\\right ), \\quad \\left ( - \\frac{1}{2} \\sqrt{\\Omega_{1}^{2} + \\Omega_{\\alpha}^{2}}, \\quad 1, \\quad \\left [ \\left[\\begin{matrix}\\frac{\\Omega_{\\alpha}}{\\Omega_{1}}\\\\\\frac{1}{\\Omega_{1}} \\sqrt{\\Omega_{1}^{2} + \\Omega_{\\alpha}^{2}}\\\\1\\end{matrix}\\right]\\right ]\\right ), \\quad \\left ( \\frac{1}{2} \\sqrt{\\Omega_{1}^{2} + \\Omega_{\\alpha}^{2}}, \\quad 1, \\quad \\left [ \\left[\\begin{matrix}\\frac{\\Omega_{\\alpha}}{\\Omega_{1}}\\\\- \\frac{1}{\\Omega_{1}} \\sqrt{\\Omega_{1}^{2} + \\Omega_{\\alpha}^{2}}\\\\1\\end{matrix}\\right]\\right ]\\right )\\right ]$$"
      ],
      "text/plain": [
       "⎡                    ⎛    _______________                            ⎞  ⎛   __\n",
       "⎢                    ⎜   ╱   2         2                             ⎟  ⎜  ╱  \n",
       "⎢⎛      ⎡⎡ -Ω₁  ⎤⎤⎞  ⎜-╲╱  Ω₁  + Ωₐₗₚₕₐ        ⎡⎡      Ωₐₗₚₕₐ      ⎤⎤⎟  ⎜╲╱  Ω\n",
       "⎢⎜0, 1, ⎢⎢──────⎥⎥⎟, ⎜────────────────────, 1, ⎢⎢      ──────      ⎥⎥⎟, ⎜─────\n",
       "⎢⎜      ⎢⎢Ωₐₗₚₕₐ⎥⎥⎟  ⎜         2               ⎢⎢        Ω₁        ⎥⎥⎟  ⎜     \n",
       "⎢⎜      ⎢⎢      ⎥⎥⎟  ⎜                         ⎢⎢                  ⎥⎥⎟  ⎜     \n",
       "⎢⎜      ⎢⎢  0   ⎥⎥⎟  ⎜                         ⎢⎢   _______________⎥⎥⎟  ⎜     \n",
       "⎢⎜      ⎢⎢      ⎥⎥⎟  ⎜                         ⎢⎢  ╱   2         2 ⎥⎥⎟  ⎜     \n",
       "⎢⎝      ⎣⎣  1   ⎦⎦⎠  ⎜                         ⎢⎢╲╱  Ω₁  + Ωₐₗₚₕₐ  ⎥⎥⎟  ⎜     \n",
       "⎢                    ⎜                         ⎢⎢──────────────────⎥⎥⎟  ⎜     \n",
       "⎢                    ⎜                         ⎢⎢        Ω₁        ⎥⎥⎟  ⎜     \n",
       "⎢                    ⎜                         ⎢⎢                  ⎥⎥⎟  ⎜     \n",
       "⎣                    ⎝                         ⎣⎣        1         ⎦⎦⎠  ⎝     \n",
       "\n",
       "_____________                             ⎞⎤\n",
       " 2         2                              ⎟⎥\n",
       "₁  + Ωₐₗₚₕₐ       ⎡⎡       Ωₐₗₚₕₐ       ⎤⎤⎟⎥\n",
       "─────────────, 1, ⎢⎢       ──────       ⎥⎥⎟⎥\n",
       "   2              ⎢⎢         Ω₁         ⎥⎥⎟⎥\n",
       "                  ⎢⎢                    ⎥⎥⎟⎥\n",
       "                  ⎢⎢    _______________ ⎥⎥⎟⎥\n",
       "                  ⎢⎢   ╱   2         2  ⎥⎥⎟⎥\n",
       "                  ⎢⎢-╲╱  Ω₁  + Ωₐₗₚₕₐ   ⎥⎥⎟⎥\n",
       "                  ⎢⎢────────────────────⎥⎥⎟⎥\n",
       "                  ⎢⎢         Ω₁         ⎥⎥⎟⎥\n",
       "                  ⎢⎢                    ⎥⎥⎟⎥\n",
       "                  ⎣⎣         1          ⎦⎦⎠⎦"
      ]
     },
     "execution_count": 36,
     "metadata": {},
     "output_type": "execute_result"
    }
   ],
   "source": [
    "ev_stirap"
   ]
  },
  {
   "cell_type": "code",
   "execution_count": 37,
   "metadata": {
    "collapsed": false
   },
   "outputs": [
    {
     "data": {
      "image/png": "[encoded data removed]",
      "text/latex": [
       "$$\\left[\\begin{matrix}- \\frac{\\Omega_{1}}{\\Omega_{\\alpha}}\\\\0\\\\1\\end{matrix}\\right]$$"
      ],
      "text/plain": [
       "⎡ -Ω₁  ⎤\n",
       "⎢──────⎥\n",
       "⎢Ωₐₗₚₕₐ⎥\n",
       "⎢      ⎥\n",
       "⎢  0   ⎥\n",
       "⎢      ⎥\n",
       "⎣  1   ⎦"
      ]
     },
     "execution_count": 37,
     "metadata": {},
     "output_type": "execute_result"
    }
   ],
   "source": [
    "ev_stirap0 = ev_stirap[0][2][0]\n",
    "ev_stirap0"
   ]
  },
  {
   "cell_type": "code",
   "execution_count": 38,
   "metadata": {
    "collapsed": false
   },
   "outputs": [
    {
     "data": {
      "image/png": "[encoded data removed]",
      "text/latex": [
       "$$\\left[\\begin{matrix}- \\frac{\\Omega_{1}}{\\Omega_{\\alpha} \\sqrt{\\frac{\\Omega_{1}^{2}}{\\Omega_{\\alpha}^{2}} + 1}}\\\\0\\\\\\frac{1}{\\sqrt{\\frac{\\Omega_{1}^{2}}{\\Omega_{\\alpha}^{2}} + 1}}\\end{matrix}\\right]$$"
      ],
      "text/plain": [
       "⎡           -Ω₁            ⎤\n",
       "⎢──────────────────────────⎥\n",
       "⎢             _____________⎥\n",
       "⎢            ╱     2       ⎥\n",
       "⎢           ╱    Ω₁        ⎥\n",
       "⎢Ωₐₗₚₕₐ⋅   ╱   ─────── + 1 ⎥\n",
       "⎢         ╱          2     ⎥\n",
       "⎢       ╲╱     Ωₐₗₚₕₐ      ⎥\n",
       "⎢                          ⎥\n",
       "⎢            0             ⎥\n",
       "⎢                          ⎥\n",
       "⎢            1             ⎥\n",
       "⎢   ───────────────────    ⎥\n",
       "⎢         _____________    ⎥\n",
       "⎢        ╱     2           ⎥\n",
       "⎢       ╱    Ω₁            ⎥\n",
       "⎢      ╱   ─────── + 1     ⎥\n",
       "⎢     ╱          2         ⎥\n",
       "⎣   ╲╱     Ωₐₗₚₕₐ          ⎦"
      ]
     },
     "execution_count": 38,
     "metadata": {},
     "output_type": "execute_result"
    }
   ],
   "source": [
    "ev_stirap0.normalized()"
   ]
  }
 ],
 "metadata": {
  "anaconda-cloud": {},
  "kernelspec": {
   "display_name": "Python [default]",
   "language": "python",
   "name": "python3"
  },
  "language_info": {
   "codemirror_mode": {
    "name": "ipython",
    "version": 3
   },
   "file_extension": ".py",
   "mimetype": "text/x-python",
   "name": "python",
   "nbconvert_exporter": "python",
   "pygments_lexer": "ipython3",
   "version": "3.5.3"
  },
  "toc": {
   "colors": {
    "hover_highlight": "#DAA520",
    "running_highlight": "#FF0000",
    "selected_highlight": "#FFD700"
   },
   "moveMenuLeft": true,
   "nav_menu": {
    "height": "459px",
    "width": "492px"
   },
   "navigate_menu": true,
   "number_sections": true,
   "sideBar": true,
   "threshold": 4,
   "toc_cell": false,
   "toc_section_display": "block",
   "toc_window_display": false
  }
 },
 "nbformat": 4,
 "nbformat_minor": 2
}

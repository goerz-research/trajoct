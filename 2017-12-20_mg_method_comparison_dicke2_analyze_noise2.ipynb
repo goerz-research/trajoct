{
 "cells": [
  {
   "cell_type": "code",
   "execution_count": 1,
   "metadata": {
    "ExecuteTime": {
     "end_time": "2018-01-05T20:21:39.208413Z",
     "start_time": "2018-01-05T20:21:37.870620Z"
    },
    "collapsed": true
   },
   "outputs": [],
   "source": [
    "import QDYN\n",
    "import matplotlib.gridspec as gridspec\n",
    "import matplotlib.pylab as plt\n",
    "import pandas as pd\n",
    "import numpy as np\n",
    "from collections import OrderedDict\n",
    "from glob import glob\n",
    "from os.path import join"
   ]
  },
  {
   "cell_type": "code",
   "execution_count": 2,
   "metadata": {
    "ExecuteTime": {
     "end_time": "2018-01-05T20:21:39.221537Z",
     "start_time": "2018-01-05T20:21:39.211529Z"
    },
    "collapsed": true
   },
   "outputs": [],
   "source": [
    "%matplotlib inline"
   ]
  },
  {
   "cell_type": "code",
   "execution_count": 3,
   "metadata": {
    "ExecuteTime": {
     "end_time": "2018-01-05T20:21:42.022833Z",
     "start_time": "2018-01-05T20:21:39.226476Z"
    },
    "collapsed": true
   },
   "outputs": [],
   "source": [
    "from src.notebook_plots_v1 import (\n",
    "    plot_pulse_delta_smoothing, render_pulse_delta_smoothing,\n",
    "    collect_noise_table, combine_noise_tables, render_pulse_delta_smoothing)\n",
    "from src.pulse_smoothing_v1 import pulse_delta_smoothing, smooth_pulse_savgol"
   ]
  },
  {
   "cell_type": "code",
   "execution_count": 4,
   "metadata": {
    "ExecuteTime": {
     "end_time": "2018-01-05T20:21:42.037116Z",
     "start_time": "2018-01-05T20:21:42.026367Z"
    },
    "collapsed": true
   },
   "outputs": [],
   "source": [
    "def rf_sort_key(rf):\n",
    "    \"\"\"Key for sorting runfolder according to number of trajectories\"\"\"\n",
    "    try:\n",
    "        a, b = rf.split('_ntrajs')\n",
    "        return (a, int(b))\n",
    "    except ValueError:\n",
    "        return (rf, 0)"
   ]
  },
  {
   "cell_type": "markdown",
   "metadata": {},
   "source": [
    "## How does the noise in the optimized pulses scale with the number of trajectories?"
   ]
  },
  {
   "cell_type": "code",
   "execution_count": 5,
   "metadata": {
    "ExecuteTime": {
     "end_time": "2018-01-05T20:21:42.085081Z",
     "start_time": "2018-01-05T20:21:42.042511Z"
    },
    "collapsed": true
   },
   "outputs": [],
   "source": [
    "ROOT = './data/method_comparison_dicke2_noise/'"
   ]
  },
  {
   "cell_type": "code",
   "execution_count": 6,
   "metadata": {
    "ExecuteTime": {
     "end_time": "2018-01-05T20:21:42.121636Z",
     "start_time": "2018-01-05T20:21:42.088782Z"
    },
    "collapsed": true
   },
   "outputs": [],
   "source": [
    "rfs_independent_trajs =  sorted(\n",
    "    glob(join(ROOT, 'T5_independent_ntrajs*')), key=rf_sort_key)"
   ]
  },
  {
   "cell_type": "code",
   "execution_count": 7,
   "metadata": {
    "ExecuteTime": {
     "end_time": "2018-01-05T20:21:42.157330Z",
     "start_time": "2018-01-05T20:21:42.124531Z"
    },
    "collapsed": true
   },
   "outputs": [],
   "source": [
    "rfs_cross_trajs =  sorted(\n",
    "    glob(join(ROOT, 'T5_cross_ntrajs*')), key=rf_sort_key)"
   ]
  },
  {
   "cell_type": "code",
   "execution_count": 8,
   "metadata": {
    "ExecuteTime": {
     "end_time": "2018-01-05T20:21:42.192653Z",
     "start_time": "2018-01-05T20:21:42.159799Z"
    },
    "collapsed": true
   },
   "outputs": [],
   "source": [
    "def rf_pulse_iter(rf):\n",
    "    pulse1 = QDYN.pulse.Pulse.read(join(rf, 'pulse1.oct.dat'))\n",
    "    pulse2 = QDYN.pulse.Pulse.read(join(rf, 'pulse2.oct.dat'))\n",
    "    assert pulse1.oct_iter == pulse2.oct_iter\n",
    "    return pulse1.oct_iter\n"
   ]
  },
  {
   "cell_type": "code",
   "execution_count": 9,
   "metadata": {
    "ExecuteTime": {
     "end_time": "2018-01-05T20:21:42.940067Z",
     "start_time": "2018-01-05T20:21:42.196507Z"
    },
    "collapsed": true
   },
   "outputs": [],
   "source": [
    "rfs_independent_trajs = [\n",
    "    rf for rf in rfs_independent_trajs if rf_pulse_iter(rf) == 5000]\n",
    "rfs_cross_trajs = [\n",
    "    rf for rf in rfs_cross_trajs if rf_pulse_iter(rf) == 5000]"
   ]
  },
  {
   "cell_type": "code",
   "execution_count": 10,
   "metadata": {
    "ExecuteTime": {
     "end_time": "2018-01-05T20:21:42.950056Z",
     "start_time": "2018-01-05T20:21:42.943756Z"
    },
    "collapsed": true
   },
   "outputs": [],
   "source": [
    "rf_rho = join(ROOT, 'T5_rho_ntrajs1')"
   ]
  },
  {
   "cell_type": "code",
   "execution_count": 11,
   "metadata": {
    "ExecuteTime": {
     "end_time": "2018-01-05T20:21:44.008868Z",
     "start_time": "2018-01-05T20:21:42.954862Z"
    },
    "collapsed": true
   },
   "outputs": [],
   "source": [
    "noise_table = combine_noise_tables([\n",
    "    collect_noise_table(\n",
    "        rfs_independent_trajs, smooth_pulse_savgol,\n",
    "        window_length=5, polyorder=3),\n",
    "    collect_noise_table(\n",
    "        rfs_cross_trajs, smooth_pulse_savgol,\n",
    "        window_length=5, polyorder=3)],\n",
    "    ['independent', 'cross'])"
   ]
  },
  {
   "cell_type": "code",
   "execution_count": 18,
   "metadata": {
    "ExecuteTime": {
     "end_time": "2018-01-05T20:25:36.740830Z",
     "start_time": "2018-01-05T20:25:36.709311Z"
    }
   },
   "outputs": [
    {
     "data": {
      "text/html": [
       "<div>\n",
       "<style>\n",
       "    .dataframe thead tr:only-child th {\n",
       "        text-align: right;\n",
       "    }\n",
       "\n",
       "    .dataframe thead th {\n",
       "        text-align: left;\n",
       "    }\n",
       "\n",
       "    .dataframe tbody tr th {\n",
       "        vertical-align: top;\n",
       "    }\n",
       "</style>\n",
       "<table border=\"1\" class=\"dataframe\">\n",
       "  <thead>\n",
       "    <tr style=\"text-align: right;\">\n",
       "      <th></th>\n",
       "      <th>ν1 independent</th>\n",
       "      <th>ν2 independent</th>\n",
       "      <th>ν1 cross</th>\n",
       "      <th>ν2 cross</th>\n",
       "    </tr>\n",
       "  </thead>\n",
       "  <tbody>\n",
       "    <tr>\n",
       "      <th>2</th>\n",
       "      <td>0.308018</td>\n",
       "      <td>0.055326</td>\n",
       "      <td>0.422073</td>\n",
       "      <td>0.054965</td>\n",
       "    </tr>\n",
       "    <tr>\n",
       "      <th>3</th>\n",
       "      <td>0.254438</td>\n",
       "      <td>0.038950</td>\n",
       "      <td>0.354885</td>\n",
       "      <td>0.048840</td>\n",
       "    </tr>\n",
       "    <tr>\n",
       "      <th>4</th>\n",
       "      <td>0.239481</td>\n",
       "      <td>0.036399</td>\n",
       "      <td>0.259226</td>\n",
       "      <td>0.040307</td>\n",
       "    </tr>\n",
       "    <tr>\n",
       "      <th>5</th>\n",
       "      <td>0.202613</td>\n",
       "      <td>0.029566</td>\n",
       "      <td>0.320142</td>\n",
       "      <td>0.045000</td>\n",
       "    </tr>\n",
       "    <tr>\n",
       "      <th>8</th>\n",
       "      <td>0.173078</td>\n",
       "      <td>0.025502</td>\n",
       "      <td>0.227447</td>\n",
       "      <td>0.037765</td>\n",
       "    </tr>\n",
       "    <tr>\n",
       "      <th>10</th>\n",
       "      <td>0.140255</td>\n",
       "      <td>0.021628</td>\n",
       "      <td>0.212188</td>\n",
       "      <td>0.031844</td>\n",
       "    </tr>\n",
       "    <tr>\n",
       "      <th>15</th>\n",
       "      <td>0.120147</td>\n",
       "      <td>0.016844</td>\n",
       "      <td>0.187107</td>\n",
       "      <td>0.027317</td>\n",
       "    </tr>\n",
       "    <tr>\n",
       "      <th>16</th>\n",
       "      <td>0.126626</td>\n",
       "      <td>0.019089</td>\n",
       "      <td>0.165143</td>\n",
       "      <td>0.026777</td>\n",
       "    </tr>\n",
       "    <tr>\n",
       "      <th>20</th>\n",
       "      <td>0.110486</td>\n",
       "      <td>0.017665</td>\n",
       "      <td>0.163933</td>\n",
       "      <td>0.024383</td>\n",
       "    </tr>\n",
       "    <tr>\n",
       "      <th>25</th>\n",
       "      <td>0.075086</td>\n",
       "      <td>0.013223</td>\n",
       "      <td>0.155941</td>\n",
       "      <td>0.021501</td>\n",
       "    </tr>\n",
       "    <tr>\n",
       "      <th>30</th>\n",
       "      <td>0.080799</td>\n",
       "      <td>0.011800</td>\n",
       "      <td>0.115269</td>\n",
       "      <td>0.018050</td>\n",
       "    </tr>\n",
       "    <tr>\n",
       "      <th>32</th>\n",
       "      <td>0.086187</td>\n",
       "      <td>0.013342</td>\n",
       "      <td>0.149601</td>\n",
       "      <td>0.022253</td>\n",
       "    </tr>\n",
       "    <tr>\n",
       "      <th>35</th>\n",
       "      <td>0.083013</td>\n",
       "      <td>0.012737</td>\n",
       "      <td>0.123044</td>\n",
       "      <td>0.019356</td>\n",
       "    </tr>\n",
       "    <tr>\n",
       "      <th>40</th>\n",
       "      <td>0.069375</td>\n",
       "      <td>0.011277</td>\n",
       "      <td>0.108299</td>\n",
       "      <td>0.016452</td>\n",
       "    </tr>\n",
       "    <tr>\n",
       "      <th>45</th>\n",
       "      <td>0.075682</td>\n",
       "      <td>0.011981</td>\n",
       "      <td>0.115393</td>\n",
       "      <td>0.017811</td>\n",
       "    </tr>\n",
       "    <tr>\n",
       "      <th>50</th>\n",
       "      <td>0.072486</td>\n",
       "      <td>0.010826</td>\n",
       "      <td>0.105275</td>\n",
       "      <td>0.015341</td>\n",
       "    </tr>\n",
       "    <tr>\n",
       "      <th>55</th>\n",
       "      <td>0.057891</td>\n",
       "      <td>0.009546</td>\n",
       "      <td>0.092529</td>\n",
       "      <td>0.014456</td>\n",
       "    </tr>\n",
       "    <tr>\n",
       "      <th>60</th>\n",
       "      <td>0.061027</td>\n",
       "      <td>0.009194</td>\n",
       "      <td>0.092698</td>\n",
       "      <td>0.013979</td>\n",
       "    </tr>\n",
       "    <tr>\n",
       "      <th>64</th>\n",
       "      <td>0.062062</td>\n",
       "      <td>0.009940</td>\n",
       "      <td>0.092641</td>\n",
       "      <td>0.014166</td>\n",
       "    </tr>\n",
       "    <tr>\n",
       "      <th>70</th>\n",
       "      <td>0.065851</td>\n",
       "      <td>0.010166</td>\n",
       "      <td>0.085190</td>\n",
       "      <td>0.013332</td>\n",
       "    </tr>\n",
       "    <tr>\n",
       "      <th>75</th>\n",
       "      <td>0.054942</td>\n",
       "      <td>0.008653</td>\n",
       "      <td>0.086202</td>\n",
       "      <td>0.013416</td>\n",
       "    </tr>\n",
       "    <tr>\n",
       "      <th>80</th>\n",
       "      <td>0.054802</td>\n",
       "      <td>0.008428</td>\n",
       "      <td>0.084945</td>\n",
       "      <td>0.013209</td>\n",
       "    </tr>\n",
       "    <tr>\n",
       "      <th>85</th>\n",
       "      <td>0.050360</td>\n",
       "      <td>0.007946</td>\n",
       "      <td>0.088086</td>\n",
       "      <td>0.014400</td>\n",
       "    </tr>\n",
       "    <tr>\n",
       "      <th>90</th>\n",
       "      <td>0.057900</td>\n",
       "      <td>0.008671</td>\n",
       "      <td>0.081618</td>\n",
       "      <td>0.012371</td>\n",
       "    </tr>\n",
       "    <tr>\n",
       "      <th>100</th>\n",
       "      <td>0.046032</td>\n",
       "      <td>0.007319</td>\n",
       "      <td>0.072963</td>\n",
       "      <td>0.011064</td>\n",
       "    </tr>\n",
       "    <tr>\n",
       "      <th>110</th>\n",
       "      <td>0.040660</td>\n",
       "      <td>0.006396</td>\n",
       "      <td>0.073953</td>\n",
       "      <td>0.010868</td>\n",
       "    </tr>\n",
       "    <tr>\n",
       "      <th>120</th>\n",
       "      <td>0.040171</td>\n",
       "      <td>0.005898</td>\n",
       "      <td>0.071432</td>\n",
       "      <td>0.010720</td>\n",
       "    </tr>\n",
       "    <tr>\n",
       "      <th>128</th>\n",
       "      <td>0.040879</td>\n",
       "      <td>0.006764</td>\n",
       "      <td>0.068443</td>\n",
       "      <td>0.011324</td>\n",
       "    </tr>\n",
       "  </tbody>\n",
       "</table>\n",
       "</div>"
      ],
      "text/plain": [
       "     ν1 independent  ν2 independent  ν1 cross  ν2 cross\n",
       "2          0.308018        0.055326  0.422073  0.054965\n",
       "3          0.254438        0.038950  0.354885  0.048840\n",
       "4          0.239481        0.036399  0.259226  0.040307\n",
       "5          0.202613        0.029566  0.320142  0.045000\n",
       "8          0.173078        0.025502  0.227447  0.037765\n",
       "10         0.140255        0.021628  0.212188  0.031844\n",
       "15         0.120147        0.016844  0.187107  0.027317\n",
       "16         0.126626        0.019089  0.165143  0.026777\n",
       "20         0.110486        0.017665  0.163933  0.024383\n",
       "25         0.075086        0.013223  0.155941  0.021501\n",
       "30         0.080799        0.011800  0.115269  0.018050\n",
       "32         0.086187        0.013342  0.149601  0.022253\n",
       "35         0.083013        0.012737  0.123044  0.019356\n",
       "40         0.069375        0.011277  0.108299  0.016452\n",
       "45         0.075682        0.011981  0.115393  0.017811\n",
       "50         0.072486        0.010826  0.105275  0.015341\n",
       "55         0.057891        0.009546  0.092529  0.014456\n",
       "60         0.061027        0.009194  0.092698  0.013979\n",
       "64         0.062062        0.009940  0.092641  0.014166\n",
       "70         0.065851        0.010166  0.085190  0.013332\n",
       "75         0.054942        0.008653  0.086202  0.013416\n",
       "80         0.054802        0.008428  0.084945  0.013209\n",
       "85         0.050360        0.007946  0.088086  0.014400\n",
       "90         0.057900        0.008671  0.081618  0.012371\n",
       "100        0.046032        0.007319  0.072963  0.011064\n",
       "110        0.040660        0.006396  0.073953  0.010868\n",
       "120        0.040171        0.005898  0.071432  0.010720\n",
       "128        0.040879        0.006764  0.068443  0.011324"
      ]
     },
     "execution_count": 18,
     "metadata": {},
     "output_type": "execute_result"
    }
   ],
   "source": [
    "noise_table"
   ]
  },
  {
   "cell_type": "code",
   "execution_count": 12,
   "metadata": {
    "ExecuteTime": {
     "end_time": "2018-01-05T20:21:45.390486Z",
     "start_time": "2018-01-05T20:21:44.011930Z"
    },
    "scrolled": false
   },
   "outputs": [
    {
     "data": {
      "image/png": "[encoded data removed]",
      "text/plain": [
       "<matplotlib.figure.Figure at 0x7f5484332128>"
      ]
     },
     "metadata": {},
     "output_type": "display_data"
    }
   ],
   "source": [
    "noise_table.plot(logx=True, logy=True, marker='o')\n",
    "plt.show()"
   ]
  },
  {
   "cell_type": "markdown",
   "metadata": {},
   "source": [
    "### Power law identification from linear fit"
   ]
  },
  {
   "cell_type": "code",
   "execution_count": 13,
   "metadata": {
    "ExecuteTime": {
     "end_time": "2018-01-05T20:21:45.400334Z",
     "start_time": "2018-01-05T20:21:45.394580Z"
    },
    "collapsed": true
   },
   "outputs": [],
   "source": [
    "from scipy.stats import linregress"
   ]
  },
  {
   "cell_type": "code",
   "execution_count": 14,
   "metadata": {
    "ExecuteTime": {
     "end_time": "2018-01-05T20:21:45.444555Z",
     "start_time": "2018-01-05T20:21:45.404021Z"
    },
    "collapsed": true
   },
   "outputs": [],
   "source": [
    "def loglog_linregress(df, col):\n",
    "    Y = np.log(df[col])\n",
    "    X = np.log(df.index)\n",
    "    return linregress(X, Y)"
   ]
  },
  {
   "cell_type": "code",
   "execution_count": 15,
   "metadata": {
    "ExecuteTime": {
     "end_time": "2018-01-05T20:21:45.488063Z",
     "start_time": "2018-01-05T20:21:45.446806Z"
    },
    "collapsed": true
   },
   "outputs": [],
   "source": [
    "def identify_powerlaw(df):\n",
    "    slope_s = []\n",
    "    a_s = []\n",
    "    err_s = []\n",
    "    for col in df.columns:\n",
    "        slope, intercept, _, _, err = loglog_linregress(df, col)\n",
    "        slope_s.append(slope)\n",
    "        a_s.append(np.exp(intercept))\n",
    "        err_s.append(err)\n",
    "    return pd.DataFrame(OrderedDict([\n",
    "        ('power', slope_s), ('standard error', err_s),\n",
    "        ('proportionality factor', a_s)]),\n",
    "        index=df.columns)"
   ]
  },
  {
   "cell_type": "code",
   "execution_count": 16,
   "metadata": {
    "ExecuteTime": {
     "end_time": "2018-01-05T20:21:45.547424Z",
     "start_time": "2018-01-05T20:21:45.492034Z"
    }
   },
   "outputs": [
    {
     "data": {
      "text/html": [
       "<div>\n",
       "<style>\n",
       "    .dataframe thead tr:only-child th {\n",
       "        text-align: right;\n",
       "    }\n",
       "\n",
       "    .dataframe thead th {\n",
       "        text-align: left;\n",
       "    }\n",
       "\n",
       "    .dataframe tbody tr th {\n",
       "        vertical-align: top;\n",
       "    }\n",
       "</style>\n",
       "<table border=\"1\" class=\"dataframe\">\n",
       "  <thead>\n",
       "    <tr style=\"text-align: right;\">\n",
       "      <th></th>\n",
       "      <th>power</th>\n",
       "      <th>standard error</th>\n",
       "      <th>proportionality factor</th>\n",
       "    </tr>\n",
       "  </thead>\n",
       "  <tbody>\n",
       "    <tr>\n",
       "      <th>ν1 independent</th>\n",
       "      <td>-0.486573</td>\n",
       "      <td>0.013175</td>\n",
       "      <td>0.448214</td>\n",
       "    </tr>\n",
       "    <tr>\n",
       "      <th>ν2 independent</th>\n",
       "      <td>-0.486650</td>\n",
       "      <td>0.012374</td>\n",
       "      <td>0.069729</td>\n",
       "    </tr>\n",
       "    <tr>\n",
       "      <th>ν1 cross</th>\n",
       "      <td>-0.435165</td>\n",
       "      <td>0.011752</td>\n",
       "      <td>0.571580</td>\n",
       "    </tr>\n",
       "    <tr>\n",
       "      <th>ν2 cross</th>\n",
       "      <td>-0.412465</td>\n",
       "      <td>0.011326</td>\n",
       "      <td>0.080082</td>\n",
       "    </tr>\n",
       "  </tbody>\n",
       "</table>\n",
       "</div>"
      ],
      "text/plain": [
       "                   power  standard error  proportionality factor\n",
       "ν1 independent -0.486573        0.013175                0.448214\n",
       "ν2 independent -0.486650        0.012374                0.069729\n",
       "ν1 cross       -0.435165        0.011752                0.571580\n",
       "ν2 cross       -0.412465        0.011326                0.080082"
      ]
     },
     "execution_count": 16,
     "metadata": {},
     "output_type": "execute_result"
    }
   ],
   "source": [
    "identify_powerlaw(noise_table)"
   ]
  },
  {
   "cell_type": "markdown",
   "metadata": {
    "ExecuteTime": {
     "end_time": "2018-01-05T20:23:54.635755Z",
     "start_time": "2018-01-05T20:23:54.629529Z"
    }
   },
   "source": [
    "### Least-Squares Fit to sqrt(M)"
   ]
  },
  {
   "cell_type": "code",
   "execution_count": 38,
   "metadata": {
    "ExecuteTime": {
     "end_time": "2018-01-05T20:41:46.732404Z",
     "start_time": "2018-01-05T20:41:46.724326Z"
    },
    "collapsed": true
   },
   "outputs": [],
   "source": [
    "from scipy.optimize import minimize_scalar"
   ]
  },
  {
   "cell_type": "code",
   "execution_count": 39,
   "metadata": {
    "ExecuteTime": {
     "end_time": "2018-01-05T20:41:47.109570Z",
     "start_time": "2018-01-05T20:41:47.097997Z"
    },
    "collapsed": true
   },
   "outputs": [],
   "source": [
    "def alpha_residuals(alpha, X, Y):\n",
    "    Yhat = alpha / np.sqrt(X)\n",
    "    delta = Y - Yhat\n",
    "    return np.dot(delta, delta)"
   ]
  },
  {
   "cell_type": "code",
   "execution_count": 40,
   "metadata": {
    "ExecuteTime": {
     "end_time": "2018-01-05T20:41:47.476883Z",
     "start_time": "2018-01-05T20:41:47.471174Z"
    },
    "collapsed": true
   },
   "outputs": [],
   "source": [
    "def alpha_least_squares(X, Y):\n",
    "    res = minimize_scalar(alpha_residuals, args=(X, Y))\n",
    "    return res.x"
   ]
  },
  {
   "cell_type": "code",
   "execution_count": 41,
   "metadata": {
    "ExecuteTime": {
     "end_time": "2018-01-05T20:41:47.873315Z",
     "start_time": "2018-01-05T20:41:47.856299Z"
    }
   },
   "outputs": [
    {
     "data": {
      "text/plain": [
       "0.45695743326325922"
      ]
     },
     "execution_count": 41,
     "metadata": {},
     "output_type": "execute_result"
    }
   ],
   "source": [
    "alpha_least_squares(noise_table.index, noise_table['ν1 independent'])"
   ]
  },
  {
   "cell_type": "code",
   "execution_count": 56,
   "metadata": {
    "ExecuteTime": {
     "end_time": "2018-01-05T20:47:06.497814Z",
     "start_time": "2018-01-05T20:47:06.370335Z"
    },
    "collapsed": true
   },
   "outputs": [],
   "source": [
    "(blue, orange, red, green, purple, brown, pink, yellow, lightred, lightblue,\n",
    "lightorange, lightgreen, lightpurple) = \\\n",
    "('#377eb8', '#ff7f00', '#e41a1c', '#4daf4a', '#984ea3', '#a65628', '#f781bf',\n",
    "'#d2d215', '#fb9a99', '#a6cee3', '#fdbf6f', '#b2df8a', '#cab2d6')\n",
    "\n",
    "def plot_alpha_fit(noise_table):\n",
    "    alpha_ind1 = alpha_least_squares(\n",
    "        noise_table.index, noise_table['ν1 independent'])\n",
    "    alpha_ind2 = alpha_least_squares(\n",
    "        noise_table.index, noise_table['ν2 independent'])\n",
    "    alpha_cross1 = alpha_least_squares(\n",
    "        noise_table.index[5:], noise_table['ν1 cross'][5:])\n",
    "    alpha_cross2 = alpha_least_squares(\n",
    "        noise_table.index[5:], noise_table['ν2 cross'][5:])\n",
    "    x = np.linspace(noise_table.index[0], noise_table.index[-1], 10)\n",
    "\n",
    "    fig, ax = plt.subplots()\n",
    "\n",
    "    noise_table['ν1 independent'].plot(ax=ax, color=blue)\n",
    "    ax.plot(x, alpha_ind1 / np.sqrt(x), color=blue, ls='dashed')\n",
    "\n",
    "    noise_table['ν2 independent'].plot(ax=ax, color=orange)\n",
    "    ax.plot(x, alpha_ind2 / np.sqrt(x), color=orange, ls='dashed')\n",
    "\n",
    "    noise_table['ν1 cross'].plot(ax=ax, color=red)\n",
    "    ax.plot(x, alpha_cross1 / np.sqrt(x), color=red, ls='dashed')\n",
    "\n",
    "    noise_table['ν2 cross'].plot(ax=ax, color=green)\n",
    "    ax.plot(x, alpha_cross2 / np.sqrt(x), color=green, ls='dashed')\n",
    "\n",
    "    ax.legend()\n",
    "    ax.set_yscale('log')\n",
    "    ax.set_xscale('log')\n",
    "\n",
    "    plt.show(fig)"
   ]
  },
  {
   "cell_type": "code",
   "execution_count": 57,
   "metadata": {
    "ExecuteTime": {
     "end_time": "2018-01-05T20:47:08.101763Z",
     "start_time": "2018-01-05T20:47:06.830333Z"
    }
   },
   "outputs": [
    {
     "data": {
      "image/png": "[encoded data removed]",
      "text/plain": [
       "<matplotlib.figure.Figure at 0x7f54721abf60>"
      ]
     },
     "metadata": {},
     "output_type": "display_data"
    }
   ],
   "source": [
    "plot_alpha_fit(noise_table)\n"
   ]
  },
  {
   "cell_type": "code",
   "execution_count": 61,
   "metadata": {
    "ExecuteTime": {
     "end_time": "2018-01-05T20:58:20.259604Z",
     "start_time": "2018-01-05T20:58:18.266807Z"
    }
   },
   "outputs": [
    {
     "data": {
      "image/png": "[encoded data removed]",
      "text/plain": [
       "<matplotlib.figure.Figure at 0x7f547504ba90>"
      ]
     },
     "metadata": {},
     "output_type": "display_data"
    }
   ],
   "source": [
    "plot_alpha_fit(\n",
    "    combine_noise_tables([\n",
    "        collect_noise_table(\n",
    "            rfs_independent_trajs, smooth_pulse_savgol,\n",
    "            window_length=9, polyorder=4),\n",
    "        collect_noise_table(\n",
    "            rfs_cross_trajs, smooth_pulse_savgol,\n",
    "            window_length=9, polyorder=4)],\n",
    "        ['independent', 'cross']))"
   ]
  },
  {
   "cell_type": "code",
   "execution_count": null,
   "metadata": {
    "collapsed": true
   },
   "outputs": [],
   "source": []
  }
 ],
 "metadata": {
  "kernelspec": {
   "display_name": "Python 3",
   "language": "python",
   "name": "python3"
  },
  "language_info": {
   "codemirror_mode": {
    "name": "ipython",
    "version": 3
   },
   "file_extension": ".py",
   "mimetype": "text/x-python",
   "name": "python",
   "nbconvert_exporter": "python",
   "pygments_lexer": "ipython3",
   "version": "3.6.1"
  },
  "toc": {
   "nav_menu": {},
   "number_sections": true,
   "sideBar": true,
   "skip_h1_title": false,
   "toc_cell": false,
   "toc_position": {},
   "toc_section_display": "block",
   "toc_window_display": true
  },
  "varInspector": {
   "cols": {
    "lenName": 16,
    "lenType": 16,
    "lenVar": 40
   },
   "kernels_config": {
    "python": {
     "delete_cmd_postfix": "",
     "delete_cmd_prefix": "del ",
     "library": "var_list.py",
     "varRefreshCmd": "print(var_dic_list())"
    },
    "r": {
     "delete_cmd_postfix": ") ",
     "delete_cmd_prefix": "rm(",
     "library": "var_list.r",
     "varRefreshCmd": "cat(var_dic_list()) "
    }
   },
   "types_to_exclude": [
    "module",
    "function",
    "builtin_function_or_method",
    "instance",
    "_Feature"
   ],
   "window_display": false
  }
 },
 "nbformat": 4,
 "nbformat_minor": 2
}

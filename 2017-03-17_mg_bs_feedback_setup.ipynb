{
 "cells": [
  {
   "cell_type": "code",
   "execution_count": 50,
   "metadata": {
    "collapsed": false
   },
   "outputs": [],
   "source": [
    "from collections import OrderedDict\n",
    "from copy import copy\n",
    "import single_sided_network\n",
    "import qdyn_model\n",
    "from notebook_plots import display_hamiltonian\n",
    "from sympy import Symbol\n",
    "import QDYN\n",
    "from QDYN.pulse import blackman\n",
    "from QDYN.shutil import mkdir\n",
    "import matplotlib.pylab as plt\n",
    "import numpy as np\n",
    "import sympy\n",
    "from sympy import pi"
   ]
  },
  {
   "cell_type": "code",
   "execution_count": 51,
   "metadata": {
    "collapsed": false
   },
   "outputs": [
    {
     "name": "stdout",
     "output_type": "stream",
     "text": [
      "The autoreload extension is already loaded. To reload it, use:\n",
      "  %reload_ext autoreload\n"
     ]
    }
   ],
   "source": [
    "%load_ext autoreload\n",
    "%autoreload 2"
   ]
  },
  {
   "cell_type": "markdown",
   "metadata": {},
   "source": [
    "## Circuit"
   ]
  },
  {
   "cell_type": "code",
   "execution_count": 52,
   "metadata": {
    "collapsed": false
   },
   "outputs": [],
   "source": [
    "circuit = single_sided_network.network_circuit(n_nodes=2, topology='bs_fb')"
   ]
  },
  {
   "cell_type": "code",
   "execution_count": 53,
   "metadata": {
    "collapsed": false
   },
   "outputs": [
    {
     "data": {
      "image/png": "[encoded data removed]",
      "text/plain": [
       "<IPython.core.display.Image object>"
      ]
     },
     "metadata": {},
     "output_type": "display_data"
    }
   ],
   "source": [
    "circuit.show()"
   ]
  },
  {
   "cell_type": "code",
   "execution_count": 54,
   "metadata": {
    "collapsed": false
   },
   "outputs": [],
   "source": [
    "slh = single_sided_network.network_slh(n_cavity=2, n_nodes=2, topology='bs_fb')"
   ]
  },
  {
   "cell_type": "code",
   "execution_count": 55,
   "metadata": {
    "collapsed": false
   },
   "outputs": [
    {
     "data": {
      "text/latex": [
       "$\\begin{pmatrix}1\\end{pmatrix}$"
      ],
      "text/plain": [
       "[[1]]"
      ]
     },
     "execution_count": 55,
     "metadata": {},
     "output_type": "execute_result"
    }
   ],
   "source": [
    "slh.S"
   ]
  },
  {
   "cell_type": "code",
   "execution_count": 56,
   "metadata": {
    "collapsed": false
   },
   "outputs": [
    {
     "data": {
      "text/latex": [
       "$\\begin{pmatrix}- \\frac{\\sqrt{2} \\sqrt{\\kappa} \\cos{\\left (\\theta \\right )}}{\\sin{\\left (\\theta \\right )} - 1} \\hat{a}^{(c_{1})} - \\frac{\\sqrt{2} \\sqrt{\\kappa} \\cos{\\left (\\theta \\right )}}{\\sin{\\left (\\theta \\right )} - 1} \\hat{a}^{(c_{2})}\\end{pmatrix}$"
      ],
      "text/plain": [
       "[[-sqrt(2)*sqrt(κ)*cos(θ)/(sin(θ) - 1) * â^(c₁) - sqrt(2)*sqrt(κ)*cos(θ)/(sin(θ) - 1) * â^(c₂)]]"
      ]
     },
     "execution_count": 56,
     "metadata": {},
     "output_type": "execute_result"
    }
   ],
   "source": [
    "slh.L"
   ]
  },
  {
   "cell_type": "code",
   "execution_count": 8,
   "metadata": {
    "collapsed": false
   },
   "outputs": [],
   "source": [
    "def plot_bs_decay():\n",
    "    from qnet.algebra.pattern_matching import pattern, wc\n",
    "    from qnet.algebra.operator_algebra import ScalarTimesOperator\n",
    "    θ = Symbol('theta', real=True)\n",
    "    κ = Symbol('kappa', positive=True)\n",
    "    fig = plt.figure()\n",
    "    ax = fig.add_subplot(111)\n",
    "    theta = np.linspace(0, 2*np.pi, 100)\n",
    "    L = slh.L[0, 0]\n",
    "    k1_form, k2_form = [op.coeff for op in pattern(ScalarTimesOperator).findall(L)]\n",
    "    k1_form = k1_form / sympy.sqrt(2*κ)\n",
    "    k2_form = k2_form / sympy.sqrt(2*κ)\n",
    "    k1 = np.array([k1_form.subs({θ: val}) for val in theta])\n",
    "    k2 = np.array([k2_form.subs({θ: val}) for val in theta])\n",
    "    ax.plot(theta/np.pi, k1)\n",
    "    ax.plot(theta/np.pi, k2)\n",
    "    ax.set_ylim(-3, 3)\n",
    "    ax.set_xlabel(r'BS mixing angle $\\theta$ ($\\pi$ rad)')\n",
    "    ax.set_ylabel(r'decay rate relative to open network')\n",
    "    plt.show(fig)"
   ]
  },
  {
   "cell_type": "code",
   "execution_count": 9,
   "metadata": {
    "collapsed": false
   },
   "outputs": [
    {
     "data": {
      "image/png": "[encoded data removed]",
      "text/plain": [
       "<matplotlib.figure.Figure at 0x7f9202626cc0>"
      ]
     },
     "metadata": {},
     "output_type": "display_data"
    }
   ],
   "source": [
    "plot_bs_decay()"
   ]
  },
  {
   "cell_type": "code",
   "execution_count": 10,
   "metadata": {
    "collapsed": false
   },
   "outputs": [
    {
     "data": {
      "text/latex": [
       "$\\begin{pmatrix}\\mathbb{0}\\end{pmatrix}$"
      ],
      "text/plain": [
       "[[0]]"
      ]
     },
     "execution_count": 10,
     "metadata": {},
     "output_type": "execute_result"
    }
   ],
   "source": [
    "θ = Symbol('theta', real=True)\n",
    "slh.L.substitute({θ: 3*pi/2}).simplify_scalar()"
   ]
  },
  {
   "cell_type": "code",
   "execution_count": 11,
   "metadata": {
    "collapsed": false,
    "scrolled": true
   },
   "outputs": [
    {
     "data": {
      "text/latex": [
       "\\begin{align}\n",
       "  \\hat{H} &= \\hat{H}_0 + \\hat{H}_{\\text{int}} + \\hat{H}_{d_1} + \\hat{H}_{d_2}\\\\\n",
       "  \\hat{H}_0 &= - \\frac{g_{1}^{2}}{\\Delta_{1}} \\hat{a}^{(c_{1})\\dagger} \\hat{a}^{(c_{1})} - \\frac{g_{2}^{2}}{\\Delta_{2}} \\hat{a}^{(c_{2})\\dagger} \\hat{a}^{(c_{2})}\\\\\n",
       "  \\hat{H}_{\\text{int}} &= \\frac{g_{1}^{2}}{\\Delta_{1}} \\hat{\\Pi}_{g}^{(q_{1})} \\otimes \\hat{a}^{(c_{1})\\dagger} \\hat{a}^{(c_{1})} + i \\kappa \\hat{a}^{(c_{1})\\dagger} \\otimes \\hat{a}^{(c_{2})} + \\text{c.c.} + \\frac{g_{2}^{2}}{\\Delta_{2}} \\hat{\\Pi}_{g}^{(q_{2})} \\otimes \\hat{a}^{(c_{2})\\dagger} \\hat{a}^{(c_{2})}\\\\\n",
       "  \\hat{H}_{d_1} &= - \\frac{i \\Omega_{1} g_{1}}{2 \\Delta_{1}} \\left(\\hat{\\sigma}_{e,g}^{(q_{1})} \\otimes \\hat{a}^{(c_{1})} - \\text{c.c.}\\right)\\\\\n",
       "  \\hat{H}_{d_2} &= - \\frac{i \\Omega_{2} g_{2}}{2 \\Delta_{2}} \\left(\\hat{\\sigma}_{e,g}^{(q_{2})} \\otimes \\hat{a}^{(c_{2})} - \\text{c.c.}\\right)\\\\\n",
       "\\end{align}"
      ],
      "text/plain": [
       "<IPython.core.display.Latex object>"
      ]
     },
     "metadata": {},
     "output_type": "display_data"
    }
   ],
   "source": [
    "display_hamiltonian(slh.H)"
   ]
  },
  {
   "cell_type": "markdown",
   "metadata": {},
   "source": [
    "## Numerical Values"
   ]
  },
  {
   "cell_type": "code",
   "execution_count": 57,
   "metadata": {
    "collapsed": true
   },
   "outputs": [],
   "source": [
    "controls = sorted([sym for sym in slh.H.all_symbols() if sym.name.startswith('Omega')], key=str)"
   ]
  },
  {
   "cell_type": "code",
   "execution_count": 58,
   "metadata": {
    "collapsed": false
   },
   "outputs": [],
   "source": [
    "# from algebra import generate_num_vals_code\n",
    "# generate_num_vals_code(slh.all_symbols())"
   ]
  },
  {
   "cell_type": "code",
   "execution_count": 59,
   "metadata": {
    "collapsed": true
   },
   "outputs": [],
   "source": [
    "Delta =  5000.0  # MHz\n",
    "g     =    50.0  # MHz\n",
    "kappa =     0.5  # MHz\n",
    "E0    =    70.0  # MHz\n",
    "t0    = -4    # microsec\n",
    "T     =  4    # microsec\n",
    "nt    = 2001\n",
    "theta = 1.5 * np.pi\n",
    "num_vals = {\n",
    "    Symbol('Delta_1', real=True):   Delta,\n",
    "    Symbol('Delta_2', real=True):   Delta,\n",
    "    Symbol('g_2', positive=True):   g,\n",
    "    Symbol('g_1', positive=True):   g,\n",
    "    Symbol('kappa', positive=True): kappa,\n",
    "    Symbol('theta', real=True):     theta,\n",
    "}"
   ]
  },
  {
   "cell_type": "markdown",
   "metadata": {},
   "source": [
    "## Magnitude of coefficients"
   ]
  },
  {
   "cell_type": "code",
   "execution_count": 15,
   "metadata": {
    "collapsed": true
   },
   "outputs": [],
   "source": [
    "from qnet.algebra.pattern_matching import pattern\n",
    "from qnet.algebra.operator_algebra import ScalarTimesOperator"
   ]
  },
  {
   "cell_type": "code",
   "execution_count": 16,
   "metadata": {
    "collapsed": false
   },
   "outputs": [
    {
     "data": {
      "text/plain": [
       "{'-I*Omega_1*g_1/(2*Delta_1)': -0.005*I*Omega_1,\n",
       " '-I*Omega_2*g_2/(2*Delta_2)': -0.005*I*Omega_2,\n",
       " '-I*kappa': -0.5*I,\n",
       " '-g_1**2/Delta_1': -0.500000000000000,\n",
       " '-g_2**2/Delta_2': -0.500000000000000,\n",
       " 'I*Omega_1*g_1/(2*Delta_1)': 0.005*I*Omega_1,\n",
       " 'I*Omega_2*g_2/(2*Delta_2)': 0.005*I*Omega_2,\n",
       " 'I*kappa': 0.5*I,\n",
       " 'g_1**2/Delta_1': 0.500000000000000,\n",
       " 'g_2**2/Delta_2': 0.500000000000000}"
      ]
     },
     "execution_count": 16,
     "metadata": {},
     "output_type": "execute_result"
    }
   ],
   "source": [
    "{str(t.coeff): t.coeff.subs(num_vals) for t in pattern(head=ScalarTimesOperator).findall(slh.H)}"
   ]
  },
  {
   "cell_type": "markdown",
   "metadata": {},
   "source": [
    "## Time Grid and Guess Pulse"
   ]
  },
  {
   "cell_type": "code",
   "execution_count": 60,
   "metadata": {
    "collapsed": true
   },
   "outputs": [],
   "source": [
    "tgrid = QDYN.pulse.pulse_tgrid(t0=t0, T=T, nt=nt) # microsec"
   ]
  },
  {
   "cell_type": "code",
   "execution_count": 61,
   "metadata": {
    "collapsed": true
   },
   "outputs": [],
   "source": [
    "p = QDYN.pulse.Pulse(\n",
    "    tgrid, amplitude=(E0 * blackman(tgrid, t0, T)),\n",
    "    time_unit='microsec', ampl_unit='MHz')"
   ]
  },
  {
   "cell_type": "code",
   "execution_count": 62,
   "metadata": {
    "collapsed": true
   },
   "outputs": [],
   "source": [
    "controls = OrderedDict([\n",
    "    (Symbol('Omega_1'), p.copy()),\n",
    "    (Symbol('Omega_2'), p.copy()),\n",
    "])"
   ]
  },
  {
   "cell_type": "markdown",
   "metadata": {},
   "source": [
    "## OCT for forward transfer (hs)"
   ]
  },
  {
   "cell_type": "code",
   "execution_count": 20,
   "metadata": {
    "collapsed": true
   },
   "outputs": [],
   "source": [
    "model = qdyn_model.make_qdyn_oct_model(\n",
    "    slh, num_vals, controls, energy_unit='MHz',\n",
    "    mcwf=False, non_herm=True, oct_target='excitation_transfer_fw',\n",
    "    lambda_a=1e-4)"
   ]
  },
  {
   "cell_type": "code",
   "execution_count": 21,
   "metadata": {
    "collapsed": true
   },
   "outputs": [],
   "source": [
    "model.write_to_runfolder(\"./BS_FB/fw_oct_hs001/\")"
   ]
  },
  {
   "cell_type": "markdown",
   "metadata": {},
   "source": [
    "##  OCT for $\\sqrt{SWAP}$ (hs)"
   ]
  },
  {
   "cell_type": "code",
   "execution_count": 63,
   "metadata": {
    "collapsed": true
   },
   "outputs": [],
   "source": [
    "sqrt_SWAP = QDYN.gate2q.Gate2Q([\n",
    "    [1,             0,             0,   0],\n",
    "    [0, -1/np.sqrt(2),  1/np.sqrt(2),   0],\n",
    "    [0, -1/np.sqrt(2), -1/np.sqrt(2),   0],\n",
    "    [0,             0,             0, -1j]]\n",
    ")"
   ]
  },
  {
   "cell_type": "code",
   "execution_count": 64,
   "metadata": {
    "collapsed": true
   },
   "outputs": [],
   "source": [
    "model = qdyn_model.make_qdyn_oct_model(\n",
    "    slh, num_vals, controls, energy_unit='MHz',\n",
    "    mcwf=False, non_herm=True, oct_target='gate',\n",
    "    lambda_a=1e-4)"
   ]
  },
  {
   "cell_type": "code",
   "execution_count": 65,
   "metadata": {
    "collapsed": true
   },
   "outputs": [],
   "source": [
    "model.write_to_runfolder(\"./BS_FB/sqrtSWAP_oct_hs001/\")\n",
    "sqrt_SWAP.write(\"./BS_FB/sqrtSWAP_oct_hs001/target_gate.dat\")"
   ]
  },
  {
   "cell_type": "markdown",
   "metadata": {},
   "source": [
    "##  OCT for SWAP (hs)"
   ]
  },
  {
   "cell_type": "code",
   "execution_count": 27,
   "metadata": {
    "collapsed": true
   },
   "outputs": [],
   "source": [
    "model = qdyn_model.make_qdyn_oct_model(\n",
    "    slh, num_vals, controls, energy_unit='MHz',\n",
    "    mcwf=False, non_herm=True, oct_target='gate',\n",
    "    lambda_a=1e-2)"
   ]
  },
  {
   "cell_type": "code",
   "execution_count": 28,
   "metadata": {
    "collapsed": true
   },
   "outputs": [],
   "source": [
    "model.write_to_runfolder(\"./BS_FB/SWAP_oct_hs001/\")\n",
    "QDYN.gate2q.SWAP.write(\"./BS_FB/SWAP_oct_hs001/target_gate.dat\")"
   ]
  },
  {
   "cell_type": "markdown",
   "metadata": {},
   "source": [
    "##  OCT for PE (hs)"
   ]
  },
  {
   "cell_type": "code",
   "execution_count": 29,
   "metadata": {
    "collapsed": true
   },
   "outputs": [],
   "source": [
    "model = qdyn_model.make_qdyn_oct_model(\n",
    "    slh, num_vals, controls, energy_unit='MHz',\n",
    "    mcwf=False, non_herm=True, oct_target='gate',\n",
    "    lambda_a=1e-2)"
   ]
  },
  {
   "cell_type": "code",
   "execution_count": 30,
   "metadata": {
    "collapsed": true
   },
   "outputs": [],
   "source": [
    "model.write_to_runfolder(\"./BS_FB/PE_oct_hs001/\")\n",
    "QDYN.gate2q.CPHASE.write(\"./BS_FB/PE_oct_hs001/target_gate.dat\")"
   ]
  },
  {
   "cell_type": "markdown",
   "metadata": {},
   "source": [
    "##  OCT for sqrtSWAP (LI, hs)"
   ]
  },
  {
   "cell_type": "code",
   "execution_count": 31,
   "metadata": {
    "collapsed": true
   },
   "outputs": [],
   "source": [
    "model = qdyn_model.make_qdyn_oct_model(\n",
    "    slh, num_vals, controls, energy_unit='MHz',\n",
    "    mcwf=False, non_herm=True, oct_target='gate',\n",
    "    lambda_a=1e-4)"
   ]
  },
  {
   "cell_type": "code",
   "execution_count": 32,
   "metadata": {
    "collapsed": true
   },
   "outputs": [],
   "source": [
    "model.write_to_runfolder(\"./BS_FB/sqrtSWAP_oct_hsLI001/\")\n",
    "QDYN.gate2q.sqrt_SWAP.write(\"./BS_FB/sqrtSWAP_oct_hsLI001/target_gate.dat\")"
   ]
  },
  {
   "cell_type": "markdown",
   "metadata": {},
   "source": [
    "##  OCT for sqrtSWAP (hs, dissipative)"
   ]
  },
  {
   "cell_type": "code",
   "execution_count": 45,
   "metadata": {
    "collapsed": false
   },
   "outputs": [],
   "source": [
    "slh = single_sided_network.network_slh(n_cavity=2, n_nodes=2, topology='bs_fb')"
   ]
  },
  {
   "cell_type": "code",
   "execution_count": 46,
   "metadata": {
    "collapsed": true
   },
   "outputs": [],
   "source": [
    "sqrt_SWAP = QDYN.gate2q.Gate2Q([\n",
    "    [1,             0,             0,   0],\n",
    "    [0, -1/np.sqrt(2),  1/np.sqrt(2),   0],\n",
    "    [0, -1/np.sqrt(2), -1/np.sqrt(2),   0],\n",
    "    [0,             0,             0, -1j]]\n",
    ")"
   ]
  },
  {
   "cell_type": "code",
   "execution_count": 47,
   "metadata": {
    "collapsed": true
   },
   "outputs": [],
   "source": [
    "num_vals_diss = num_vals.copy()\n",
    "θ = Symbol('theta', real=True)\n",
    "num_vals_diss[θ] = 0.25 * np.pi"
   ]
  },
  {
   "cell_type": "code",
   "execution_count": 48,
   "metadata": {
    "collapsed": false
   },
   "outputs": [],
   "source": [
    "model = qdyn_model.make_qdyn_oct_model(\n",
    "    slh, num_vals_diss, controls, energy_unit='MHz',\n",
    "    mcwf=True, non_herm=True, oct_target='gate',\n",
    "    lambda_a=1e-4)"
   ]
  },
  {
   "cell_type": "code",
   "execution_count": 49,
   "metadata": {
    "collapsed": false
   },
   "outputs": [
    {
     "name": "stderr",
     "output_type": "stream",
     "text": [
      "WARNING:QDYN.model:Removing 'add_to_H_jump' attribute\n"
     ]
    }
   ],
   "source": [
    "model.write_to_runfolder(\"./BS_FB/sqrtSWAP_diss_oct_hs001/\")\n",
    "sqrt_SWAP.write(\"./BS_FB/sqrtSWAP_diss_oct_hs001/target_gate.dat\")"
   ]
  },
  {
   "cell_type": "markdown",
   "metadata": {},
   "source": [
    "##  OCT for forward transfer (hs, dissipative)"
   ]
  },
  {
   "cell_type": "code",
   "execution_count": 74,
   "metadata": {
    "collapsed": true
   },
   "outputs": [],
   "source": [
    "model = qdyn_model.make_qdyn_oct_model(\n",
    "    slh, num_vals_diss, controls, energy_unit='MHz',\n",
    "    mcwf=True, non_herm=True, oct_target='excitation_transfer_fw',\n",
    "    lambda_a=1e-4)"
   ]
  },
  {
   "cell_type": "code",
   "execution_count": 79,
   "metadata": {
    "collapsed": false
   },
   "outputs": [],
   "source": [
    "L = model.lindblad_ops()[0]"
   ]
  },
  {
   "cell_type": "code",
   "execution_count": 76,
   "metadata": {
    "collapsed": false
   },
   "outputs": [
    {
     "name": "stderr",
     "output_type": "stream",
     "text": [
      "WARNING:QDYN.model:Removing 'add_to_H_jump' attribute\n"
     ]
    }
   ],
   "source": [
    "model.write_to_runfolder(\"./BS_FB/fw_diss_oct_hs001/\")"
   ]
  },
  {
   "cell_type": "markdown",
   "metadata": {},
   "source": [
    "##  OCT for dicke state initialization (hs, dissipative)"
   ]
  },
  {
   "cell_type": "code",
   "execution_count": 83,
   "metadata": {
    "collapsed": false
   },
   "outputs": [],
   "source": [
    "model = qdyn_model.make_qdyn_oct_model(\n",
    "    slh, num_vals_diss, controls, energy_unit='MHz',\n",
    "    mcwf=True, non_herm=True, oct_target='dicke',\n",
    "    lambda_a=1e-4)"
   ]
  },
  {
   "cell_type": "code",
   "execution_count": 84,
   "metadata": {
    "collapsed": false
   },
   "outputs": [
    {
     "name": "stderr",
     "output_type": "stream",
     "text": [
      "WARNING:QDYN.model:Removing 'add_to_H_jump' attribute\n"
     ]
    }
   ],
   "source": [
    "model.write_to_runfolder(\"./BS_FB/dicke_diss_oct_hs001/\")"
   ]
  },
  {
   "cell_type": "markdown",
   "metadata": {},
   "source": [
    "## Example optimization commands\n",
    "\n",
    "*   hilbert space optimization\n",
    "\n",
    "    ```OMP_NUM_THREADS=1 qdyn_optimize --internal-units=GHz_units.txt --debug --J_T=J_T_re .```\n",
    "\n",
    "*   trajectory optimization (model with `mcwf=True`)\n",
    "\n",
    "    ```OMP_NUM_THREADS=1 qdyn_optimize --internal-units=GHz_units.txt --n-trajs=20 --J_T=J_T_re .```"
   ]
  },
  {
   "cell_type": "code",
   "execution_count": null,
   "metadata": {
    "collapsed": true
   },
   "outputs": [],
   "source": []
  }
 ],
 "metadata": {
  "anaconda-cloud": {},
  "kernelspec": {
   "display_name": "Python 3",
   "language": "python",
   "name": "python3"
  },
  "language_info": {
   "codemirror_mode": {
    "name": "ipython",
    "version": 3
   },
   "file_extension": ".py",
   "mimetype": "text/x-python",
   "name": "python",
   "nbconvert_exporter": "python",
   "pygments_lexer": "ipython3",
   "version": "3.6.0"
  },
  "toc": {
   "nav_menu": {
    "height": "123px",
    "width": "252px"
   },
   "navigate_menu": true,
   "number_sections": true,
   "sideBar": true,
   "threshold": 4,
   "toc_cell": false,
   "toc_section_display": "block",
   "toc_window_display": false
  }
 },
 "nbformat": 4,
 "nbformat_minor": 2
}

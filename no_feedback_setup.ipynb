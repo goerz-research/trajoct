{
 "cells": [
  {
   "cell_type": "code",
   "execution_count": 1,
   "metadata": {
    "collapsed": false
   },
   "outputs": [],
   "source": [
    "from collections import OrderedDict\n",
    "from copy import copy\n",
    "import single_sided_network\n",
    "import qdyn_model\n",
    "from notebook_plots import display_hamiltonian\n",
    "from sympy import Symbol\n",
    "import QDYN\n",
    "from QDYN.pulse import blackman\n",
    "from QDYN.shutil import mkdir"
   ]
  },
  {
   "cell_type": "markdown",
   "metadata": {},
   "source": [
    "## Circuit"
   ]
  },
  {
   "cell_type": "code",
   "execution_count": 2,
   "metadata": {
    "collapsed": false
   },
   "outputs": [],
   "source": [
    "circuit = single_sided_network.network_circuit(n_nodes=2, topology='open')"
   ]
  },
  {
   "cell_type": "code",
   "execution_count": 3,
   "metadata": {
    "collapsed": false
   },
   "outputs": [
    {
     "data": {
      "image/png": "[encoded data removed]",
      "text/plain": [
       "<IPython.core.display.Image object>"
      ]
     },
     "metadata": {},
     "output_type": "display_data"
    }
   ],
   "source": [
    "circuit.show()"
   ]
  },
  {
   "cell_type": "code",
   "execution_count": 4,
   "metadata": {
    "collapsed": false
   },
   "outputs": [],
   "source": [
    "slh = single_sided_network.network_slh(n_cavity=5, n_nodes=2, topology='open')"
   ]
  },
  {
   "cell_type": "code",
   "execution_count": 5,
   "metadata": {
    "collapsed": false
   },
   "outputs": [
    {
     "data": {
      "text/latex": [
       "$\\begin{pmatrix}1\\end{pmatrix}$"
      ],
      "text/plain": [
       "[[1]]"
      ]
     },
     "execution_count": 5,
     "metadata": {},
     "output_type": "execute_result"
    }
   ],
   "source": [
    "slh.S"
   ]
  },
  {
   "cell_type": "code",
   "execution_count": 6,
   "metadata": {
    "collapsed": false
   },
   "outputs": [
    {
     "data": {
      "text/latex": [
       "$\\begin{pmatrix}\\sqrt{2} \\sqrt{\\kappa} \\hat{a}^{(c_{1})} + \\sqrt{2} \\sqrt{\\kappa} \\hat{a}^{(c_{2})}\\end{pmatrix}$"
      ],
      "text/plain": [
       "[[√2⋅√κ * â^(c₁) + √2⋅√κ * â^(c₂)]]"
      ]
     },
     "execution_count": 6,
     "metadata": {},
     "output_type": "execute_result"
    }
   ],
   "source": [
    "slh.L"
   ]
  },
  {
   "cell_type": "code",
   "execution_count": 7,
   "metadata": {
    "collapsed": false
   },
   "outputs": [
    {
     "data": {
      "text/latex": [
       "\\begin{align}\n",
       "  \\hat{H} &= \\hat{H}_0 + \\hat{H}_{\\text{int}} + \\hat{H}_{d_1} + \\hat{H}_{d_2}\\\\\n",
       "  \\hat{H}_0 &= - \\frac{g_{1}^{2}}{\\Delta_{1}} \\hat{a}^{(c_{1})\\dagger} \\hat{a}^{(c_{1})} - \\frac{g_{2}^{2}}{\\Delta_{2}} \\hat{a}^{(c_{2})\\dagger} \\hat{a}^{(c_{2})}\\\\\n",
       "  \\hat{H}_{\\text{int}} &= \\frac{g_{1}^{2}}{\\Delta_{1}} \\hat{\\Pi}_{g}^{(q_{1})} \\otimes \\hat{a}^{(c_{1})\\dagger} \\hat{a}^{(c_{1})} + i \\kappa \\hat{a}^{(c_{1})\\dagger} \\otimes \\hat{a}^{(c_{2})} + \\text{c.c.} + \\frac{g_{2}^{2}}{\\Delta_{2}} \\hat{\\Pi}_{g}^{(q_{2})} \\otimes \\hat{a}^{(c_{2})\\dagger} \\hat{a}^{(c_{2})}\\\\\n",
       "  \\hat{H}_{d_1} &= - \\frac{i \\Omega_{1} g_{1}}{2 \\Delta_{1}} \\left(\\hat{\\sigma}_{e,g}^{(q_{1})} \\otimes \\hat{a}^{(c_{1})} - \\text{c.c.}\\right)\\\\\n",
       "  \\hat{H}_{d_2} &= - \\frac{i \\Omega_{2} g_{2}}{2 \\Delta_{2}} \\left(\\hat{\\sigma}_{e,g}^{(q_{2})} \\otimes \\hat{a}^{(c_{2})} - \\text{c.c.}\\right)\\\\\n",
       "\\end{align}"
      ],
      "text/plain": [
       "<IPython.core.display.Latex object>"
      ]
     },
     "metadata": {},
     "output_type": "display_data"
    }
   ],
   "source": [
    "display_hamiltonian(slh.H)"
   ]
  },
  {
   "cell_type": "markdown",
   "metadata": {},
   "source": [
    "## Numerical Values"
   ]
  },
  {
   "cell_type": "code",
   "execution_count": 8,
   "metadata": {
    "collapsed": false
   },
   "outputs": [],
   "source": [
    "controls = sorted([sym for sym in slh.H.all_symbols() if sym.name.startswith('Omega')], key=str)"
   ]
  },
  {
   "cell_type": "code",
   "execution_count": 9,
   "metadata": {
    "collapsed": true
   },
   "outputs": [],
   "source": [
    "# from algebra import generate_num_vals_code\n",
    "# generate_num_vals_code(slh.all_symbols())"
   ]
  },
  {
   "cell_type": "code",
   "execution_count": 10,
   "metadata": {
    "collapsed": false
   },
   "outputs": [],
   "source": [
    "Delta =  5000.0  # MHz\n",
    "g     =    50.0  # MHz\n",
    "kappa =     0.5  # MHz\n",
    "E0    =    70.0  # MHz\n",
    "t0    = -4    # microsec\n",
    "T     =  4    # microsec\n",
    "nt    = 2001\n",
    "num_vals = {\n",
    "    Symbol('Delta_1', real=True):   Delta,\n",
    "    Symbol('Delta_2', real=True):   Delta,\n",
    "    Symbol('g_2', positive=True):   g,\n",
    "    Symbol('g_1', positive=True):   g,\n",
    "    Symbol('kappa', positive=True): kappa,\n",
    "}"
   ]
  },
  {
   "cell_type": "markdown",
   "metadata": {},
   "source": [
    "## Time Grid and Guess Pulse"
   ]
  },
  {
   "cell_type": "code",
   "execution_count": 11,
   "metadata": {
    "collapsed": true
   },
   "outputs": [],
   "source": [
    "tgrid = QDYN.pulse.pulse_tgrid(t0=t0, T=T, nt=nt) # microsec"
   ]
  },
  {
   "cell_type": "code",
   "execution_count": 12,
   "metadata": {
    "collapsed": true
   },
   "outputs": [],
   "source": [
    "p = QDYN.pulse.Pulse(\n",
    "    tgrid, amplitude=(E0 * blackman(tgrid, t0, T)),\n",
    "    time_unit='microsec', ampl_unit='MHz')"
   ]
  },
  {
   "cell_type": "code",
   "execution_count": 13,
   "metadata": {
    "collapsed": true
   },
   "outputs": [],
   "source": [
    "controls = OrderedDict([\n",
    "    (Symbol('Omega_1'), p.copy()),\n",
    "    (Symbol('Omega_2'), p.copy()),\n",
    "])"
   ]
  },
  {
   "cell_type": "markdown",
   "metadata": {},
   "source": [
    "## OCT for forward transfer"
   ]
  },
  {
   "cell_type": "code",
   "execution_count": 14,
   "metadata": {
    "collapsed": false
   },
   "outputs": [],
   "source": [
    "model = qdyn_model.make_qdyn_oct_model(\n",
    "    slh, num_vals, controls, energy_unit='MHz',\n",
    "    mcwf=False, non_herm=False, oct_target='excitation_transfer_fw')"
   ]
  },
  {
   "cell_type": "code",
   "execution_count": 15,
   "metadata": {
    "collapsed": true
   },
   "outputs": [],
   "source": [
    "mkdir(\"./NO_FB/fw_oct001/\")"
   ]
  },
  {
   "cell_type": "code",
   "execution_count": 16,
   "metadata": {
    "collapsed": true
   },
   "outputs": [],
   "source": [
    "model.write_to_runfolder(\"./NO_FB/fw_oct001/\")"
   ]
  }
 ],
 "metadata": {
  "anaconda-cloud": {},
  "kernelspec": {
   "display_name": "Python [default]",
   "language": "python",
   "name": "python3"
  },
  "language_info": {
   "codemirror_mode": {
    "name": "ipython",
    "version": 3
   },
   "file_extension": ".py",
   "mimetype": "text/x-python",
   "name": "python",
   "nbconvert_exporter": "python",
   "pygments_lexer": "ipython3",
   "version": "3.5.2"
  },
  "toc": {
   "colors": {
    "hover_highlight": "#DAA520",
    "running_highlight": "#FF0000",
    "selected_highlight": "#FFD700"
   },
   "moveMenuLeft": true,
   "nav_menu": {
    "height": "102px",
    "width": "252px"
   },
   "navigate_menu": true,
   "number_sections": true,
   "sideBar": true,
   "threshold": 4,
   "toc_cell": false,
   "toc_section_display": "block",
   "toc_window_display": false
  }
 },
 "nbformat": 4,
 "nbformat_minor": 1
}

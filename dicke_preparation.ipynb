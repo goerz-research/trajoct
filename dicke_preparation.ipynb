{
 "cells": [
  {
   "cell_type": "code",
   "execution_count": null,
   "metadata": {
    "collapsed": false
   },
   "outputs": [],
   "source": [
    "import sympy\n",
    "from sympy import Symbol, sqrt, cos, pi, symbols\n",
    "import numpy as np\n",
    "import matplotlib.pylab as plt\n",
    "\n",
    "import qnet\n",
    "from qnet.algebra import ScalarTimesOperator, pattern\n",
    "\n",
    "import QDYN\n",
    "\n",
    "from notebook_plots import plot_bs_decay, display_hamiltonian, display_eq\n",
    "from single_sided_network import network_slh\n",
    "from single_sided_node import node_slh\n",
    "from qdyn_model import make_qdyn_oct_model"
   ]
  },
  {
   "cell_type": "code",
   "execution_count": null,
   "metadata": {
    "collapsed": false
   },
   "outputs": [],
   "source": [
    "%load_ext autoreload\n",
    "%autoreload 2"
   ]
  },
  {
   "cell_type": "code",
   "execution_count": null,
   "metadata": {
    "collapsed": true
   },
   "outputs": [],
   "source": [
    "qnet.init_printing()"
   ]
  },
  {
   "cell_type": "markdown",
   "metadata": {},
   "source": [
    "$\n",
    "\\newcommand{ket}[1]{\\vert #1 \\rangle}\n",
    "\\newcommand{bra}[1]{\\langle #1 \\vert}\n",
    "\\newcommand{Op}[1]{\\hat{#1}}\n",
    "$"
   ]
  },
  {
   "cell_type": "markdown",
   "metadata": {},
   "source": [
    "# Optimized Initialization of a Dicke State"
   ]
  },
  {
   "cell_type": "markdown",
   "metadata": {},
   "source": [
    "## System description"
   ]
  },
  {
   "cell_type": "markdown",
   "metadata": {},
   "source": [
    "### Description of a network node"
   ]
  },
  {
   "cell_type": "markdown",
   "metadata": {},
   "source": [
    "Each node of our network consists of a driven $\\Lambda$-type atom embedded in a cavity [@CiracPRL1997]. After adiabatic elimination of the $\\ket{r}$-state, the Hamiltonian and Lindblad operator of the node read"
   ]
  },
  {
   "cell_type": "code",
   "execution_count": null,
   "metadata": {
    "collapsed": false
   },
   "outputs": [],
   "source": [
    "slh_node = node_slh(1, n_cavity=4)\n",
    "display_hamiltonian(slh_node.H)"
   ]
  },
  {
   "cell_type": "markdown",
   "metadata": {},
   "source": [
    "and"
   ]
  },
  {
   "cell_type": "code",
   "execution_count": null,
   "metadata": {
    "collapsed": false
   },
   "outputs": [],
   "source": [
    "display_eq('\\Op{L} ', slh_node.L)"
   ]
  },
  {
   "cell_type": "markdown",
   "metadata": {},
   "source": [
    "respectively."
   ]
  },
  {
   "cell_type": "markdown",
   "metadata": {},
   "source": [
    "Adding a coherent displacement feeding into the node additionally drives the cavity:"
   ]
  },
  {
   "cell_type": "code",
   "execution_count": null,
   "metadata": {
    "collapsed": false
   },
   "outputs": [],
   "source": [
    "Ω_α = Symbol('Omega_alpha'); κ = Symbol('kappa', positive=True)\n",
    "H_node_driven = (slh_node << qnet.cc.Displace('W', alpha=Ω_α.conjugate()/sqrt(κ))).toSLH().H\n",
    "H_node_driven"
   ]
  },
  {
   "cell_type": "markdown",
   "metadata": {},
   "source": [
    "Here, we have renormalized the displacement amplitude $\\alpha$ as $\\Omega_a = \\alpha^* / \\sqrt{\\kappa}$"
   ]
  },
  {
   "cell_type": "markdown",
   "metadata": {},
   "source": [
    "It is instructive to write out this Hamiltonian in a matrix representation,"
   ]
  },
  {
   "cell_type": "code",
   "execution_count": null,
   "metadata": {
    "collapsed": false
   },
   "outputs": [],
   "source": [
    "display_eq('\\Op{H}', qnet.convert.convert_to_sympy_matrix(H_node_driven))"
   ]
  },
  {
   "cell_type": "markdown",
   "metadata": {},
   "source": [
    "where the rows/colums correspond to the following quantum numbers:"
   ]
  },
  {
   "cell_type": "code",
   "execution_count": null,
   "metadata": {
    "collapsed": false
   },
   "outputs": [],
   "source": [
    "slh_node.H.space.basis"
   ]
  },
  {
   "cell_type": "markdown",
   "metadata": {},
   "source": [
    "This illustrates how the static interaction Hamiltonian $\\Op{H}_{\\text{int}}$ acts to shift a subset of levels into resonance:\n",
    "* The driven sideband $\\ket{g, n+1} \\leftrightarrow \\ket{e, n}$ via the control $\\Omega_1$ is resonant only for $n=0$, but is detuned by $n \\frac{g^2}{\\Delta}$ for $n > 0$.\n",
    "* The driven excitation of the cavity $\\ket{g/e, n} \\leftrightarrow \\ket{g/e, n+1}$ via the control $\\Omega_{\\alpha}$ is resonant only for the ground state $\\ket{g}$ of the qubit, but is detuned by $n \\frac{g^2}{\\Delta}$ when the qubit is in the excited state $\\ket{e}$"
   ]
  },
  {
   "cell_type": "markdown",
   "metadata": {},
   "source": [
    "### Four-node network"
   ]
  },
  {
   "cell_type": "markdown",
   "metadata": {},
   "source": [
    "We now consider four of the above nodes, with feedback through a beamsplitter"
   ]
  },
  {
   "cell_type": "code",
   "execution_count": null,
   "metadata": {
    "collapsed": true
   },
   "outputs": [],
   "source": [
    "n_nodes = 4"
   ]
  },
  {
   "cell_type": "code",
   "execution_count": null,
   "metadata": {
    "collapsed": false
   },
   "outputs": [],
   "source": [
    "slh = network_slh(n_cavity=3, n_nodes=n_nodes, topology='driven_bs_fb')"
   ]
  },
  {
   "cell_type": "markdown",
   "metadata": {},
   "source": [
    "The Lindblad operator of the total network corresponds to the sum of Lindblad operators of the individual nodes"
   ]
  },
  {
   "cell_type": "code",
   "execution_count": null,
   "metadata": {
    "collapsed": false
   },
   "outputs": [],
   "source": [
    "display_eq('\\Op{L}', slh.L)"
   ]
  },
  {
   "cell_type": "markdown",
   "metadata": {},
   "source": [
    "Note that this allows for constructive or destructive interference between the individual terms: The system is in a *dark state* if $\\bra{\\Psi} \\Op{L} \\ket{\\Psi} = 0$"
   ]
  },
  {
   "cell_type": "markdown",
   "metadata": {},
   "source": [
    "The presence of the beamsplitter results in the decay rate depending on the mixing angle $\\theta$ of the beamsplitter"
   ]
  },
  {
   "cell_type": "code",
   "execution_count": null,
   "metadata": {
    "collapsed": false
   },
   "outputs": [],
   "source": [
    "plot_bs_decay(slh.Ls[0])"
   ]
  },
  {
   "cell_type": "code",
   "execution_count": null,
   "metadata": {
    "collapsed": false
   },
   "outputs": [],
   "source": [
    "θ = Symbol('theta', real=True)\n",
    "slh.L.substitute({θ: 3*sympy.pi/2}).simplify_scalar()"
   ]
  },
  {
   "cell_type": "markdown",
   "metadata": {},
   "source": [
    "The Hamiltonian of the entire network reads as"
   ]
  },
  {
   "cell_type": "code",
   "execution_count": null,
   "metadata": {
    "collapsed": false,
    "scrolled": true
   },
   "outputs": [],
   "source": [
    "display_hamiltonian(slh.H)"
   ]
  },
  {
   "cell_type": "markdown",
   "metadata": {},
   "source": [
    "## Dimensionless Units and Choice of Parameters"
   ]
  },
  {
   "cell_type": "markdown",
   "metadata": {},
   "source": [
    "All of the symbols in the Hamiltonian (including the control fields) are in units of energy. In order to work with dimensionless numbers, we express these energies in units of $g$. This implies time units of $\\hbar/g$."
   ]
  },
  {
   "cell_type": "markdown",
   "metadata": {},
   "source": [
    "The controls are"
   ]
  },
  {
   "cell_type": "code",
   "execution_count": null,
   "metadata": {
    "collapsed": false
   },
   "outputs": [],
   "source": [
    "control_syms = sorted([sym for sym in slh.H.all_symbols() if sym.name.startswith('Omega')], key=str)\n",
    "control_syms"
   ]
  },
  {
   "cell_type": "markdown",
   "metadata": {},
   "source": [
    "This leaves the remaining free symbols"
   ]
  },
  {
   "cell_type": "code",
   "execution_count": null,
   "metadata": {
    "collapsed": false
   },
   "outputs": [],
   "source": [
    "syms = slh.all_symbols().difference(control_syms);\n",
    "syms"
   ]
  },
  {
   "cell_type": "markdown",
   "metadata": {},
   "source": [
    "which we set as follows, with all nodes having identical parameters"
   ]
  },
  {
   "cell_type": "code",
   "execution_count": null,
   "metadata": {
    "collapsed": false
   },
   "outputs": [],
   "source": [
    "Delta =   100.0\n",
    "g     =     1.0 # by definition\n",
    "kappa =     0.01\n",
    "E0    =     1.4\n",
    "theta = 0.0 * np.pi\n",
    "num_vals = {\n",
    "    Symbol('kappa', positive=True): kappa,\n",
    "    Symbol('theta', real=True):     theta,\n",
    "}\n",
    "for i_node in range(n_nodes):\n",
    "    num_vals[Symbol('Delta_%d' % (i_node + 1), real=True)] = Delta\n",
    "    num_vals[Symbol('g_%d' % (i_node + 1), positive=True)] = g\n",
    "num_vals"
   ]
  },
  {
   "cell_type": "markdown",
   "metadata": {},
   "source": [
    "In total, this leads to the following scalar coefficients in the Hamiltonian"
   ]
  },
  {
   "cell_type": "code",
   "execution_count": null,
   "metadata": {
    "collapsed": false
   },
   "outputs": [],
   "source": [
    "{str(t.coeff): t.coeff.subs(num_vals) for t in pattern(head=ScalarTimesOperator).findall(slh.H)}"
   ]
  },
  {
   "cell_type": "markdown",
   "metadata": {},
   "source": [
    "## Overview of the Protocol"
   ]
  },
  {
   "cell_type": "markdown",
   "metadata": {},
   "source": [
    "Note that except for $\\Op{H}_{\\alpha}$, the Hamiltonian preserves excitations. We therefore propose a two-step protocol for the initialization of a Dicke state. Conceptually, for time $t < 0$, we used the cavity drive and local operation to excite the first $N/2$ qubits. Then, for $t > 0$, we exploit the channel-meditated interaction between the nodes to generate the entangled Dicke state, while keeping the system in a dark state in order to suppress dissipation."
   ]
  },
  {
   "cell_type": "markdown",
   "metadata": {},
   "source": [
    "The initialization step can be performed through the following steps:\n",
    "* Excite the cavity on each node by driving $\\Op{H}_{\\alpha}$\n",
    "* On the first $N/2$ nodes, drive the sideband transition to transfer the excitation to the qubit\n",
    "* Wait for the excitation in the second $N/2$ nodes to decay to the ground state"
   ]
  },
  {
   "cell_type": "markdown",
   "metadata": {},
   "source": [
    "The total scheme is defined on a time grid as follows:"
   ]
  },
  {
   "cell_type": "code",
   "execution_count": null,
   "metadata": {
    "collapsed": false
   },
   "outputs": [],
   "source": [
    "tgrid_start = -1000\n",
    "tgrid_end =  1000\n",
    "nt = tgrid_end - tgrid_start + 1\n",
    "tgrid = QDYN.pulse.pulse_tgrid(t0=tgrid_start, T=tgrid_end, nt=nt)"
   ]
  },
  {
   "cell_type": "markdown",
   "metadata": {},
   "source": [
    "## Implementation of the initialization step"
   ]
  },
  {
   "cell_type": "markdown",
   "metadata": {},
   "source": [
    "We build a guess for a initialization scheme on a series of Blackman pulses, where each pulse acting for a duration of $T$ with peak amplitude $E_0$ has the shape"
   ]
  },
  {
   "cell_type": "code",
   "execution_count": null,
   "metadata": {
    "collapsed": false
   },
   "outputs": [],
   "source": [
    "a, b, E0, t, T, μ, t_π = sympy.symbols(\"a b E_0, t, T, mu, t_pi\", positive=True)\n",
    "B_form = (E0/2) * (1 - a - cos(2 * pi * t/T) + a * cos(4 * pi* t/T))\n",
    "display_eq('B(t)', B_form)"
   ]
  },
  {
   "cell_type": "markdown",
   "metadata": {},
   "source": [
    "with $a = 0.16$. This shape looks almost identical to a Gaussian with covering a $\\pm 3\\sigma$ interval in the window $T$, but unlike the Gaussian, the Blackman shape is exactly zero at 0 and $T$."
   ]
  },
  {
   "cell_type": "code",
   "execution_count": null,
   "metadata": {
    "collapsed": true
   },
   "outputs": [],
   "source": [
    "a_blackman = 0.16"
   ]
  },
  {
   "cell_type": "markdown",
   "metadata": {},
   "source": [
    "If we assume that the pulse appears in the Hamiltonian with a prefactor $\\mu$, the effective pulse aread covered per unit $T$ is "
   ]
  },
  {
   "cell_type": "code",
   "execution_count": null,
   "metadata": {
    "collapsed": false
   },
   "outputs": [],
   "source": [
    "Ωeff_form = μ * (sympy.integrate(B_form, (t, 0, T)) / T).simplify()\n",
    "display_eq(r'\\Omega_{\\text{eff}}', Ωeff_form)"
   ]
  },
  {
   "cell_type": "markdown",
   "metadata": {},
   "source": [
    "In a two-level system (with zero detuning), this will lead to a population inversion in the time"
   ]
  },
  {
   "cell_type": "code",
   "execution_count": null,
   "metadata": {
    "collapsed": false
   },
   "outputs": [],
   "source": [
    "t_pi_form = pi / (2 * Ωeff_form).subs({1-a: b}) # protect 1-a, so sympy doesn't do weird signs\n",
    "display_eq(t_π, t_pi_form.subs({b: 1-a}))"
   ]
  },
  {
   "cell_type": "markdown",
   "metadata": {},
   "source": [
    "Alternatively, for a fixed time $t_\\pi$, we have to choose the amplitude as"
   ]
  },
  {
   "cell_type": "code",
   "execution_count": null,
   "metadata": {
    "collapsed": false
   },
   "outputs": [],
   "source": [
    "E_pi_form = sympy.solve(t_pi_form - t_π, E0)[0].subs({b: 1-a})\n",
    "display_eq('E_\\pi', E_pi_form)"
   ]
  },
  {
   "cell_type": "code",
   "execution_count": null,
   "metadata": {
    "collapsed": false
   },
   "outputs": [],
   "source": [
    "def pi_pulse(tgrid, t_start, t_stop, mu):\n",
    "    E0 = sympy.N(E_pi_form.subs({t_π: t_stop-t_start, μ: mu, a: a_blackman}))\n",
    "    pulse = QDYN.pulse.Pulse(\n",
    "        tgrid, amplitude=(E0 * QDYN.pulse.blackman(tgrid, t_start, t_stop)),\n",
    "        time_unit='dimensionless', ampl_unit='dimensionless', freq_unit='dimensionless')\n",
    "    return pulse"
   ]
  },
  {
   "cell_type": "code",
   "execution_count": null,
   "metadata": {
    "collapsed": true
   },
   "outputs": [],
   "source": [
    "def initialization_controls():\n",
    "    controls = {\n",
    "        Symbol('Omega_alpha'): pi_pulse(tgrid, t_start=-200, t_stop=-100, mu=0.5*np.sqrt(2)),\n",
    "    }\n",
    "    pulse_qubit = pi_pulse(tgrid, t_start=-100, t_stop=0, mu=1.0)\n",
    "    for ctrl_sym in [Symbol('Omega_%d' % ind) for ind in range(1, n_nodes+1)]:\n",
    "        controls[ctrl_sym] = pulse_qubit\n",
    "    return controls"
   ]
  },
  {
   "cell_type": "code",
   "execution_count": null,
   "metadata": {
    "collapsed": false
   },
   "outputs": [],
   "source": [
    "initialization_model = make_qdyn_oct_model(\n",
    "    slh, num_vals, initialization_controls(), energy_unit='dimensionless',\n",
    "    mcwf=True, non_herm=True, oct_target='dicke',\n",
    "    lambda_a=1e-4)"
   ]
  },
  {
   "cell_type": "markdown",
   "metadata": {},
   "source": [
    "## Example optimization commands\n",
    "\n",
    "*   hilbert space optimization\n",
    "\n",
    "    ```OMP_NUM_THREADS=1 qdyn_optimize --internal-units=GHz_units.txt --debug --J_T=J_T_re .```\n",
    "\n",
    "*   trajectory optimization (model with `mcwf=True`)\n",
    "\n",
    "    ```OMP_NUM_THREADS=1 qdyn_optimize --internal-units=GHz_units.txt --n-trajs=20 --J_T=J_T_re .```"
   ]
  },
  {
   "cell_type": "code",
   "execution_count": null,
   "metadata": {
    "collapsed": true
   },
   "outputs": [],
   "source": []
  }
 ],
 "metadata": {
  "anaconda-cloud": {},
  "kernelspec": {
   "display_name": "Python [default]",
   "language": "python",
   "name": "python3"
  },
  "language_info": {
   "codemirror_mode": {
    "name": "ipython",
    "version": 3
   },
   "file_extension": ".py",
   "mimetype": "text/x-python",
   "name": "python",
   "nbconvert_exporter": "python",
   "pygments_lexer": "ipython3",
   "version": "3.5.2"
  },
  "toc": {
   "colors": {
    "hover_highlight": "#DAA520",
    "running_highlight": "#FF0000",
    "selected_highlight": "#FFD700"
   },
   "moveMenuLeft": true,
   "nav_menu": {
    "height": "395px",
    "width": "580px"
   },
   "navigate_menu": true,
   "number_sections": true,
   "sideBar": true,
   "threshold": 4,
   "toc_cell": false,
   "toc_section_display": "block",
   "toc_window_display": false
  }
 },
 "nbformat": 4,
 "nbformat_minor": 2
}

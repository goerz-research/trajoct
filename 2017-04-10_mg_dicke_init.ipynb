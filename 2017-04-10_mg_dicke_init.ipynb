{
 "cells": [
  {
   "cell_type": "code",
   "execution_count": 1,
   "metadata": {
    "collapsed": false
   },
   "outputs": [],
   "source": [
    "import sympy\n",
    "from sympy import Symbol, sqrt, cos, pi, symbols\n",
    "import numpy as np\n",
    "import matplotlib.pylab as plt\n",
    "\n",
    "import qnet\n",
    "from qnet.algebra import *\n",
    "\n",
    "import QDYN\n",
    "\n",
    "from notebook_plots import plot_bs_decay, display_hamiltonian, display_eq, show_summary_dicke\n",
    "from single_sided_network import network_slh\n",
    "from single_sided_node import node_slh\n",
    "from qdyn_model import make_qdyn_oct_model"
   ]
  },
  {
   "cell_type": "code",
   "execution_count": 2,
   "metadata": {
    "collapsed": false
   },
   "outputs": [],
   "source": [
    "%load_ext autoreload\n",
    "%autoreload 2"
   ]
  },
  {
   "cell_type": "code",
   "execution_count": 3,
   "metadata": {
    "collapsed": true
   },
   "outputs": [],
   "source": [
    "qnet.init_printing()"
   ]
  },
  {
   "cell_type": "markdown",
   "metadata": {},
   "source": [
    "$\n",
    "\\newcommand{ket}[1]{\\vert #1 \\rangle}\n",
    "\\newcommand{bra}[1]{\\langle #1 \\vert}\n",
    "\\newcommand{Op}[1]{\\hat{#1}}\n",
    "$"
   ]
  },
  {
   "cell_type": "markdown",
   "metadata": {},
   "source": [
    "# Optimized Initialization of a Dicke State"
   ]
  },
  {
   "cell_type": "markdown",
   "metadata": {},
   "source": [
    "## System description"
   ]
  },
  {
   "cell_type": "markdown",
   "metadata": {},
   "source": [
    "### Description of a network node"
   ]
  },
  {
   "cell_type": "markdown",
   "metadata": {},
   "source": [
    "Each node of our network consists of a driven $\\Lambda$-type atom embedded in a cavity [@CiracPRL1997]. After adiabatic elimination of the $\\ket{r}$-state, the Hamiltonian and Lindblad operator of the node read"
   ]
  },
  {
   "cell_type": "code",
   "execution_count": 4,
   "metadata": {
    "collapsed": false
   },
   "outputs": [
    {
     "data": {
      "text/latex": [
       "\\begin{align}\n",
       "  \\hat{H} &= \\hat{H}_0 + \\hat{H}_{\\text{int}} + \\hat{H}_{1}\\\\\n",
       "  \\hat{H}_0 &= - \\frac{g_{1}^{2}}{\\Delta_{1}} \\hat{a}^{(c_{1})\\dagger} \\hat{a}^{(c_{1})}\\\\\n",
       "  \\hat{H}_{\\text{int}} &= \\frac{g_{1}^{2}}{\\Delta_{1}} \\hat{\\Pi}_{g}^{(q_{1})} \\otimes \\hat{a}^{(c_{1})\\dagger} \\hat{a}^{(c_{1})}\\\\\n",
       "  \\hat{H}_{1} &= - \\frac{i \\Omega_{1} g_{1}}{2 \\Delta_{1}} \\left(\\hat{\\sigma}_{e,g}^{(q_{1})} \\otimes \\hat{a}^{(c_{1})} - \\text{c.c.}\\right)\\\\\n",
       "\\end{align}"
      ],
      "text/plain": [
       "<IPython.core.display.Latex object>"
      ]
     },
     "metadata": {},
     "output_type": "display_data"
    }
   ],
   "source": [
    "slh_node = node_slh(1, n_cavity=4)\n",
    "display_hamiltonian(slh_node.H)"
   ]
  },
  {
   "cell_type": "markdown",
   "metadata": {},
   "source": [
    "and"
   ]
  },
  {
   "cell_type": "code",
   "execution_count": 5,
   "metadata": {
    "collapsed": false
   },
   "outputs": [
    {
     "data": {
      "text/latex": [
       "\\begin{equation}\n",
       "\\Op{L}  = \\begin{pmatrix}\\sqrt{2} \\sqrt{\\kappa} \\hat{a}^{(c_{1})}\\end{pmatrix}\n",
       "\\end{equation}"
      ],
      "text/plain": [
       "<IPython.core.display.Latex object>"
      ]
     },
     "metadata": {},
     "output_type": "display_data"
    }
   ],
   "source": [
    "display_eq('\\Op{L} ', slh_node.L)"
   ]
  },
  {
   "cell_type": "markdown",
   "metadata": {},
   "source": [
    "respectively."
   ]
  },
  {
   "cell_type": "markdown",
   "metadata": {},
   "source": [
    "Adding a coherent displacement feeding into the node additionally drives the cavity:"
   ]
  },
  {
   "cell_type": "code",
   "execution_count": 6,
   "metadata": {
    "collapsed": false
   },
   "outputs": [
    {
     "data": {
      "text/latex": [
       "$- \\frac{i \\Omega_{1} g_{1}}{2 \\Delta_{1}} \\left(\\hat{\\sigma}_{e,g}^{(q_{1})} \\otimes \\hat{a}^{(c_{1})} - \\hat{\\sigma}_{g,e}^{(q_{1})} \\otimes \\hat{a}^{(c_{1})\\dagger}\\right) + \\frac{g_{1}^{2}}{\\Delta_{1}} \\hat{\\Pi}_{g}^{(q_{1})} \\otimes \\hat{a}^{(c_{1})\\dagger} \\hat{a}^{(c_{1})} + \\frac{i}{2} \\left(- \\lambda \\overline{\\Omega_{\\alpha}} \\hat{a}^{(c_{1})\\dagger} + \\Omega_{\\alpha} \\lambda \\hat{a}^{(c_{1})}\\right) - \\frac{g_{1}^{2}}{\\Delta_{1}} \\hat{a}^{(c_{1})\\dagger} \\hat{a}^{(c_{1})}$"
      ],
      "text/plain": [
       "-I*Ω_1*g_1/(2*Δ_1) * (σ̂_e,g^(q₁) ⊗ â^(c₁) - σ̂_g,e^(q₁) ⊗ â^(c₁)†) + g_1**2/Δ_1 * Π̂_g^(q₁) ⊗ â^(c₁)† â^(c₁) + I/2 * (-λ*conjugate(Ω_α) * â^(c₁)† + Ωₐₗₚₕₐ⋅λ * â^(c₁)) - g_1**2/Δ_1 * â^(c₁)† â^(c₁)"
      ]
     },
     "execution_count": 6,
     "metadata": {},
     "output_type": "execute_result"
    }
   ],
   "source": [
    "Ω_α, α = symbols('Omega_alpha alpha')\n",
    "κ = Symbol('kappa', positive=True); λ = Symbol('lambda', real=True)\n",
    "H_node_driven = (slh_node << qnet.cc.Displace('W', alpha=α)).toSLH().H.substitute(\n",
    "    {α: λ/sqrt(2*κ) * Ω_α.conjugate()})\n",
    "H_node_driven"
   ]
  },
  {
   "cell_type": "markdown",
   "metadata": {},
   "source": [
    "Here, we have renormalized the displacement amplitude as $\\alpha \\rightarrow \\frac{\\lambda \\Omega_\\alpha^*}{\\sqrt{2 \\kappa}}$. The factor $\\sqrt{2\\kappa}$ ensures that $\\Omega_a$ is in units of energy, and the dimensionless $\\lambda = g_1 / \\Delta_1$ rescales $\\Omega_\\alpha$ have comparable amplitudes as $\\Omega_1$."
   ]
  },
  {
   "cell_type": "markdown",
   "metadata": {},
   "source": [
    "It is instructive to write out this Hamiltonian in a matrix representation,"
   ]
  },
  {
   "cell_type": "code",
   "execution_count": 7,
   "metadata": {
    "collapsed": false
   },
   "outputs": [
    {
     "data": {
      "text/latex": [
       "\\begin{equation}\n",
       "\\Op{H} = \\left[\\begin{matrix}0 & \\frac{i \\Omega_{\\alpha}}{2} \\lambda & 0 & 0 & 0 & 0 & 0 & 0\\\\- \\frac{i \\lambda}{2} \\overline{\\Omega_{\\alpha}} & 0 & \\frac{i \\Omega_{\\alpha}}{2} \\sqrt{2} \\lambda & 0 & \\frac{i \\Omega_{1} g_{1}}{2 \\Delta_{1}} & 0 & 0 & 0\\\\0 & - \\frac{i \\lambda}{2} \\sqrt{2} \\overline{\\Omega_{\\alpha}} & 0 & \\frac{i \\Omega_{\\alpha}}{2} \\sqrt{3} \\lambda & 0 & \\frac{\\sqrt{2} i \\Omega_{1} g_{1}}{2 \\Delta_{1}} & 0 & 0\\\\0 & 0 & - \\frac{i \\lambda}{2} \\sqrt{3} \\overline{\\Omega_{\\alpha}} & 0 & 0 & 0 & \\frac{\\sqrt{3} i \\Omega_{1} g_{1}}{2 \\Delta_{1}} & 0\\\\0 & - \\frac{i \\Omega_{1} g_{1}}{2 \\Delta_{1}} & 0 & 0 & 0 & \\frac{i \\Omega_{\\alpha}}{2} \\lambda & 0 & 0\\\\0 & 0 & - \\frac{\\sqrt{2} i \\Omega_{1} g_{1}}{2 \\Delta_{1}} & 0 & - \\frac{i \\lambda}{2} \\overline{\\Omega_{\\alpha}} & - \\frac{g_{1}^{2}}{\\Delta_{1}} & \\frac{i \\Omega_{\\alpha}}{2} \\sqrt{2} \\lambda & 0\\\\0 & 0 & 0 & - \\frac{\\sqrt{3} i \\Omega_{1} g_{1}}{2 \\Delta_{1}} & 0 & - \\frac{i \\lambda}{2} \\sqrt{2} \\overline{\\Omega_{\\alpha}} & - \\frac{2 g_{1}^{2}}{\\Delta_{1}} & \\frac{i \\Omega_{\\alpha}}{2} \\sqrt{3} \\lambda\\\\0 & 0 & 0 & 0 & 0 & 0 & - \\frac{i \\lambda}{2} \\sqrt{3} \\overline{\\Omega_{\\alpha}} & - \\frac{3 g_{1}^{2}}{\\Delta_{1}}\\end{matrix}\\right]\n",
       "\\end{equation}"
      ],
      "text/plain": [
       "<IPython.core.display.Latex object>"
      ]
     },
     "metadata": {},
     "output_type": "display_data"
    }
   ],
   "source": [
    "display_eq('\\Op{H}', qnet.convert.convert_to_sympy_matrix(H_node_driven))"
   ]
  },
  {
   "cell_type": "markdown",
   "metadata": {},
   "source": [
    "where the rows/colums correspond to the following quantum numbers:"
   ]
  },
  {
   "cell_type": "code",
   "execution_count": 8,
   "metadata": {
    "collapsed": false
   },
   "outputs": [
    {
     "data": {
      "text/plain": [
       "('g,0', 'g,1', 'g,2', 'g,3', 'e,0', 'e,1', 'e,2', 'e,3')"
      ]
     },
     "execution_count": 8,
     "metadata": {},
     "output_type": "execute_result"
    }
   ],
   "source": [
    "slh_node.H.space.basis_labels"
   ]
  },
  {
   "cell_type": "markdown",
   "metadata": {},
   "source": [
    "This illustrates how the static interaction Hamiltonian $\\Op{H}_{\\text{int}}$ acts to shift a subset of levels into resonance:\n",
    "* The driven sideband $\\ket{g, n+1} \\leftrightarrow \\ket{e, n}$ via the control $\\Omega_1$ is resonant only for $n=0$, but is detuned by $n \\frac{g^2}{\\Delta}$ for $n > 0$.\n",
    "* The driven excitation of the cavity $\\ket{g/e, n} \\leftrightarrow \\ket{g/e, n+1}$ via the control $\\Omega_{\\alpha}$ is resonant only for the ground state $\\ket{g}$ of the qubit, but is detuned by $n \\frac{g^2}{\\Delta}$ when the qubit is in the excited state $\\ket{e}$"
   ]
  },
  {
   "cell_type": "markdown",
   "metadata": {},
   "source": [
    "### Network of multiple nodes"
   ]
  },
  {
   "cell_type": "markdown",
   "metadata": {},
   "source": [
    "We now consider `n_nodes` of the above nodes, with feedback through a beamsplitter"
   ]
  },
  {
   "cell_type": "code",
   "execution_count": 9,
   "metadata": {
    "collapsed": true
   },
   "outputs": [],
   "source": [
    "n_nodes = 2"
   ]
  },
  {
   "cell_type": "markdown",
   "metadata": {},
   "source": [
    "The cavity is truncated at"
   ]
  },
  {
   "cell_type": "code",
   "execution_count": 10,
   "metadata": {
    "collapsed": true
   },
   "outputs": [],
   "source": [
    "n_cavity = 2"
   ]
  },
  {
   "cell_type": "code",
   "execution_count": 11,
   "metadata": {
    "collapsed": false
   },
   "outputs": [],
   "source": [
    "slh = network_slh(n_cavity=n_cavity, n_nodes=n_nodes, topology='driven_bs_fb')"
   ]
  },
  {
   "cell_type": "markdown",
   "metadata": {},
   "source": [
    "The Lindblad operator of the total network corresponds to the sum of Lindblad operators of the individual nodes"
   ]
  },
  {
   "cell_type": "code",
   "execution_count": 12,
   "metadata": {
    "collapsed": false
   },
   "outputs": [
    {
     "data": {
      "text/latex": [
       "\\begin{equation}\n",
       "\\Op{L} = \\begin{pmatrix}- \\frac{\\sqrt{2} \\sqrt{\\kappa} \\cos{\\left (\\theta \\right )}}{\\sin{\\left (\\theta \\right )} - 1} \\hat{a}^{(c_{1})} - \\frac{\\sqrt{2} \\sqrt{\\kappa} \\cos{\\left (\\theta \\right )}}{\\sin{\\left (\\theta \\right )} - 1} \\hat{a}^{(c_{2})}\\end{pmatrix}\n",
       "\\end{equation}"
      ],
      "text/plain": [
       "<IPython.core.display.Latex object>"
      ]
     },
     "metadata": {},
     "output_type": "display_data"
    }
   ],
   "source": [
    "display_eq('\\Op{L}', slh.L)"
   ]
  },
  {
   "cell_type": "markdown",
   "metadata": {},
   "source": [
    "Note that this allows for constructive or destructive interference between the individual terms: The system is in a *dark state* if $\\bra{\\Psi} \\Op{L} \\ket{\\Psi} = 0$"
   ]
  },
  {
   "cell_type": "markdown",
   "metadata": {},
   "source": [
    "The presence of the beamsplitter results in the decay rate depending on the mixing angle $\\theta$ of the beamsplitter"
   ]
  },
  {
   "cell_type": "code",
   "execution_count": 13,
   "metadata": {
    "collapsed": false
   },
   "outputs": [
    {
     "data": {
      "image/png": "[encoded data removed]",
      "text/plain": [
       "<matplotlib.figure.Figure at 0x7f23e666b588>"
      ]
     },
     "metadata": {},
     "output_type": "display_data"
    }
   ],
   "source": [
    "plot_bs_decay(slh.Ls[0])"
   ]
  },
  {
   "cell_type": "code",
   "execution_count": 14,
   "metadata": {
    "collapsed": false
   },
   "outputs": [
    {
     "data": {
      "text/latex": [
       "$\\begin{pmatrix}\\mathbb{0}\\end{pmatrix}$"
      ],
      "text/plain": [
       "[[0]]"
      ]
     },
     "execution_count": 14,
     "metadata": {},
     "output_type": "execute_result"
    }
   ],
   "source": [
    "θ = Symbol('theta', real=True)\n",
    "slh.L.substitute({θ: 3*sympy.pi/2}).simplify_scalar()"
   ]
  },
  {
   "cell_type": "markdown",
   "metadata": {},
   "source": [
    "The Hamiltonian of the entire network reads as"
   ]
  },
  {
   "cell_type": "code",
   "execution_count": 15,
   "metadata": {
    "collapsed": false,
    "scrolled": true
   },
   "outputs": [
    {
     "data": {
      "text/latex": [
       "\\begin{align}\n",
       "  \\hat{H} &= \\hat{H}_0 + \\hat{H}_{\\text{int}} + \\hat{H}_{1} + \\hat{H}_{2} + \\hat{H}_{\\alpha}\\\\\n",
       "  \\hat{H}_0 &= - \\frac{g_{1}^{2}}{\\Delta_{1}} \\hat{a}^{(c_{1})\\dagger} \\hat{a}^{(c_{1})} - \\frac{g_{2}^{2}}{\\Delta_{2}} \\hat{a}^{(c_{2})\\dagger} \\hat{a}^{(c_{2})}\\\\\n",
       "  \\hat{H}_{\\text{int}} &= \\frac{g_{1}^{2}}{\\Delta_{1}} \\hat{\\Pi}_{g}^{(q_{1})} \\otimes \\hat{a}^{(c_{1})\\dagger} \\hat{a}^{(c_{1})} + \\left(i \\kappa \\hat{a}^{(c_{1})\\dagger} \\otimes \\hat{a}^{(c_{2})} + \\text{c.c.}\\right) + \\frac{g_{2}^{2}}{\\Delta_{2}} \\hat{\\Pi}_{g}^{(q_{2})} \\otimes \\hat{a}^{(c_{2})\\dagger} \\hat{a}^{(c_{2})}\\\\\n",
       "  \\hat{H}_{1} &= - \\frac{i \\Omega_{1} g_{1}}{2 \\Delta_{1}} \\left(\\hat{\\sigma}_{e,g}^{(q_{1})} \\otimes \\hat{a}^{(c_{1})} - \\text{c.c.}\\right)\\\\\n",
       "  \\hat{H}_{2} &= - \\frac{i \\Omega_{2} g_{2}}{2 \\Delta_{2}} \\left(\\hat{\\sigma}_{e,g}^{(q_{2})} \\otimes \\hat{a}^{(c_{2})} - \\text{c.c.}\\right)\\\\\n",
       "  \\hat{H}_{\\alpha} &= \\frac{\\sqrt{2} i g \\cos{\\left (\\theta \\right )} \\overline{\\Omega_{\\alpha}}}{2 \\Delta \\left(\\sin{\\left (\\theta \\right )} - 1\\right)} \\hat{a}^{(c_{1})\\dagger} - \\frac{\\sqrt{2} i \\Omega_{\\alpha} g \\cos{\\left (\\theta \\right )}}{2 \\Delta \\left(\\sin{\\left (\\theta \\right )} - 1\\right)} \\hat{a}^{(c_{1})} + \\frac{\\sqrt{2} i g \\cos{\\left (\\theta \\right )} \\overline{\\Omega_{\\alpha}}}{2 \\Delta \\left(\\sin{\\left (\\theta \\right )} - 1\\right)} \\hat{a}^{(c_{2})\\dagger} - \\frac{\\sqrt{2} i \\Omega_{\\alpha} g \\cos{\\left (\\theta \\right )}}{2 \\Delta \\left(\\sin{\\left (\\theta \\right )} - 1\\right)} \\hat{a}^{(c_{2})}\\\\\n",
       "\\end{align}"
      ],
      "text/plain": [
       "<IPython.core.display.Latex object>"
      ]
     },
     "metadata": {},
     "output_type": "display_data"
    }
   ],
   "source": [
    "display_hamiltonian(slh.H.substitute({λ: Symbol('g') / (Symbol('Delta')) }))"
   ]
  },
  {
   "cell_type": "code",
   "execution_count": 16,
   "metadata": {
    "collapsed": false,
    "scrolled": true
   },
   "outputs": [
    {
     "data": {
      "text/latex": [
       "\\begin{align}\n",
       "  \\hat{H} &= \\hat{H}_0 + \\hat{H}_{\\text{int}} + \\hat{H}_{1} + \\hat{H}_{2} + \\hat{H}_{\\alpha}\\\\\n",
       "  \\hat{H}_0 &= - \\frac{g_{1}^{2}}{\\Delta_{1}} \\hat{a}^{(c_{1})\\dagger} \\hat{a}^{(c_{1})} - \\frac{g_{2}^{2}}{\\Delta_{2}} \\hat{a}^{(c_{2})\\dagger} \\hat{a}^{(c_{2})}\\\\\n",
       "  \\hat{H}_{\\text{int}} &= \\frac{g_{1}^{2}}{\\Delta_{1}} \\hat{\\Pi}_{g}^{(q_{1})} \\otimes \\hat{a}^{(c_{1})\\dagger} \\hat{a}^{(c_{1})} + \\left(i \\kappa \\hat{a}^{(c_{1})\\dagger} \\otimes \\hat{a}^{(c_{2})} + \\text{c.c.}\\right) + \\frac{g_{2}^{2}}{\\Delta_{2}} \\hat{\\Pi}_{g}^{(q_{2})} \\otimes \\hat{a}^{(c_{2})\\dagger} \\hat{a}^{(c_{2})}\\\\\n",
       "  \\hat{H}_{1} &= - \\frac{i \\Omega_{1} g_{1}}{2 \\Delta_{1}} \\left(\\hat{\\sigma}_{e,g}^{(q_{1})} \\otimes \\hat{a}^{(c_{1})} - \\text{c.c.}\\right)\\\\\n",
       "  \\hat{H}_{2} &= - \\frac{i \\Omega_{2} g_{2}}{2 \\Delta_{2}} \\left(\\hat{\\sigma}_{e,g}^{(q_{2})} \\otimes \\hat{a}^{(c_{2})} - \\text{c.c.}\\right)\\\\\n",
       "  \\hat{H}_{\\alpha} &= - \\frac{\\sqrt{2} i g \\overline{\\Omega_{\\alpha}}}{2 \\Delta} \\hat{a}^{(c_{1})\\dagger} + \\frac{\\sqrt{2} i \\Omega_{\\alpha} g}{2 \\Delta} \\hat{a}^{(c_{1})} - \\frac{\\sqrt{2} i g \\overline{\\Omega_{\\alpha}}}{2 \\Delta} \\hat{a}^{(c_{2})\\dagger} + \\frac{\\sqrt{2} i \\Omega_{\\alpha} g}{2 \\Delta} \\hat{a}^{(c_{2})}\\\\\n",
       "\\end{align}"
      ],
      "text/plain": [
       "<IPython.core.display.Latex object>"
      ]
     },
     "metadata": {},
     "output_type": "display_data"
    }
   ],
   "source": [
    "display_hamiltonian(slh.H.substitute({λ: Symbol('g') / (Symbol('Delta')), θ:0}))"
   ]
  },
  {
   "cell_type": "markdown",
   "metadata": {},
   "source": [
    "## Dimensionless Units and Choice of Parameters"
   ]
  },
  {
   "cell_type": "markdown",
   "metadata": {},
   "source": [
    "All of the symbols in the Hamiltonian (including the control fields) are in units of energy. In order to work with dimensionless numbers, we express these energies in units of $g$. This implies time units of $\\hbar/g$."
   ]
  },
  {
   "cell_type": "markdown",
   "metadata": {},
   "source": [
    "The controls are"
   ]
  },
  {
   "cell_type": "code",
   "execution_count": 17,
   "metadata": {
    "collapsed": false
   },
   "outputs": [
    {
     "data": {
      "image/png": "[encoded data removed]",
      "text/latex": [
       "$$\\left [ \\Omega_{1}, \\quad \\Omega_{2}, \\quad \\Omega_{\\alpha}\\right ]$$"
      ],
      "text/plain": [
       "[Ω₁, Ω₂, Ωₐₗₚₕₐ]"
      ]
     },
     "execution_count": 17,
     "metadata": {},
     "output_type": "execute_result"
    }
   ],
   "source": [
    "control_syms = sorted([sym for sym in slh.H.all_symbols() if sym.name.startswith('Omega')], key=str)\n",
    "control_syms"
   ]
  },
  {
   "cell_type": "markdown",
   "metadata": {},
   "source": [
    "This leaves the remaining free symbols"
   ]
  },
  {
   "cell_type": "code",
   "execution_count": 18,
   "metadata": {
    "collapsed": false
   },
   "outputs": [
    {
     "data": {
      "image/png": "[encoded data removed]",
      "text/latex": [
       "$$\\left\\{\\Delta_{1}, \\Delta_{2}, g_{1}, g_{2}, \\kappa, \\lambda, \\theta\\right\\}$$"
      ],
      "text/plain": [
       "set([Δ₁, Δ₂, g₁, g₂, κ, λ, θ])"
      ]
     },
     "execution_count": 18,
     "metadata": {},
     "output_type": "execute_result"
    }
   ],
   "source": [
    "syms = slh.all_symbols().difference(control_syms);\n",
    "syms"
   ]
  },
  {
   "cell_type": "markdown",
   "metadata": {},
   "source": [
    "which we set as follows, with all nodes having identical parameters"
   ]
  },
  {
   "cell_type": "code",
   "execution_count": 19,
   "metadata": {
    "collapsed": false
   },
   "outputs": [
    {
     "data": {
      "image/png": "[encoded data removed]",
      "text/latex": [
       "$$\\left \\{ \\Delta_{1} : 100.0, \\quad \\Delta_{2} : 100.0, \\quad g_{1} : 1.0, \\quad g_{2} : 1.0, \\quad \\kappa : 0.01, \\quad \\lambda : 0.01, \\quad \\theta : 0.0\\right \\}$$"
      ],
      "text/plain": [
       "{Δ₁: 100.0, Δ₂: 100.0, g₁: 1.0, g₂: 1.0, κ: 0.01, λ: 0.01, θ: 0.0}"
      ]
     },
     "execution_count": 19,
     "metadata": {},
     "output_type": "execute_result"
    }
   ],
   "source": [
    "Delta =   100.0\n",
    "g     =     1.0 # by definition\n",
    "kappa =     0.01\n",
    "E0    =     1.4\n",
    "theta = 0.0 * np.pi\n",
    "num_vals = {\n",
    "    Symbol('kappa', positive=True): kappa,\n",
    "    Symbol('theta', real=True):     theta,\n",
    "    Symbol('lambda', real=True): g / Delta,\n",
    "}\n",
    "for i_node in range(n_nodes):\n",
    "    num_vals[Symbol('Delta_%d' % (i_node + 1), real=True)] = Delta\n",
    "    num_vals[Symbol('g_%d' % (i_node + 1), positive=True)] = g\n",
    "num_vals"
   ]
  },
  {
   "cell_type": "markdown",
   "metadata": {},
   "source": [
    "In total, this leads to the following scalar coefficients in the Hamiltonian"
   ]
  },
  {
   "cell_type": "code",
   "execution_count": 20,
   "metadata": {
    "collapsed": false
   },
   "outputs": [
    {
     "data": {
      "text/plain": [
       "{'-I*Omega_1*g_1/(2*Delta_1)': -0.005*I*Omega_1,\n",
       " '-I*Omega_2*g_2/(2*Delta_2)': -0.005*I*Omega_2,\n",
       " '-I*kappa': -0.01*I,\n",
       " '-g_1**2/Delta_1': -0.0100000000000000,\n",
       " '-g_2**2/Delta_2': -0.0100000000000000,\n",
       " '-sqrt(2)*I*Omega_alpha*lambda*cos(theta)/(2*sin(theta) - 2)': 0.005*sqrt(2)*I*Omega_alpha,\n",
       " 'I*Omega_1*g_1/(2*Delta_1)': 0.005*I*Omega_1,\n",
       " 'I*Omega_2*g_2/(2*Delta_2)': 0.005*I*Omega_2,\n",
       " 'I*kappa': 0.01*I,\n",
       " 'g_1**2/Delta_1': 0.0100000000000000,\n",
       " 'g_2**2/Delta_2': 0.0100000000000000,\n",
       " 'sqrt(2)*I*lambda*cos(theta)*conjugate(Omega_alpha)/(2*(sin(theta) - 1))': -0.005*sqrt(2)*I*conjugate(Omega_alpha)}"
      ]
     },
     "execution_count": 20,
     "metadata": {},
     "output_type": "execute_result"
    }
   ],
   "source": [
    "{str(t.coeff): t.coeff.subs(num_vals) for t in pattern(head=ScalarTimesOperator).findall(slh.H)}"
   ]
  },
  {
   "cell_type": "markdown",
   "metadata": {},
   "source": [
    "## Overview of the Protocol"
   ]
  },
  {
   "cell_type": "markdown",
   "metadata": {},
   "source": [
    "Note that except for $\\Op{H}_{\\alpha}$, the Hamiltonian preserves excitations. We therefore propose a two-step protocol for the initialization of a Dicke state. Conceptually, for time $t < 0$, we used the cavity drive and local operation to excite the first $N/2$ qubits. Then, for $t > 0$, we exploit the channel-meditated interaction between the nodes to generate the entangled Dicke state, while keeping the system in a dark state in order to suppress dissipation."
   ]
  },
  {
   "cell_type": "markdown",
   "metadata": {},
   "source": [
    "The initialization step can be performed through the following steps:\n",
    "* Excite the cavity on each node by driving $\\Op{H}_{\\alpha}$\n",
    "* On the first $N/2$ nodes, drive the sideband transition to transfer the excitation to the qubit\n",
    "* Wait for the excitation in the second $N/2$ nodes to decay to the ground state"
   ]
  },
  {
   "cell_type": "markdown",
   "metadata": {},
   "source": [
    "## Implementation of the initialization step"
   ]
  },
  {
   "cell_type": "markdown",
   "metadata": {},
   "source": [
    "### Realization of pi pulses"
   ]
  },
  {
   "cell_type": "markdown",
   "metadata": {},
   "source": [
    "We build a guess for a initialization scheme on a series of Blackman pulses, where each pulse acting for a duration of $T$ with peak amplitude $E_0$ has the shape"
   ]
  },
  {
   "cell_type": "code",
   "execution_count": 21,
   "metadata": {
    "collapsed": false
   },
   "outputs": [
    {
     "data": {
      "text/latex": [
       "\\begin{equation}\n",
       "B(t) = \\frac{E_{0}}{2} \\left(a \\cos{\\left (\\frac{4 \\pi}{T} t \\right )} - a - \\cos{\\left (\\frac{2 \\pi}{T} t \\right )} + 1\\right)\n",
       "\\end{equation}"
      ],
      "text/plain": [
       "<IPython.core.display.Latex object>"
      ]
     },
     "metadata": {},
     "output_type": "display_data"
    }
   ],
   "source": [
    "a, b, E0, t, T, μ, t_π = sympy.symbols(\"a b E_0, t, T, mu, t_pi\", positive=True)\n",
    "B_form = (E0/2) * (1 - a - cos(2 * pi * t/T) + a * cos(4 * pi* t/T))\n",
    "display_eq('B(t)', B_form)"
   ]
  },
  {
   "cell_type": "markdown",
   "metadata": {},
   "source": [
    "with $a = 0.16$. This shape looks almost identical to a Gaussian with covering a $\\pm 3\\sigma$ interval in the window $T$, but unlike the Gaussian, the Blackman shape is exactly zero at 0 and $T$."
   ]
  },
  {
   "cell_type": "code",
   "execution_count": 22,
   "metadata": {
    "collapsed": true
   },
   "outputs": [],
   "source": [
    "a_blackman = 0.16"
   ]
  },
  {
   "cell_type": "markdown",
   "metadata": {},
   "source": [
    "If we assume that the pulse appears in the Hamiltonian with a prefactor $\\mu$, the effective pulse aread covered per unit $T$ is "
   ]
  },
  {
   "cell_type": "code",
   "execution_count": 23,
   "metadata": {
    "collapsed": false
   },
   "outputs": [
    {
     "data": {
      "text/latex": [
       "\\begin{equation}\n",
       "\\Omega_{\\text{eff}} = \\frac{E_{0} \\mu}{2} \\left(- a + 1\\right)\n",
       "\\end{equation}"
      ],
      "text/plain": [
       "<IPython.core.display.Latex object>"
      ]
     },
     "metadata": {},
     "output_type": "display_data"
    }
   ],
   "source": [
    "Ωeff_form = μ * (sympy.integrate(B_form, (t, 0, T)) / T).simplify()\n",
    "display_eq(r'\\Omega_{\\text{eff}}', Ωeff_form)"
   ]
  },
  {
   "cell_type": "markdown",
   "metadata": {},
   "source": [
    "Specifically, we have the following prefactors appear in the Hamiltonian:"
   ]
  },
  {
   "cell_type": "code",
   "execution_count": 24,
   "metadata": {
    "collapsed": false
   },
   "outputs": [],
   "source": [
    "def mu(ctrl_sym):\n",
    "    coeffs = [t.coeff for t in pattern(ScalarTimesOperator).findall(slh.H)\n",
    "              if ctrl_sym in t.all_symbols()]\n",
    "    return (abs(coeffs[0]) / abs(ctrl_sym)).subs(num_vals)"
   ]
  },
  {
   "cell_type": "code",
   "execution_count": 25,
   "metadata": {
    "collapsed": false
   },
   "outputs": [],
   "source": [
    "assert control_syms[-1].name == 'Omega_alpha'\n",
    "assert control_syms[0].name == 'Omega_1'\n",
    "mu_alpha = mu(control_syms[-1])\n",
    "mu_1 = mu(control_syms[0])"
   ]
  },
  {
   "cell_type": "code",
   "execution_count": 26,
   "metadata": {
    "collapsed": false
   },
   "outputs": [
    {
     "data": {
      "image/png": "[encoded data removed]",
      "text/latex": [
       "$$0.005 \\sqrt{2}$$"
      ],
      "text/plain": [
       "0.005⋅√2"
      ]
     },
     "execution_count": 26,
     "metadata": {},
     "output_type": "execute_result"
    }
   ],
   "source": [
    "mu_alpha"
   ]
  },
  {
   "cell_type": "code",
   "execution_count": 27,
   "metadata": {
    "collapsed": false
   },
   "outputs": [
    {
     "data": {
      "image/png": "[encoded data removed]",
      "text/latex": [
       "$$0.005$$"
      ],
      "text/plain": [
       "0.00500000000000000"
      ]
     },
     "execution_count": 27,
     "metadata": {},
     "output_type": "execute_result"
    }
   ],
   "source": [
    "mu_1"
   ]
  },
  {
   "cell_type": "markdown",
   "metadata": {},
   "source": [
    "In a two-level system (with zero detuning), this will lead to a population inversion in the time"
   ]
  },
  {
   "cell_type": "code",
   "execution_count": 28,
   "metadata": {
    "collapsed": false
   },
   "outputs": [
    {
     "data": {
      "text/latex": [
       "\\begin{equation}\n",
       "t_{\\pi} = \\frac{\\pi}{E_{0} \\mu \\left(- a + 1\\right)}\n",
       "\\end{equation}"
      ],
      "text/plain": [
       "<IPython.core.display.Latex object>"
      ]
     },
     "metadata": {},
     "output_type": "display_data"
    }
   ],
   "source": [
    "t_pi_form = pi / (2 * Ωeff_form).subs({1-a: b}) # protect 1-a, so sympy doesn't do weird signs\n",
    "display_eq(t_π, t_pi_form.subs({b: 1-a}))"
   ]
  },
  {
   "cell_type": "markdown",
   "metadata": {},
   "source": [
    "Alternatively, for a fixed time $t_\\pi$, we have to choose the amplitude as"
   ]
  },
  {
   "cell_type": "code",
   "execution_count": 29,
   "metadata": {
    "collapsed": false
   },
   "outputs": [
    {
     "data": {
      "text/latex": [
       "\\begin{equation}\n",
       "E_\\pi = \\frac{\\pi}{\\mu t_{\\pi} \\left(- a + 1\\right)}\n",
       "\\end{equation}"
      ],
      "text/plain": [
       "<IPython.core.display.Latex object>"
      ]
     },
     "metadata": {},
     "output_type": "display_data"
    }
   ],
   "source": [
    "E_pi_form = sympy.solve(t_pi_form - t_π, E0)[0].subs({b: 1-a})\n",
    "display_eq('E_\\pi', E_pi_form)"
   ]
  },
  {
   "cell_type": "code",
   "execution_count": 30,
   "metadata": {
    "collapsed": false
   },
   "outputs": [],
   "source": [
    "def pi_pulse(tgrid, t_start, t_stop, mu, cycles=1):\n",
    "    E0 = sympy.N(E_pi_form.subs({t_π: t_stop-t_start, μ: mu, a: a_blackman}))\n",
    "    pulse = QDYN.pulse.Pulse(\n",
    "        tgrid, amplitude=(cycles * E0 * QDYN.pulse.blackman(tgrid, t_start, t_stop)),\n",
    "        time_unit='dimensionless', ampl_unit='dimensionless', freq_unit='dimensionless')\n",
    "    return pulse"
   ]
  },
  {
   "cell_type": "code",
   "execution_count": 31,
   "metadata": {
    "collapsed": false
   },
   "outputs": [],
   "source": [
    "def zero_pulse(tgrid):\n",
    "    pulse = QDYN.pulse.Pulse(\n",
    "        tgrid, amplitude=(0.0 * tgrid),\n",
    "        time_unit='dimensionless', ampl_unit='dimensionless', freq_unit='dimensionless')\n",
    "    return pulse"
   ]
  },
  {
   "cell_type": "markdown",
   "metadata": {},
   "source": [
    "### Guess pulse"
   ]
  },
  {
   "cell_type": "code",
   "execution_count": 32,
   "metadata": {
    "collapsed": false
   },
   "outputs": [],
   "source": [
    "def initialization_controls():\n",
    "    tgrid_start = -2000\n",
    "    tgrid_end =  0\n",
    "    nt = tgrid_end - tgrid_start + 1\n",
    "    tgrid = QDYN.pulse.pulse_tgrid(t0=tgrid_start, T=tgrid_end, nt=nt)\n",
    "    controls = {\n",
    "        Symbol('Omega_alpha'): pi_pulse(tgrid, t_start=-1500, t_stop=0, mu=float(mu_alpha), cycles=2),\n",
    "    }\n",
    "    pulse_sideband = pi_pulse(tgrid, t_start=-2000, t_stop=-500, mu=float(mu_1), cycles=2)\n",
    "    for ctrl_sym in [Symbol('Omega_%d' % ind) for ind in range(1, n_nodes+1)]:\n",
    "        controls[ctrl_sym] = pulse_sideband\n",
    "    return controls"
   ]
  },
  {
   "cell_type": "code",
   "execution_count": 33,
   "metadata": {
    "collapsed": false
   },
   "outputs": [],
   "source": [
    "initialization_model = make_qdyn_oct_model(\n",
    "    slh, num_vals, initialization_controls(), energy_unit='dimensionless',\n",
    "    mcwf=False, non_herm=False, oct_target='dicke_init_full',\n",
    "    lambda_a=1.0)"
   ]
  },
  {
   "cell_type": "code",
   "execution_count": 34,
   "metadata": {
    "collapsed": false
   },
   "outputs": [],
   "source": [
    "initialization_model.write_to_runfolder(\"./rf_init\")"
   ]
  },
  {
   "cell_type": "code",
   "execution_count": 35,
   "metadata": {
    "collapsed": false
   },
   "outputs": [
    {
     "name": "stdout",
     "output_type": "stream",
     "text": [
      "***** START OF PROGRAM qdyn_prop_traj ******\n",
      "Mon Apr 3 09:57:45 -0700 2017\n",
      "\n",
      "*** Read config file rf_init/config ***\n",
      "*** Done reading config file ***\n",
      "    2 pulses in config file\n",
      "    Initializing pulse 1\n",
      "    2 pulses in config file\n",
      "    Initializing pulse 1\n",
      "    2 pulses in config file\n",
      "    Initializing pulse 1\n",
      "    2 pulses in config file\n",
      "    Initializing pulse 1\n",
      "    2 pulses in config file\n",
      "    Initializing pulse 1\n",
      "    2 pulses in config file\n",
      "    Initializing pulse 1\n",
      "    2 pulses in config file\n",
      "    Initializing pulse 1\n",
      "    2 pulses in config file\n",
      "    Initializing pulse 1\n",
      "    2 pulses in config file\n",
      "    Initializing pulse 1\n",
      "    2 pulses in config file\n",
      "    Initializing pulse 1\n",
      "    2 pulses in config file\n",
      "    Initializing pulse 1\n",
      "    2 pulses in config file\n",
      "    Initializing pulse 1\n",
      "    2 pulses in config file\n",
      "    Initializing pulse 1\n",
      "    2 pulses in config file\n",
      "    Initializing pulse 1\n",
      "    2 pulses in config file\n",
      "    Initializing pulse 1\n",
      "    2 pulses in config file\n",
      "    Initializing pulse 1\n",
      "    2 pulses in config file\n",
      "    Initializing pulse 1\n",
      "    2 pulses in config file\n",
      "    Initializing pulse 1\n",
      "    2 pulses in config file\n",
      "    Initializing pulse 1\n",
      "    2 pulses in config file\n",
      "    Initializing pulse 1\n",
      "    2 pulses in config file\n",
      "    Initializing pulse 1\n",
      "    2 pulses in config file\n",
      "    Initializing pulse 1\n",
      "    2 pulses in config file\n",
      "    Initializing pulse 1\n",
      "    2 pulses in config file\n",
      "    Initializing pulse 1\n",
      "    2 pulses in config file\n",
      "    Initializing pulse 1\n",
      "    2 pulses in config file\n",
      "    Initializing pulse 1\n",
      "    2 pulses in config file\n",
      "    Initializing pulse 1\n",
      "*** Initializing system ***\n",
      "  *** Initializing grid ***\n",
      "  No explicit grid found in config file! Initializing grid as one dimensional 1x1 fake grid\n",
      "    Initializing grid as 1D cartesian grid without mapping\n",
      "      Number of grid points was set to nr = 1 for dimension dim = 1! Initializing dimension 1 as a 1x1 fake-grid...\n",
      "  *** Initializing pulses ***\n",
      "    2 pulses in config file\n",
      "    Initializing pulse 1\n",
      "    2 pulses in config file\n",
      "    Initializing pulse 1\n",
      "    2 pulses in config file\n",
      "    Initializing pulse 1\n",
      "    2 pulses in config file\n",
      "    Initializing pulse 1\n",
      "    2 pulses in config file\n",
      "    Initializing pulse 1\n",
      "    2 pulses in config file\n",
      "    Initializing pulse 1\n",
      "    2 pulses in config file\n",
      "    Initializing pulse 1\n",
      "    2 pulses in config file\n",
      "    Initializing pulse 1\n",
      "    2 pulses in config file\n",
      "    Initializing pulse 1\n",
      "    2 pulses in config file\n",
      "    Initializing pulse 1\n",
      "    2 pulses in config file\n",
      "    Initializing pulse 1\n",
      "    2 pulses in config file\n",
      "    Initializing pulse 1\n",
      "    2 pulses in config file\n",
      "    Initializing pulse 1\n",
      "    2 pulses in config file\n",
      "    Initializing pulse 1\n",
      "    2 pulses in config file\n",
      "    Initializing pulse 1\n",
      "    2 pulses in config file\n",
      "    Initializing pulse 1\n",
      "    2 pulses in config file\n",
      "    Initializing pulse 1\n",
      "    2 pulses in config file\n",
      "    Initializing pulse 1\n",
      "    2 pulses in config file\n",
      "    Initializing pulse 1\n",
      "    2 pulses in config file\n",
      "    Initializing pulse 1\n",
      "    2 pulses in config file\n",
      "    Initializing pulse 1\n",
      "    2 pulses in config file\n",
      "    Initializing pulse 1\n",
      "    2 pulses in config file\n",
      "    Initializing pulse 1\n",
      "      setting pulse shape as flattop in [  -2.000E+03,   0.000E+00]\n",
      "      with t_rise =    2.000E+02, t_fall =    2.000E+02, baseline =   0.0000\n",
      "    Initializing pulse 2\n",
      "      setting pulse shape as flattop in [  -2.000E+03,   0.000E+00]\n",
      "      with t_rise =    2.000E+02, t_fall =    2.000E+02, baseline =   0.0000\n",
      "    Initializing pulse 2\n",
      "      setting pulse shape as flattop in [  -2.000E+03,   0.000E+00]\n",
      "      with t_rise =    2.000E+02, t_fall =    2.000E+02, baseline =   0.0000\n",
      "    Initializing pulse 2\n",
      "      setting pulse shape as flattop in [  -2.000E+03,   0.000E+00]\n",
      "      with t_rise =    2.000E+02, t_fall =    2.000E+02, baseline =   0.0000\n",
      "    Initializing pulse 2\n",
      "      setting pulse shape as flattop in [  -2.000E+03,   0.000E+00]\n",
      "      with t_rise =    2.000E+02, t_fall =    2.000E+02, baseline =   0.0000\n",
      "    Initializing pulse 2\n",
      "      setting pulse shape as flattop in [  -2.000E+03,   0.000E+00]\n",
      "      with t_rise =    2.000E+02, t_fall =    2.000E+02, baseline =   0.0000\n",
      "    Initializing pulse 2\n",
      "      setting pulse shape as flattop in [  -2.000E+03,   0.000E+00]\n",
      "      with t_rise =    2.000E+02, t_fall =    2.000E+02, baseline =   0.0000\n",
      "    Initializing pulse 2\n",
      "      setting pulse shape as flattop in [  -2.000E+03,   0.000E+00]\n",
      "      with t_rise =    2.000E+02, t_fall =    2.000E+02, baseline =   0.0000\n",
      "    Initializing pulse 2\n",
      "      setting pulse shape as flattop in [  -2.000E+03,   0.000E+00]\n",
      "      with t_rise =    2.000E+02, t_fall =    2.000E+02, baseline =   0.0000\n",
      "    Initializing pulse 2\n",
      "      setting pulse shape as flattop in [  -2.000E+03,   0.000E+00]\n",
      "      with t_rise =    2.000E+02, t_fall =    2.000E+02, baseline =   0.0000\n",
      "    Initializing pulse 2\n",
      "      setting pulse shape as flattop in [  -2.000E+03,   0.000E+00]\n",
      "      with t_rise =    2.000E+02, t_fall =    2.000E+02, baseline =   0.0000\n",
      "    Initializing pulse 2\n",
      "      setting pulse shape as flattop in [  -2.000E+03,   0.000E+00]\n",
      "      with t_rise =    2.000E+02, t_fall =    2.000E+02, baseline =   0.0000\n",
      "    Initializing pulse 2\n",
      "      setting pulse shape as flattop in [  -2.000E+03,   0.000E+00]\n",
      "      with t_rise =    2.000E+02, t_fall =    2.000E+02, baseline =   0.0000\n",
      "    Initializing pulse 2\n",
      "      setting pulse shape as flattop in [  -2.000E+03,   0.000E+00]\n",
      "      with t_rise =    2.000E+02, t_fall =    2.000E+02, baseline =   0.0000\n",
      "    Initializing pulse 2\n",
      "      setting pulse shape as flattop in [  -2.000E+03,   0.000E+00]\n",
      "      with t_rise =    2.000E+02, t_fall =    2.000E+02, baseline =   0.0000\n",
      "    Initializing pulse 2\n",
      "      setting pulse shape as flattop in [  -2.000E+03,   0.000E+00]\n",
      "      with t_rise =    2.000E+02, t_fall =    2.000E+02, baseline =   0.0000\n",
      "    Initializing pulse 2\n",
      "      setting pulse shape as flattop in [  -2.000E+03,   0.000E+00]\n",
      "      with t_rise =    2.000E+02, t_fall =    2.000E+02, baseline =   0.0000\n",
      "    Initializing pulse 2\n",
      "      setting pulse shape as flattop in [  -2.000E+03,   0.000E+00]\n",
      "      with t_rise =    2.000E+02, t_fall =    2.000E+02, baseline =   0.0000\n",
      "    Initializing pulse 2\n",
      "      setting pulse shape as flattop in [  -2.000E+03,   0.000E+00]\n",
      "      with t_rise =    2.000E+02, t_fall =    2.000E+02, baseline =   0.0000\n",
      "    Initializing pulse 2\n",
      "      setting pulse shape as flattop in [  -2.000E+03,   0.000E+00]\n",
      "      with t_rise =    2.000E+02, t_fall =    2.000E+02, baseline =   0.0000\n",
      "    Initializing pulse 2\n",
      "      setting pulse shape as flattop in [  -2.000E+03,   0.000E+00]\n",
      "      with t_rise =    2.000E+02, t_fall =    2.000E+02, baseline =   0.0000\n",
      "    Initializing pulse 2\n",
      "      setting pulse shape as flattop in [  -2.000E+03,   0.000E+00]\n",
      "      with t_rise =    2.000E+02, t_fall =    2.000E+02, baseline =   0.0000\n",
      "    Initializing pulse 2\n",
      "      setting pulse shape as flattop in [  -2.000E+03,   0.000E+00]\n",
      "      with t_rise =    2.000E+02, t_fall =    2.000E+02, baseline =   0.0000\n",
      "    Initializing pulse 2\n",
      "      setting pulse shape as flattop in [  -2.000E+03,   0.000E+00]\n",
      "      with t_rise =    2.000E+02, t_fall =    2.000E+02, baseline =   0.0000\n",
      "    Initializing pulse 2\n",
      "      setting pulse shape as flattop in [  -2.000E+03,   0.000E+00]\n",
      "      with t_rise =    2.000E+02, t_fall =    2.000E+02, baseline =   0.0000\n",
      "    Initializing pulse 2\n",
      "      setting pulse shape as flattop in [  -2.000E+03,   0.000E+00]\n",
      "      with t_rise =    2.000E+02, t_fall =    2.000E+02, baseline =   0.0000\n",
      "    Initializing pulse 2\n",
      "      setting pulse shape as flattop in [  -2.000E+03,   0.000E+00]\n",
      "      with t_rise =    2.000E+02, t_fall =    2.000E+02, baseline =   0.0000\n",
      "    Initializing pulse 2\n",
      "      setting pulse shape as flattop in [  -2.000E+03,   0.000E+00]\n",
      "      with t_rise =    2.000E+02, t_fall =    2.000E+02, baseline =   0.0000\n",
      "    Initializing pulse 2\n",
      "      setting pulse shape as flattop in [  -2.000E+03,   0.000E+00]\n",
      "      with t_rise =    2.000E+02, t_fall =    2.000E+02, baseline =   0.0000\n",
      "    Initializing pulse 2\n",
      "      setting pulse shape as flattop in [  -2.000E+03,   0.000E+00]\n",
      "      with t_rise =    2.000E+02, t_fall =    2.000E+02, baseline =   0.0000\n",
      "    Initializing pulse 2\n",
      "      setting pulse shape as flattop in [  -2.000E+03,   0.000E+00]\n",
      "      with t_rise =    2.000E+02, t_fall =    2.000E+02, baseline =   0.0000\n",
      "    Initializing pulse 2\n",
      "      setting pulse shape as flattop in [  -2.000E+03,   0.000E+00]\n",
      "      with t_rise =    2.000E+02, t_fall =    2.000E+02, baseline =   0.0000\n",
      "    Initializing pulse 2\n",
      "      setting pulse shape as flattop in [  -2.000E+03,   0.000E+00]\n",
      "      with t_rise =    2.000E+02, t_fall =    2.000E+02, baseline =   0.0000\n",
      "    Initializing pulse 2\n",
      "      setting pulse shape as flattop in [  -2.000E+03,   0.000E+00]\n",
      "      with t_rise =    2.000E+02, t_fall =    2.000E+02, baseline =   0.0000\n",
      "    Initializing pulse 2\n",
      "      setting pulse shape as flattop in [  -2.000E+03,   0.000E+00]\n",
      "      with t_rise =    2.000E+02, t_fall =    2.000E+02, baseline =   0.0000\n",
      "    Initializing pulse 2\n",
      "      setting pulse shape as flattop in [  -2.000E+03,   0.000E+00]\n",
      "      with t_rise =    2.000E+02, t_fall =    2.000E+02, baseline =   0.0000\n",
      "    Initializing pulse 2\n",
      "      setting pulse shape as flattop in [  -2.000E+03,   0.000E+00]\n",
      "      with t_rise =    2.000E+02, t_fall =    2.000E+02, baseline =   0.0000\n",
      "    Initializing pulse 2\n",
      "      setting pulse shape as flattop in [  -2.000E+03,   0.000E+00]\n",
      "      with t_rise =    2.000E+02, t_fall =    2.000E+02, baseline =   0.0000\n",
      "    Initializing pulse 2\n",
      "      setting pulse shape as flattop in [  -2.000E+03,   0.000E+00]\n",
      "      with t_rise =    2.000E+02, t_fall =    2.000E+02, baseline =   0.0000\n",
      "    Initializing pulse 2\n",
      "      setting pulse shape as flattop in [  -2.000E+03,   0.000E+00]\n",
      "      with t_rise =    2.000E+02, t_fall =    2.000E+02, baseline =   0.0000\n",
      "    Initializing pulse 2\n",
      "      setting pulse shape as flattop in [  -2.000E+03,   0.000E+00]\n",
      "      with t_rise =    2.000E+02, t_fall =    2.000E+02, baseline =   0.0000\n",
      "    Initializing pulse 2\n",
      "      setting pulse shape as flattop in [  -2.000E+03,   0.000E+00]\n",
      "      with t_rise =    2.000E+02, t_fall =    2.000E+02, baseline =   0.0000\n",
      "    Initializing pulse 2\n",
      "      setting pulse shape as flattop in [  -2.000E+03,   0.000E+00]\n",
      "      with t_rise =    2.000E+02, t_fall =    2.000E+02, baseline =   0.0000\n",
      "    Initializing pulse 2\n",
      "      setting pulse shape as flattop in [  -2.000E+03,   0.000E+00]\n",
      "      with t_rise =    2.000E+02, t_fall =    2.000E+02, baseline =   0.0000\n",
      "    Initializing pulse 2\n",
      "      setting pulse shape as flattop in [  -2.000E+03,   0.000E+00]\n",
      "      with t_rise =    2.000E+02, t_fall =    2.000E+02, baseline =   0.0000\n",
      "    Initializing pulse 2\n",
      "      setting pulse shape as flattop in [  -2.000E+03,   0.000E+00]\n",
      "      with t_rise =    2.000E+02, t_fall =    2.000E+02, baseline =   0.0000\n",
      "    Initializing pulse 2\n",
      "      setting pulse shape as flattop in [  -2.000E+03,   0.000E+00]\n",
      "      with t_rise =    2.000E+02, t_fall =    2.000E+02, baseline =   0.0000\n",
      "    Initializing pulse 2\n",
      "      setting pulse shape as flattop in [  -2.000E+03,   0.000E+00]\n",
      "      with t_rise =    2.000E+02, t_fall =    2.000E+02, baseline =   0.0000\n",
      "    Initializing pulse 2\n",
      "      setting pulse shape as flattop in [  -2.000E+03,   0.000E+00]\n",
      "      with t_rise =    2.000E+02, t_fall =    2.000E+02, baseline =   0.0000\n",
      "    Initializing pulse 2\n",
      "      setting pulse shape as flattop in [  -2.000E+03,   0.000E+00]\n",
      "      with t_rise =    2.000E+02, t_fall =    2.000E+02, baseline =   0.0000\n",
      "    Initializing pulse 2\n",
      "      setting pulse shape as flattop in [  -2.000E+03,   0.000E+00]\n",
      "      with t_rise =    2.000E+02, t_fall =    2.000E+02, baseline =   0.0000\n",
      "      setting pulse shape as flattop in [  -2.000E+03,   0.000E+00]\n",
      "      with t_rise =    2.000E+02, t_fall =    2.000E+02, baseline =   0.0000\n",
      "      setting pulse shape as flattop in [  -2.000E+03,   0.000E+00]\n",
      "      with t_rise =    2.000E+02, t_fall =    2.000E+02, baseline =   0.0000\n",
      "      setting pulse shape as flattop in [  -2.000E+03,   0.000E+00]\n",
      "      with t_rise =    2.000E+02, t_fall =    2.000E+02, baseline =   0.0000\n",
      "      setting pulse shape as flattop in [  -2.000E+03,   0.000E+00]\n",
      "      with t_rise =    2.000E+02, t_fall =    2.000E+02, baseline =   0.0000\n",
      "      setting pulse shape as flattop in [  -2.000E+03,   0.000E+00]\n",
      "      with t_rise =    2.000E+02, t_fall =    2.000E+02, baseline =   0.0000\n",
      "      setting pulse shape as flattop in [  -2.000E+03,   0.000E+00]\n",
      "      with t_rise =    2.000E+02, t_fall =    2.000E+02, baseline =   0.0000\n",
      "      setting pulse shape as flattop in [  -2.000E+03,   0.000E+00]\n",
      "      with t_rise =    2.000E+02, t_fall =    2.000E+02, baseline =   0.0000\n",
      "      setting pulse shape as flattop in [  -2.000E+03,   0.000E+00]\n",
      "      with t_rise =    2.000E+02, t_fall =    2.000E+02, baseline =   0.0000\n",
      "      setting pulse shape as flattop in [  -2.000E+03,   0.000E+00]\n",
      "      with t_rise =    2.000E+02, t_fall =    2.000E+02, baseline =   0.0000\n",
      "      setting pulse shape as flattop in [  -2.000E+03,   0.000E+00]\n",
      "      with t_rise =    2.000E+02, t_fall =    2.000E+02, baseline =   0.0000\n",
      "      setting pulse shape as flattop in [  -2.000E+03,   0.000E+00]\n",
      "      with t_rise =    2.000E+02, t_fall =    2.000E+02, baseline =   0.0000\n",
      "      setting pulse shape as flattop in [  -2.000E+03,   0.000E+00]\n",
      "      with t_rise =    2.000E+02, t_fall =    2.000E+02, baseline =   0.0000\n",
      "      setting pulse shape as flattop in [  -2.000E+03,   0.000E+00]\n",
      "      with t_rise =    2.000E+02, t_fall =    2.000E+02, baseline =   0.0000\n",
      "      setting pulse shape as flattop in [  -2.000E+03,   0.000E+00]\n",
      "      with t_rise =    2.000E+02, t_fall =    2.000E+02, baseline =   0.0000\n",
      "      setting pulse shape as flattop in [  -2.000E+03,   0.000E+00]\n",
      "      with t_rise =    2.000E+02, t_fall =    2.000E+02, baseline =   0.0000\n",
      "      setting pulse shape as flattop in [  -2.000E+03,   0.000E+00]\n",
      "      with t_rise =    2.000E+02, t_fall =    2.000E+02, baseline =   0.0000\n",
      "      setting pulse shape as flattop in [  -2.000E+03,   0.000E+00]\n",
      "      with t_rise =    2.000E+02, t_fall =    2.000E+02, baseline =   0.0000\n",
      "      setting pulse shape as flattop in [  -2.000E+03,   0.000E+00]\n",
      "      with t_rise =    2.000E+02, t_fall =    2.000E+02, baseline =   0.0000\n",
      "      setting pulse shape as flattop in [  -2.000E+03,   0.000E+00]\n",
      "      with t_rise =    2.000E+02, t_fall =    2.000E+02, baseline =   0.0000\n",
      "      setting pulse shape as flattop in [  -2.000E+03,   0.000E+00]\n",
      "      with t_rise =    2.000E+02, t_fall =    2.000E+02, baseline =   0.0000\n",
      "      setting pulse shape as flattop in [  -2.000E+03,   0.000E+00]\n",
      "      with t_rise =    2.000E+02, t_fall =    2.000E+02, baseline =   0.0000\n",
      "      setting pulse shape as flattop in [  -2.000E+03,   0.000E+00]\n",
      "      with t_rise =    2.000E+02, t_fall =    2.000E+02, baseline =   0.0000\n",
      "      setting pulse shape as flattop in [  -2.000E+03,   0.000E+00]\n",
      "      with t_rise =    2.000E+02, t_fall =    2.000E+02, baseline =   0.0000\n",
      "      setting pulse shape as flattop in [  -2.000E+03,   0.000E+00]\n",
      "      with t_rise =    2.000E+02, t_fall =    2.000E+02, baseline =   0.0000\n",
      "      setting pulse shape as flattop in [  -2.000E+03,   0.000E+00]\n",
      "      with t_rise =    2.000E+02, t_fall =    2.000E+02, baseline =   0.0000\n",
      "      setting pulse shape as flattop in [  -2.000E+03,   0.000E+00]\n",
      "      with t_rise =    2.000E+02, t_fall =    2.000E+02, baseline =   0.0000\n",
      "      setting pulse shape as flattop in [  -2.000E+03,   0.000E+00]\n",
      "      with t_rise =    2.000E+02, t_fall =    2.000E+02, baseline =   0.0000\n",
      "      setting pulse shape as flattop in [  -2.000E+03,   0.000E+00]\n",
      "      with t_rise =    2.000E+02, t_fall =    2.000E+02, baseline =   0.0000\n",
      "      setting pulse shape as flattop in [  -2.000E+03,   0.000E+00]\n",
      "      with t_rise =    2.000E+02, t_fall =    2.000E+02, baseline =   0.0000\n",
      "      setting pulse shape as flattop in [  -2.000E+03,   0.000E+00]\n",
      "      with t_rise =    2.000E+02, t_fall =    2.000E+02, baseline =   0.0000\n",
      "      setting pulse shape as flattop in [  -2.000E+03,   0.000E+00]\n",
      "      with t_rise =    2.000E+02, t_fall =    2.000E+02, baseline =   0.0000\n",
      "      setting pulse shape as flattop in [  -2.000E+03,   0.000E+00]\n",
      "      with t_rise =    2.000E+02, t_fall =    2.000E+02, baseline =   0.0000\n",
      "      setting pulse shape as flattop in [  -2.000E+03,   0.000E+00]\n",
      "      with t_rise =    2.000E+02, t_fall =    2.000E+02, baseline =   0.0000\n",
      "      setting pulse shape as flattop in [  -2.000E+03,   0.000E+00]\n",
      "      with t_rise =    2.000E+02, t_fall =    2.000E+02, baseline =   0.0000\n",
      "      setting pulse shape as flattop in [  -2.000E+03,   0.000E+00]\n",
      "      with t_rise =    2.000E+02, t_fall =    2.000E+02, baseline =   0.0000\n",
      "      setting pulse shape as flattop in [  -2.000E+03,   0.000E+00]\n",
      "      with t_rise =    2.000E+02, t_fall =    2.000E+02, baseline =   0.0000\n",
      "      setting pulse shape as flattop in [  -2.000E+03,   0.000E+00]\n",
      "      with t_rise =    2.000E+02, t_fall =    2.000E+02, baseline =   0.0000\n",
      "      setting pulse shape as flattop in [  -2.000E+03,   0.000E+00]\n",
      "      with t_rise =    2.000E+02, t_fall =    2.000E+02, baseline =   0.0000\n",
      "      setting pulse shape as flattop in [  -2.000E+03,   0.000E+00]\n",
      "      with t_rise =    2.000E+02, t_fall =    2.000E+02, baseline =   0.0000\n",
      "      setting pulse shape as flattop in [  -2.000E+03,   0.000E+00]\n",
      "      with t_rise =    2.000E+02, t_fall =    2.000E+02, baseline =   0.0000\n",
      "      setting pulse shape as flattop in [  -2.000E+03,   0.000E+00]\n",
      "      with t_rise =    2.000E+02, t_fall =    2.000E+02, baseline =   0.0000\n",
      "      setting pulse shape as flattop in [  -2.000E+03,   0.000E+00]\n",
      "      with t_rise =    2.000E+02, t_fall =    2.000E+02, baseline =   0.0000\n",
      "      setting pulse shape as flattop in [  -2.000E+03,   0.000E+00]\n",
      "      with t_rise =    2.000E+02, t_fall =    2.000E+02, baseline =   0.0000\n",
      "      setting pulse shape as flattop in [  -2.000E+03,   0.000E+00]\n",
      "      with t_rise =    2.000E+02, t_fall =    2.000E+02, baseline =   0.0000\n",
      "      setting pulse shape as flattop in [  -2.000E+03,   0.000E+00]\n",
      "      with t_rise =    2.000E+02, t_fall =    2.000E+02, baseline =   0.0000\n",
      "      setting pulse shape as flattop in [  -2.000E+03,   0.000E+00]\n",
      "      with t_rise =    2.000E+02, t_fall =    2.000E+02, baseline =   0.0000\n",
      "      setting pulse shape as flattop in [  -2.000E+03,   0.000E+00]\n",
      "      with t_rise =    2.000E+02, t_fall =    2.000E+02, baseline =   0.0000\n",
      "      setting pulse shape as flattop in [  -2.000E+03,   0.000E+00]\n",
      "      with t_rise =    2.000E+02, t_fall =    2.000E+02, baseline =   0.0000\n",
      "      setting pulse shape as flattop in [  -2.000E+03,   0.000E+00]\n",
      "      with t_rise =    2.000E+02, t_fall =    2.000E+02, baseline =   0.0000\n",
      "  *** Initializing dynamical generator ***\n",
      "*** Done with initialization ***\n",
      "\n",
      "Completed traj 59/100 in proc 30/50\n",
      "Written jump record to rf_init/jump_record.dat.59\n",
      "Completed traj 13/100 in proc 7/50\n",
      "Written jump record to rf_init/jump_record.dat.13\n",
      "Completed traj 27/100 in proc 14/50\n",
      "Written jump record to rf_init/jump_record.dat.27\n",
      "Completed traj 61/100 in proc 31/50\n",
      "Written jump record to rf_init/jump_record.dat.61\n",
      "Completed traj 43/100 in proc 22/50\n",
      "Written jump record to rf_init/jump_record.dat.43\n",
      "Completed traj 11/100 in proc 6/50\n",
      "Written jump record to rf_init/jump_record.dat.11\n",
      "Completed traj 9/100 in proc 5/50\n",
      "Written jump record to rf_init/jump_record.dat.9\n",
      "Completed traj 79/100 in proc 40/50\n",
      "Written jump record to rf_init/jump_record.dat.79\n",
      "Completed traj 69/100 in proc 35/50\n",
      "Written jump record to rf_init/jump_record.dat.69\n",
      "Completed traj 91/100 in proc 46/50\n",
      "Written jump record to rf_init/jump_record.dat.91\n",
      "Completed traj 31/100 in proc 16/50\n",
      "Written jump record to rf_init/jump_record.dat.31\n",
      "Completed traj 37/100 in proc 19/50\n",
      "Written jump record to rf_init/jump_record.dat.37\n",
      "Completed traj 41/100 in proc 21/50\n",
      "Written jump record to rf_init/jump_record.dat.41\n",
      "Completed traj 5/100 in proc 3/50\n",
      "Written jump record to rf_init/jump_record.dat.5\n",
      "Completed traj 67/100 in proc 34/50\n",
      "Written jump record to rf_init/jump_record.dat.67\n",
      "Completed traj 45/100 in proc 23/50\n",
      "Written jump record to rf_init/jump_record.dat.45\n",
      "Completed traj 57/100 in proc 29/50\n",
      "Written jump record to rf_init/jump_record.dat.57\n",
      "Completed traj 53/100 in proc 27/50\n",
      "Written jump record to rf_init/jump_record.dat.53\n",
      "Completed traj 83/100 in proc 42/50\n",
      "Written jump record to rf_init/jump_record.dat.83\n",
      "Completed traj 47/100 in proc 24/50\n",
      "Written jump record to rf_init/jump_record.dat.47\n",
      "Completed traj 35/100 in proc 18/50\n",
      "Written jump record to rf_init/jump_record.dat.35\n",
      "Completed traj 87/100 in proc 44/50\n",
      "Written jump record to rf_init/jump_record.dat.87\n",
      "Completed traj 81/100 in proc 41/50\n",
      "Written jump record to rf_init/jump_record.dat.81\n",
      "Completed traj 15/100 in proc 8/50\n",
      "Written jump record to rf_init/jump_record.dat.15\n",
      "Completed traj 33/100 in proc 17/50\n",
      "Written jump record to rf_init/jump_record.dat.33\n",
      "Completed traj 95/100 in proc 48/50\n",
      "Written jump record to rf_init/jump_record.dat.95\n",
      "Completed traj 99/100 in proc 50/50\n",
      "Written jump record to rf_init/jump_record.dat.99\n",
      "Completed traj 7/100 in proc 4/50\n",
      "Written jump record to rf_init/jump_record.dat.7\n",
      "Completed traj 63/100 in proc 32/50\n",
      "Written jump record to rf_init/jump_record.dat.63\n",
      "Completed traj 23/100 in proc 12/50\n",
      "Written jump record to rf_init/jump_record.dat.23\n",
      "Completed traj 3/100 in proc 2/50\n",
      "Written jump record to rf_init/jump_record.dat.3\n",
      "Completed traj 51/100 in proc 26/50\n",
      "Written jump record to rf_init/jump_record.dat.51\n",
      "Completed traj 19/100 in proc 10/50\n",
      "Written jump record to rf_init/jump_record.dat.19\n",
      "Completed traj 65/100 in proc 33/50\n",
      "Written jump record to rf_init/jump_record.dat.65\n",
      "Completed traj 17/100 in proc 9/50\n",
      "Written jump record to rf_init/jump_record.dat.17\n",
      "Completed traj 49/100 in proc 25/50\n",
      "Written jump record to rf_init/jump_record.dat.49\n",
      "Completed traj 39/100 in proc 20/50\n",
      "Written jump record to rf_init/jump_record.dat.39\n",
      "Completed traj 71/100 in proc 36/50\n",
      "Written jump record to rf_init/jump_record.dat.71\n",
      "Completed traj 25/100 in proc 13/50\n",
      "Completed traj 97/100 in proc 49/50\n",
      "Written jump record to rf_init/jump_record.dat.97\n",
      "Completed traj 1/100 in proc 1/50\n",
      "Written jump record to rf_init/jump_record.dat.1\n",
      "Completed traj 85/100 in proc 43/50\n",
      "Written jump record to rf_init/jump_record.dat.85\n",
      "Completed traj 73/100 in proc 37/50\n",
      "Completed traj 89/100 in proc 45/50\n",
      "Completed traj 93/100 in proc 47/50\n",
      "Completed traj 21/100 in proc 11/50\n",
      "Written jump record to rf_init/jump_record.dat.21\n",
      "Completed traj 55/100 in proc 28/50\n",
      "Written jump record to rf_init/jump_record.dat.55\n",
      "Written jump record to rf_init/jump_record.dat.93\n",
      "Completed traj 29/100 in proc 15/50\n",
      "Completed traj 77/100 in proc 39/50\n",
      "Written jump record to rf_init/jump_record.dat.89\n",
      "Completed traj 75/100 in proc 38/50\n",
      "Written jump record to rf_init/jump_record.dat.77\n",
      "Written jump record to rf_init/jump_record.dat.29\n",
      "Written jump record to rf_init/jump_record.dat.75\n",
      "Written jump record to rf_init/jump_record.dat.73\n",
      "Written jump record to rf_init/jump_record.dat.25\n",
      "Completed traj 60/100 in proc 30/50\n",
      "Written jump record to rf_init/jump_record.dat.60\n",
      "Completed traj 14/100 in proc 7/50\n",
      "Written jump record to rf_init/jump_record.dat.14\n",
      "Completed traj 70/100 in proc 35/50\n",
      "Written jump record to rf_init/jump_record.dat.70\n",
      "Completed traj 62/100 in proc 31/50\n",
      "Written jump record to rf_init/jump_record.dat.62\n",
      "Completed traj 28/100 in proc 14/50\n",
      "Written jump record to rf_init/jump_record.dat.28\n",
      "Completed traj 38/100 in proc 19/50\n",
      "Written jump record to rf_init/jump_record.dat.38\n",
      "Completed traj 80/100 in proc 40/50\n",
      "Written jump record to rf_init/jump_record.dat.80\n",
      "Completed traj 6/100 in proc 3/50\n",
      "Written jump record to rf_init/jump_record.dat.6\n",
      "Completed traj 44/100 in proc 22/50\n",
      "Written jump record to rf_init/jump_record.dat.44\n",
      "Completed traj 68/100 in proc 34/50\n",
      "Written jump record to rf_init/jump_record.dat.68\n",
      "Completed traj 32/100 in proc 16/50\n",
      "Written jump record to rf_init/jump_record.dat.32\n",
      "Completed traj 12/100 in proc 6/50\n",
      "Written jump record to rf_init/jump_record.dat.12\n",
      "Completed traj 10/100 in proc 5/50\n",
      "Written jump record to rf_init/jump_record.dat.10\n",
      "Completed traj 84/100 in proc 42/50\n",
      "Written jump record to rf_init/jump_record.dat.84\n",
      "Completed traj 88/100 in proc 44/50\n",
      "Written jump record to rf_init/jump_record.dat.88\n",
      "Completed traj 54/100 in proc 27/50\n",
      "Written jump record to rf_init/jump_record.dat.54\n",
      "Completed traj 36/100 in proc 18/50\n",
      "Written jump record to rf_init/jump_record.dat.36\n",
      "Completed traj 92/100 in proc 46/50\n",
      "Written jump record to rf_init/jump_record.dat.92\n",
      "Completed traj 82/100 in proc 41/50\n",
      "Written jump record to rf_init/jump_record.dat.82\n",
      "Completed traj 42/100 in proc 21/50\n",
      "Written jump record to rf_init/jump_record.dat.42\n",
      "Completed traj 48/100 in proc 24/50\n",
      "Written jump record to rf_init/jump_record.dat.48\n",
      "Completed traj 46/100 in proc 23/50\n",
      "Written jump record to rf_init/jump_record.dat.46\n",
      "Completed traj 100/100 in proc 50/50\n",
      "Written jump record to rf_init/jump_record.dat.100\n",
      "Completed traj 8/100 in proc 4/50\n",
      "Written jump record to rf_init/jump_record.dat.8\n",
      "Completed traj 24/100 in proc 12/50\n",
      "Written jump record to rf_init/jump_record.dat.24\n",
      "Completed traj 58/100 in proc 29/50\n",
      "Written jump record to rf_init/jump_record.dat.58\n",
      "Completed traj 4/100 in proc 2/50\n",
      "Written jump record to rf_init/jump_record.dat.4\n",
      "Completed traj 16/100 in proc 8/50\n",
      "Written jump record to rf_init/jump_record.dat.16\n",
      "Completed traj 66/100 in proc 33/50\n",
      "Written jump record to rf_init/jump_record.dat.66\n",
      "Completed traj 52/100 in proc 26/50\n",
      "Written jump record to rf_init/jump_record.dat.52\n",
      "Completed traj 18/100 in proc 9/50\n",
      "Written jump record to rf_init/jump_record.dat.18\n",
      "Completed traj 50/100 in proc 25/50\n",
      "Written jump record to rf_init/jump_record.dat.50\n",
      "Completed traj 20/100 in proc 10/50\n",
      "Written jump record to rf_init/jump_record.dat.20\n",
      "Completed traj 96/100 in proc 48/50\n",
      "Written jump record to rf_init/jump_record.dat.96\n",
      "Completed traj 64/100 in proc 32/50\n",
      "Written jump record to rf_init/jump_record.dat.64\n",
      "Completed traj 98/100 in proc 49/50\n",
      "Written jump record to rf_init/jump_record.dat.98\n",
      "Completed traj 40/100 in proc 20/50\n",
      "Written jump record to rf_init/jump_record.dat.40\n",
      "Completed traj 34/100 in proc 17/50\n",
      "Written jump record to rf_init/jump_record.dat.34\n",
      "Completed traj 2/100 in proc 1/50\n",
      "Written jump record to rf_init/jump_record.dat.2\n",
      "Completed traj 72/100 in proc 36/50\n",
      "Written jump record to rf_init/jump_record.dat.72\n",
      "Completed traj 86/100 in proc 43/50\n",
      "Written jump record to rf_init/jump_record.dat.86\n",
      "Completed traj 56/100 in proc 28/50\n",
      "Written jump record to rf_init/jump_record.dat.56\n",
      "Completed traj 22/100 in proc 11/50\n",
      "Written jump record to rf_init/jump_record.dat.22\n",
      "Completed traj 94/100 in proc 47/50\n",
      "Completed traj 90/100 in proc 45/50\n",
      "Completed traj 76/100 in proc 38/50\n",
      "Completed traj 78/100 in proc 39/50\n",
      "Completed traj 26/100 in proc 13/50\n",
      "Written jump record to rf_init/jump_record.dat.94\n",
      "Completed traj 74/100 in proc 37/50\n",
      "Written jump record to rf_init/jump_record.dat.26\n",
      "Completed traj 30/100 in proc 15/50\n",
      "Written jump record to rf_init/jump_record.dat.74\n",
      "Written jump record to rf_init/jump_record.dat.90\n",
      "Written jump record to rf_init/jump_record.dat.30\n",
      "Written jump record to rf_init/jump_record.dat.76\n",
      "Written jump record to rf_init/jump_record.dat.78\n",
      "Waiting in proc 50/50\n",
      "Waiting in proc 46/50\n",
      "Waiting in proc 47/50\n",
      "Waiting in proc 49/50\n",
      "Waiting in proc 48/50\n",
      "Waiting in proc 43/50\n",
      "Waiting in proc 44/50\n",
      "Waiting in proc 45/50\n",
      "Waiting in proc 42/50\n",
      "Waiting in proc 39/50\n",
      "Waiting in proc 41/50\n",
      "Waiting in proc 30/50\n",
      "Waiting in proc 31/50\n",
      "Waiting in proc 27/50\n",
      "Waiting in proc 21/50\n",
      "Waiting in proc 33/50\n",
      "Waiting in proc 29/50\n",
      "Waiting in proc 36/50\n",
      "Waiting in proc 24/50\n",
      "Waiting in proc 26/50\n",
      "Waiting in proc 34/50\n",
      "Waiting in proc 28/50\n",
      "Waiting in proc 40/50\n",
      "Waiting in proc 35/50\n",
      "Waiting in proc 38/50\n",
      "Waiting in proc 25/50\n",
      "Waiting in proc 32/50\n",
      "Waiting in proc 37/50\n",
      "Waiting in proc 22/50\n",
      "Waiting in proc 23/50\n",
      "Waiting in proc 17/50\n",
      "Waiting in proc 20/50\n",
      "Waiting in proc 16/50\n",
      "Waiting in proc 18/50\n",
      "Waiting in proc 19/50\n",
      "Waiting in proc 13/50\n",
      "Waiting in proc 11/50\n",
      "Waiting in proc 14/50\n",
      "Waiting in proc 12/50\n",
      "Waiting in proc 15/50\n",
      "Waiting in proc 10/50\n",
      "Waiting in proc 9/50\n",
      "Waiting in proc 7/50\n",
      "Waiting in proc 8/50\n",
      "Waiting in proc 6/50\n",
      "Waiting in proc 5/50\n",
      "Waiting in proc 4/50\n",
      "Waiting in proc 3/50\n",
      "Waiting in proc 2/50\n",
      "Writing avg in proc 1/50\n",
      "\n",
      "Mon Apr 3 09:57:46 -0700 2017\n",
      "***** END OF PROGRAM qdyn_prop_traj ******\n"
     ]
    }
   ],
   "source": [
    "! mpirun -n 50 qdyn_prop_traj --n-trajs=100 --state-label=00 rf_init"
   ]
  },
  {
   "cell_type": "code",
   "execution_count": 36,
   "metadata": {
    "collapsed": false,
    "scrolled": false
   },
   "outputs": [
    {
     "data": {
      "image/png": "[encoded data removed]",
      "text/plain": [
       "<matplotlib.figure.Figure at 0x7f23e6550f98>"
      ]
     },
     "metadata": {},
     "output_type": "display_data"
    }
   ],
   "source": [
    "show_summary_dicke('rf_init', pulses='pulse*.dat')"
   ]
  },
  {
   "cell_type": "markdown",
   "metadata": {},
   "source": [
    "### Optimization of initalization step"
   ]
  },
  {
   "cell_type": "code",
   "execution_count": 37,
   "metadata": {
    "collapsed": false
   },
   "outputs": [
    {
     "name": "stdout",
     "output_type": "stream",
     "text": [
      "***** START OF PROGRAM qdyn_prop_traj ******\n",
      "Mon Apr 3 09:57:49 -0700 2017\n",
      "\n",
      "*** Read config file rf_init/config ***\n",
      "*** Done reading config file ***\n",
      "    2 pulses in config file\n",
      "    Initializing pulse 1\n",
      "    2 pulses in config file\n",
      "    Initializing pulse 1\n",
      "    2 pulses in config file\n",
      "    Initializing pulse 1\n",
      "    2 pulses in config file\n",
      "    Initializing pulse 1\n",
      "    2 pulses in config file\n",
      "    Initializing pulse 1\n",
      "    2 pulses in config file\n",
      "    Initializing pulse 1\n",
      "    2 pulses in config file\n",
      "    Initializing pulse 1\n",
      "    2 pulses in config file\n",
      "    Initializing pulse 1\n",
      "    2 pulses in config file\n",
      "    Initializing pulse 1\n",
      "    2 pulses in config file\n",
      "    Initializing pulse 1\n",
      "    2 pulses in config file\n",
      "    Initializing pulse 1\n",
      "    2 pulses in config file\n",
      "    Initializing pulse 1\n",
      "    2 pulses in config file\n",
      "    Initializing pulse 1\n",
      "    2 pulses in config file\n",
      "    Initializing pulse 1\n",
      "    2 pulses in config file\n",
      "    Initializing pulse 1\n",
      "    2 pulses in config file\n",
      "    Initializing pulse 1\n",
      "    2 pulses in config file\n",
      "    Initializing pulse 1\n",
      "    2 pulses in config file\n",
      "    Initializing pulse 1\n",
      "    2 pulses in config file\n",
      "    Initializing pulse 1\n",
      "    2 pulses in config file\n",
      "    Initializing pulse 1\n",
      "    2 pulses in config file\n",
      "    Initializing pulse 1\n",
      "    2 pulses in config file\n",
      "    Initializing pulse 1\n",
      "    2 pulses in config file\n",
      "    Initializing pulse 1\n",
      "    2 pulses in config file\n",
      "    Initializing pulse 1\n",
      "    2 pulses in config file\n",
      "    Initializing pulse 1\n",
      "    2 pulses in config file\n",
      "    Initializing pulse 1\n",
      "    2 pulses in config file\n",
      "    Initializing pulse 1\n",
      "    2 pulses in config file\n",
      "    Initializing pulse 1\n",
      "    2 pulses in config file\n",
      "    Initializing pulse 1\n",
      "    2 pulses in config file\n",
      "    Initializing pulse 1\n",
      "    2 pulses in config file\n",
      "    Initializing pulse 1\n",
      "    2 pulses in config file\n",
      "    Initializing pulse 1\n",
      "    2 pulses in config file\n",
      "    Initializing pulse 1\n",
      "    2 pulses in config file\n",
      "    Initializing pulse 1\n",
      "    2 pulses in config file\n",
      "    Initializing pulse 1\n",
      "    2 pulses in config file\n",
      "    Initializing pulse 1\n",
      "    2 pulses in config file\n",
      "    Initializing pulse 1\n",
      "    2 pulses in config file\n",
      "    Initializing pulse 1\n",
      "    2 pulses in config file\n",
      "    Initializing pulse 1\n",
      "    2 pulses in config file\n",
      "    Initializing pulse 1\n",
      "    2 pulses in config file\n",
      "    Initializing pulse 1\n",
      "    2 pulses in config file\n",
      "    Initializing pulse 1\n",
      "    2 pulses in config file\n",
      "    Initializing pulse 1\n",
      "    2 pulses in config file\n",
      "    Initializing pulse 1\n",
      "    2 pulses in config file\n",
      "    Initializing pulse 1\n",
      "*** Initializing system ***\n",
      "  *** Initializing grid ***\n",
      "  No explicit grid found in config file! Initializing grid as one dimensional 1x1 fake grid\n",
      "    Initializing grid as 1D cartesian grid without mapping\n",
      "      Number of grid points was set to nr = 1 for dimension dim = 1! Initializing dimension 1 as a 1x1 fake-grid...\n",
      "  *** Initializing pulses ***\n",
      "    2 pulses in config file\n",
      "    Initializing pulse 1\n",
      "    2 pulses in config file\n",
      "    Initializing pulse 1\n",
      "    2 pulses in config file\n",
      "    Initializing pulse 1\n",
      "    2 pulses in config file\n",
      "    Initializing pulse 1\n",
      "    2 pulses in config file\n",
      "    Initializing pulse 1\n",
      "      setting pulse shape as flattop in [  -2.000E+03,   0.000E+00]\n",
      "      with t_rise =    2.000E+02, t_fall =    2.000E+02, baseline =   0.0000\n",
      "    Initializing pulse 2\n",
      "      setting pulse shape as flattop in [  -2.000E+03,   0.000E+00]\n",
      "      with t_rise =    2.000E+02, t_fall =    2.000E+02, baseline =   0.0000\n",
      "    Initializing pulse 2\n",
      "      setting pulse shape as flattop in [  -2.000E+03,   0.000E+00]\n",
      "      with t_rise =    2.000E+02, t_fall =    2.000E+02, baseline =   0.0000\n",
      "    Initializing pulse 2\n",
      "      setting pulse shape as flattop in [  -2.000E+03,   0.000E+00]\n",
      "      with t_rise =    2.000E+02, t_fall =    2.000E+02, baseline =   0.0000\n",
      "    Initializing pulse 2\n",
      "      setting pulse shape as flattop in [  -2.000E+03,   0.000E+00]\n",
      "      with t_rise =    2.000E+02, t_fall =    2.000E+02, baseline =   0.0000\n",
      "    Initializing pulse 2\n",
      "      setting pulse shape as flattop in [  -2.000E+03,   0.000E+00]\n",
      "      with t_rise =    2.000E+02, t_fall =    2.000E+02, baseline =   0.0000\n",
      "    Initializing pulse 2\n",
      "      setting pulse shape as flattop in [  -2.000E+03,   0.000E+00]\n",
      "      with t_rise =    2.000E+02, t_fall =    2.000E+02, baseline =   0.0000\n",
      "    Initializing pulse 2\n",
      "      setting pulse shape as flattop in [  -2.000E+03,   0.000E+00]\n",
      "      with t_rise =    2.000E+02, t_fall =    2.000E+02, baseline =   0.0000\n",
      "    Initializing pulse 2\n",
      "      setting pulse shape as flattop in [  -2.000E+03,   0.000E+00]\n",
      "      with t_rise =    2.000E+02, t_fall =    2.000E+02, baseline =   0.0000\n",
      "    Initializing pulse 2\n",
      "      setting pulse shape as flattop in [  -2.000E+03,   0.000E+00]\n",
      "      with t_rise =    2.000E+02, t_fall =    2.000E+02, baseline =   0.0000\n",
      "    Initializing pulse 2\n",
      "      setting pulse shape as flattop in [  -2.000E+03,   0.000E+00]\n",
      "      with t_rise =    2.000E+02, t_fall =    2.000E+02, baseline =   0.0000\n",
      "    Initializing pulse 2\n",
      "      setting pulse shape as flattop in [  -2.000E+03,   0.000E+00]\n",
      "      with t_rise =    2.000E+02, t_fall =    2.000E+02, baseline =   0.0000\n",
      "    Initializing pulse 2\n",
      "      setting pulse shape as flattop in [  -2.000E+03,   0.000E+00]\n",
      "      with t_rise =    2.000E+02, t_fall =    2.000E+02, baseline =   0.0000\n",
      "    Initializing pulse 2\n",
      "      setting pulse shape as flattop in [  -2.000E+03,   0.000E+00]\n",
      "      with t_rise =    2.000E+02, t_fall =    2.000E+02, baseline =   0.0000\n",
      "    Initializing pulse 2\n",
      "      setting pulse shape as flattop in [  -2.000E+03,   0.000E+00]\n",
      "      with t_rise =    2.000E+02, t_fall =    2.000E+02, baseline =   0.0000\n",
      "    Initializing pulse 2\n",
      "      setting pulse shape as flattop in [  -2.000E+03,   0.000E+00]\n",
      "      with t_rise =    2.000E+02, t_fall =    2.000E+02, baseline =   0.0000\n",
      "    Initializing pulse 2\n",
      "      setting pulse shape as flattop in [  -2.000E+03,   0.000E+00]\n",
      "      with t_rise =    2.000E+02, t_fall =    2.000E+02, baseline =   0.0000\n",
      "    Initializing pulse 2\n",
      "      setting pulse shape as flattop in [  -2.000E+03,   0.000E+00]\n",
      "      with t_rise =    2.000E+02, t_fall =    2.000E+02, baseline =   0.0000\n",
      "    Initializing pulse 2\n",
      "      setting pulse shape as flattop in [  -2.000E+03,   0.000E+00]\n",
      "      with t_rise =    2.000E+02, t_fall =    2.000E+02, baseline =   0.0000\n",
      "    Initializing pulse 2\n",
      "      setting pulse shape as flattop in [  -2.000E+03,   0.000E+00]\n",
      "      with t_rise =    2.000E+02, t_fall =    2.000E+02, baseline =   0.0000\n",
      "    Initializing pulse 2\n",
      "      setting pulse shape as flattop in [  -2.000E+03,   0.000E+00]\n",
      "      with t_rise =    2.000E+02, t_fall =    2.000E+02, baseline =   0.0000\n",
      "    Initializing pulse 2\n",
      "      setting pulse shape as flattop in [  -2.000E+03,   0.000E+00]\n",
      "      with t_rise =    2.000E+02, t_fall =    2.000E+02, baseline =   0.0000\n",
      "    Initializing pulse 2\n",
      "      setting pulse shape as flattop in [  -2.000E+03,   0.000E+00]\n",
      "      with t_rise =    2.000E+02, t_fall =    2.000E+02, baseline =   0.0000\n",
      "    Initializing pulse 2\n",
      "      setting pulse shape as flattop in [  -2.000E+03,   0.000E+00]\n",
      "      with t_rise =    2.000E+02, t_fall =    2.000E+02, baseline =   0.0000\n",
      "    Initializing pulse 2\n",
      "      setting pulse shape as flattop in [  -2.000E+03,   0.000E+00]\n",
      "      with t_rise =    2.000E+02, t_fall =    2.000E+02, baseline =   0.0000\n",
      "    Initializing pulse 2\n",
      "      setting pulse shape as flattop in [  -2.000E+03,   0.000E+00]\n",
      "      with t_rise =    2.000E+02, t_fall =    2.000E+02, baseline =   0.0000\n",
      "    Initializing pulse 2\n",
      "      setting pulse shape as flattop in [  -2.000E+03,   0.000E+00]\n",
      "      with t_rise =    2.000E+02, t_fall =    2.000E+02, baseline =   0.0000\n",
      "    Initializing pulse 2\n",
      "      setting pulse shape as flattop in [  -2.000E+03,   0.000E+00]\n",
      "      with t_rise =    2.000E+02, t_fall =    2.000E+02, baseline =   0.0000\n",
      "    Initializing pulse 2\n",
      "      setting pulse shape as flattop in [  -2.000E+03,   0.000E+00]\n",
      "      with t_rise =    2.000E+02, t_fall =    2.000E+02, baseline =   0.0000\n",
      "    Initializing pulse 2\n",
      "      setting pulse shape as flattop in [  -2.000E+03,   0.000E+00]\n",
      "      with t_rise =    2.000E+02, t_fall =    2.000E+02, baseline =   0.0000\n",
      "    Initializing pulse 2\n",
      "      setting pulse shape as flattop in [  -2.000E+03,   0.000E+00]\n",
      "      with t_rise =    2.000E+02, t_fall =    2.000E+02, baseline =   0.0000\n",
      "    Initializing pulse 2\n",
      "      setting pulse shape as flattop in [  -2.000E+03,   0.000E+00]\n",
      "      with t_rise =    2.000E+02, t_fall =    2.000E+02, baseline =   0.0000\n",
      "    Initializing pulse 2\n",
      "      setting pulse shape as flattop in [  -2.000E+03,   0.000E+00]\n",
      "      with t_rise =    2.000E+02, t_fall =    2.000E+02, baseline =   0.0000\n",
      "    Initializing pulse 2\n",
      "      setting pulse shape as flattop in [  -2.000E+03,   0.000E+00]\n",
      "      with t_rise =    2.000E+02, t_fall =    2.000E+02, baseline =   0.0000\n",
      "    Initializing pulse 2\n",
      "      setting pulse shape as flattop in [  -2.000E+03,   0.000E+00]\n",
      "      with t_rise =    2.000E+02, t_fall =    2.000E+02, baseline =   0.0000\n",
      "    Initializing pulse 2\n",
      "      setting pulse shape as flattop in [  -2.000E+03,   0.000E+00]\n",
      "      with t_rise =    2.000E+02, t_fall =    2.000E+02, baseline =   0.0000\n",
      "    Initializing pulse 2\n",
      "      setting pulse shape as flattop in [  -2.000E+03,   0.000E+00]\n",
      "      with t_rise =    2.000E+02, t_fall =    2.000E+02, baseline =   0.0000\n",
      "    Initializing pulse 2\n",
      "      setting pulse shape as flattop in [  -2.000E+03,   0.000E+00]\n",
      "      with t_rise =    2.000E+02, t_fall =    2.000E+02, baseline =   0.0000\n",
      "    Initializing pulse 2\n",
      "      setting pulse shape as flattop in [  -2.000E+03,   0.000E+00]\n",
      "      with t_rise =    2.000E+02, t_fall =    2.000E+02, baseline =   0.0000\n",
      "    Initializing pulse 2\n",
      "      setting pulse shape as flattop in [  -2.000E+03,   0.000E+00]\n",
      "      with t_rise =    2.000E+02, t_fall =    2.000E+02, baseline =   0.0000\n",
      "    Initializing pulse 2\n",
      "      setting pulse shape as flattop in [  -2.000E+03,   0.000E+00]\n",
      "      with t_rise =    2.000E+02, t_fall =    2.000E+02, baseline =   0.0000\n",
      "    Initializing pulse 2\n",
      "      setting pulse shape as flattop in [  -2.000E+03,   0.000E+00]\n",
      "      with t_rise =    2.000E+02, t_fall =    2.000E+02, baseline =   0.0000\n",
      "    Initializing pulse 2\n",
      "      setting pulse shape as flattop in [  -2.000E+03,   0.000E+00]\n",
      "      with t_rise =    2.000E+02, t_fall =    2.000E+02, baseline =   0.0000\n",
      "    Initializing pulse 2\n",
      "      setting pulse shape as flattop in [  -2.000E+03,   0.000E+00]\n",
      "      with t_rise =    2.000E+02, t_fall =    2.000E+02, baseline =   0.0000\n",
      "    Initializing pulse 2\n",
      "      setting pulse shape as flattop in [  -2.000E+03,   0.000E+00]\n",
      "      with t_rise =    2.000E+02, t_fall =    2.000E+02, baseline =   0.0000\n",
      "    Initializing pulse 2\n",
      "      setting pulse shape as flattop in [  -2.000E+03,   0.000E+00]\n",
      "      with t_rise =    2.000E+02, t_fall =    2.000E+02, baseline =   0.0000\n",
      "    Initializing pulse 2\n",
      "      setting pulse shape as flattop in [  -2.000E+03,   0.000E+00]\n",
      "      with t_rise =    2.000E+02, t_fall =    2.000E+02, baseline =   0.0000\n",
      "    Initializing pulse 2\n",
      "      setting pulse shape as flattop in [  -2.000E+03,   0.000E+00]\n",
      "      with t_rise =    2.000E+02, t_fall =    2.000E+02, baseline =   0.0000\n",
      "    Initializing pulse 2\n",
      "      setting pulse shape as flattop in [  -2.000E+03,   0.000E+00]\n",
      "      with t_rise =    2.000E+02, t_fall =    2.000E+02, baseline =   0.0000\n",
      "    Initializing pulse 2\n",
      "      setting pulse shape as flattop in [  -2.000E+03,   0.000E+00]\n",
      "      with t_rise =    2.000E+02, t_fall =    2.000E+02, baseline =   0.0000\n",
      "    Initializing pulse 2\n",
      "      setting pulse shape as flattop in [  -2.000E+03,   0.000E+00]\n",
      "      with t_rise =    2.000E+02, t_fall =    2.000E+02, baseline =   0.0000\n",
      "      setting pulse shape as flattop in [  -2.000E+03,   0.000E+00]\n",
      "      with t_rise =    2.000E+02, t_fall =    2.000E+02, baseline =   0.0000\n",
      "      setting pulse shape as flattop in [  -2.000E+03,   0.000E+00]\n",
      "      with t_rise =    2.000E+02, t_fall =    2.000E+02, baseline =   0.0000\n",
      "      setting pulse shape as flattop in [  -2.000E+03,   0.000E+00]\n",
      "      with t_rise =    2.000E+02, t_fall =    2.000E+02, baseline =   0.0000\n",
      "      setting pulse shape as flattop in [  -2.000E+03,   0.000E+00]\n",
      "      with t_rise =    2.000E+02, t_fall =    2.000E+02, baseline =   0.0000\n",
      "      setting pulse shape as flattop in [  -2.000E+03,   0.000E+00]\n",
      "      with t_rise =    2.000E+02, t_fall =    2.000E+02, baseline =   0.0000\n",
      "      setting pulse shape as flattop in [  -2.000E+03,   0.000E+00]\n",
      "      with t_rise =    2.000E+02, t_fall =    2.000E+02, baseline =   0.0000\n",
      "      setting pulse shape as flattop in [  -2.000E+03,   0.000E+00]\n",
      "      with t_rise =    2.000E+02, t_fall =    2.000E+02, baseline =   0.0000\n",
      "      setting pulse shape as flattop in [  -2.000E+03,   0.000E+00]\n",
      "      with t_rise =    2.000E+02, t_fall =    2.000E+02, baseline =   0.0000\n",
      "      setting pulse shape as flattop in [  -2.000E+03,   0.000E+00]\n",
      "      with t_rise =    2.000E+02, t_fall =    2.000E+02, baseline =   0.0000\n",
      "      setting pulse shape as flattop in [  -2.000E+03,   0.000E+00]\n",
      "      with t_rise =    2.000E+02, t_fall =    2.000E+02, baseline =   0.0000\n",
      "      setting pulse shape as flattop in [  -2.000E+03,   0.000E+00]\n",
      "      with t_rise =    2.000E+02, t_fall =    2.000E+02, baseline =   0.0000\n",
      "      setting pulse shape as flattop in [  -2.000E+03,   0.000E+00]\n",
      "      with t_rise =    2.000E+02, t_fall =    2.000E+02, baseline =   0.0000\n",
      "      setting pulse shape as flattop in [  -2.000E+03,   0.000E+00]\n",
      "      with t_rise =    2.000E+02, t_fall =    2.000E+02, baseline =   0.0000\n",
      "      setting pulse shape as flattop in [  -2.000E+03,   0.000E+00]\n",
      "      with t_rise =    2.000E+02, t_fall =    2.000E+02, baseline =   0.0000\n",
      "      setting pulse shape as flattop in [  -2.000E+03,   0.000E+00]\n",
      "      with t_rise =    2.000E+02, t_fall =    2.000E+02, baseline =   0.0000\n",
      "      setting pulse shape as flattop in [  -2.000E+03,   0.000E+00]\n",
      "      with t_rise =    2.000E+02, t_fall =    2.000E+02, baseline =   0.0000\n",
      "      setting pulse shape as flattop in [  -2.000E+03,   0.000E+00]\n",
      "      with t_rise =    2.000E+02, t_fall =    2.000E+02, baseline =   0.0000\n",
      "      setting pulse shape as flattop in [  -2.000E+03,   0.000E+00]\n",
      "      with t_rise =    2.000E+02, t_fall =    2.000E+02, baseline =   0.0000\n",
      "      setting pulse shape as flattop in [  -2.000E+03,   0.000E+00]\n",
      "      with t_rise =    2.000E+02, t_fall =    2.000E+02, baseline =   0.0000\n",
      "      setting pulse shape as flattop in [  -2.000E+03,   0.000E+00]\n",
      "      with t_rise =    2.000E+02, t_fall =    2.000E+02, baseline =   0.0000\n",
      "      setting pulse shape as flattop in [  -2.000E+03,   0.000E+00]\n",
      "      with t_rise =    2.000E+02, t_fall =    2.000E+02, baseline =   0.0000\n",
      "      setting pulse shape as flattop in [  -2.000E+03,   0.000E+00]\n",
      "      with t_rise =    2.000E+02, t_fall =    2.000E+02, baseline =   0.0000\n",
      "      setting pulse shape as flattop in [  -2.000E+03,   0.000E+00]\n",
      "      with t_rise =    2.000E+02, t_fall =    2.000E+02, baseline =   0.0000\n",
      "      setting pulse shape as flattop in [  -2.000E+03,   0.000E+00]\n",
      "      with t_rise =    2.000E+02, t_fall =    2.000E+02, baseline =   0.0000\n",
      "      setting pulse shape as flattop in [  -2.000E+03,   0.000E+00]\n",
      "      with t_rise =    2.000E+02, t_fall =    2.000E+02, baseline =   0.0000\n",
      "      setting pulse shape as flattop in [  -2.000E+03,   0.000E+00]\n",
      "      with t_rise =    2.000E+02, t_fall =    2.000E+02, baseline =   0.0000\n",
      "      setting pulse shape as flattop in [  -2.000E+03,   0.000E+00]\n",
      "      with t_rise =    2.000E+02, t_fall =    2.000E+02, baseline =   0.0000\n",
      "      setting pulse shape as flattop in [  -2.000E+03,   0.000E+00]\n",
      "      with t_rise =    2.000E+02, t_fall =    2.000E+02, baseline =   0.0000\n",
      "      setting pulse shape as flattop in [  -2.000E+03,   0.000E+00]\n",
      "      with t_rise =    2.000E+02, t_fall =    2.000E+02, baseline =   0.0000\n",
      "      setting pulse shape as flattop in [  -2.000E+03,   0.000E+00]\n",
      "      with t_rise =    2.000E+02, t_fall =    2.000E+02, baseline =   0.0000\n",
      "      setting pulse shape as flattop in [  -2.000E+03,   0.000E+00]\n",
      "      with t_rise =    2.000E+02, t_fall =    2.000E+02, baseline =   0.0000\n",
      "      setting pulse shape as flattop in [  -2.000E+03,   0.000E+00]\n",
      "      with t_rise =    2.000E+02, t_fall =    2.000E+02, baseline =   0.0000\n",
      "      setting pulse shape as flattop in [  -2.000E+03,   0.000E+00]\n",
      "      with t_rise =    2.000E+02, t_fall =    2.000E+02, baseline =   0.0000\n",
      "      setting pulse shape as flattop in [  -2.000E+03,   0.000E+00]\n",
      "      with t_rise =    2.000E+02, t_fall =    2.000E+02, baseline =   0.0000\n",
      "      setting pulse shape as flattop in [  -2.000E+03,   0.000E+00]\n",
      "      with t_rise =    2.000E+02, t_fall =    2.000E+02, baseline =   0.0000\n",
      "      setting pulse shape as flattop in [  -2.000E+03,   0.000E+00]\n",
      "      with t_rise =    2.000E+02, t_fall =    2.000E+02, baseline =   0.0000\n",
      "      setting pulse shape as flattop in [  -2.000E+03,   0.000E+00]\n",
      "      with t_rise =    2.000E+02, t_fall =    2.000E+02, baseline =   0.0000\n",
      "      setting pulse shape as flattop in [  -2.000E+03,   0.000E+00]\n",
      "      with t_rise =    2.000E+02, t_fall =    2.000E+02, baseline =   0.0000\n",
      "  *** Initializing dynamical generator ***\n",
      "      setting pulse shape as flattop in [  -2.000E+03,   0.000E+00]\n",
      "      with t_rise =    2.000E+02, t_fall =    2.000E+02, baseline =   0.0000\n",
      "      setting pulse shape as flattop in [  -2.000E+03,   0.000E+00]\n",
      "      with t_rise =    2.000E+02, t_fall =    2.000E+02, baseline =   0.0000\n",
      "      setting pulse shape as flattop in [  -2.000E+03,   0.000E+00]\n",
      "      with t_rise =    2.000E+02, t_fall =    2.000E+02, baseline =   0.0000\n",
      "      setting pulse shape as flattop in [  -2.000E+03,   0.000E+00]\n",
      "      with t_rise =    2.000E+02, t_fall =    2.000E+02, baseline =   0.0000\n",
      "      setting pulse shape as flattop in [  -2.000E+03,   0.000E+00]\n",
      "      with t_rise =    2.000E+02, t_fall =    2.000E+02, baseline =   0.0000\n",
      "      setting pulse shape as flattop in [  -2.000E+03,   0.000E+00]\n",
      "      with t_rise =    2.000E+02, t_fall =    2.000E+02, baseline =   0.0000\n",
      "      setting pulse shape as flattop in [  -2.000E+03,   0.000E+00]\n",
      "      with t_rise =    2.000E+02, t_fall =    2.000E+02, baseline =   0.0000\n",
      "      setting pulse shape as flattop in [  -2.000E+03,   0.000E+00]\n",
      "      with t_rise =    2.000E+02, t_fall =    2.000E+02, baseline =   0.0000\n",
      "      setting pulse shape as flattop in [  -2.000E+03,   0.000E+00]\n",
      "      with t_rise =    2.000E+02, t_fall =    2.000E+02, baseline =   0.0000\n",
      "      setting pulse shape as flattop in [  -2.000E+03,   0.000E+00]\n",
      "      with t_rise =    2.000E+02, t_fall =    2.000E+02, baseline =   0.0000\n",
      "      setting pulse shape as flattop in [  -2.000E+03,   0.000E+00]\n",
      "      with t_rise =    2.000E+02, t_fall =    2.000E+02, baseline =   0.0000\n",
      "*** Done with initialization ***\n",
      "\n",
      "WARNING: OCT outfile rf_init/pulse1.oct.dat for pulse 1 does not exist. Propagating guess pulse.\n",
      "WARNING: OCT outfile rf_init/pulse2.oct.dat for pulse 2 does not exist. Propagating guess pulse.\n",
      "Completed traj 41/100 in proc 21/50\n",
      "Written jump record to rf_init/jump_record.dat.41\n",
      "Completed traj 57/100 in proc 29/50\n",
      "Written jump record to rf_init/jump_record.dat.57\n",
      "Completed traj 9/100 in proc 5/50\n",
      "Written jump record to rf_init/jump_record.dat.9\n",
      "Completed traj 59/100 in proc 30/50\n",
      "Written jump record to rf_init/jump_record.dat.59\n",
      "Completed traj 73/100 in proc 37/50\n",
      "Written jump record to rf_init/jump_record.dat.73\n",
      "Completed traj 91/100 in proc 46/50\n",
      "Written jump record to rf_init/jump_record.dat.91\n",
      "Completed traj 43/100 in proc 22/50\n",
      "Written jump record to rf_init/jump_record.dat.43\n",
      "Completed traj 89/100 in proc 45/50\n",
      "Written jump record to rf_init/jump_record.dat.89\n",
      "Completed traj 27/100 in proc 14/50\n",
      "Written jump record to rf_init/jump_record.dat.27\n",
      "Completed traj 95/100 in proc 48/50\n",
      "Written jump record to rf_init/jump_record.dat.95\n",
      "Completed traj 11/100 in proc 6/50\n",
      "Written jump record to rf_init/jump_record.dat.11\n",
      "Completed traj 15/100 in proc 8/50\n",
      "Written jump record to rf_init/jump_record.dat.15\n",
      "Completed traj 25/100 in proc 13/50\n",
      "Written jump record to rf_init/jump_record.dat.25\n",
      "Completed traj 79/100 in proc 40/50\n",
      "Written jump record to rf_init/jump_record.dat.79\n",
      "Completed traj 63/100 in proc 32/50\n",
      "Written jump record to rf_init/jump_record.dat.63\n",
      "Completed traj 75/100 in proc 38/50\n",
      "Written jump record to rf_init/jump_record.dat.75\n",
      "Completed traj 47/100 in proc 24/50\n",
      "Written jump record to rf_init/jump_record.dat.47\n",
      "Completed traj 31/100 in proc 16/50\n",
      "Written jump record to rf_init/jump_record.dat.31\n",
      "Completed traj 45/100 in proc 23/50\n",
      "Written jump record to rf_init/jump_record.dat.45\n",
      "Completed traj 93/100 in proc 47/50\n",
      "Written jump record to rf_init/jump_record.dat.93\n",
      "Completed traj 13/100 in proc 7/50\n",
      "Written jump record to rf_init/jump_record.dat.13\n",
      "Completed traj 29/100 in proc 15/50\n",
      "Written jump record to rf_init/jump_record.dat.29\n",
      "Completed traj 39/100 in proc 20/50\n",
      "Written jump record to rf_init/jump_record.dat.39\n",
      "Completed traj 17/100 in proc 9/50\n",
      "Written jump record to rf_init/jump_record.dat.17\n",
      "Completed traj 53/100 in proc 27/50\n",
      "Written jump record to rf_init/jump_record.dat.53\n",
      "Completed traj 61/100 in proc 31/50\n",
      "Written jump record to rf_init/jump_record.dat.61\n",
      "Completed traj 77/100 in proc 39/50\n",
      "Written jump record to rf_init/jump_record.dat.77\n",
      "Completed traj 67/100 in proc 34/50\n",
      "Written jump record to rf_init/jump_record.dat.67\n",
      "Completed traj 65/100 in proc 33/50\n",
      "Written jump record to rf_init/jump_record.dat.65\n",
      "Completed traj 71/100 in proc 36/50\n",
      "Written jump record to rf_init/jump_record.dat.71\n",
      "Completed traj 7/100 in proc 4/50\n",
      "Written jump record to rf_init/jump_record.dat.7\n",
      "Completed traj 69/100 in proc 35/50\n",
      "Written jump record to rf_init/jump_record.dat.69\n",
      "Completed traj 85/100 in proc 43/50\n",
      "Written jump record to rf_init/jump_record.dat.85\n",
      "Completed traj 5/100 in proc 3/50\n",
      "Written jump record to rf_init/jump_record.dat.5\n",
      "Completed traj 37/100 in proc 19/50\n",
      "Written jump record to rf_init/jump_record.dat.37\n",
      "Completed traj 55/100 in proc 28/50\n",
      "Written jump record to rf_init/jump_record.dat.55\n",
      "Completed traj 87/100 in proc 44/50\n",
      "Written jump record to rf_init/jump_record.dat.87\n",
      "Completed traj 49/100 in proc 25/50\n",
      "Written jump record to rf_init/jump_record.dat.49\n",
      "Completed traj 51/100 in proc 26/50\n",
      "Written jump record to rf_init/jump_record.dat.51\n",
      "Completed traj 83/100 in proc 42/50\n",
      "Written jump record to rf_init/jump_record.dat.83\n",
      "Completed traj 21/100 in proc 11/50\n",
      "Written jump record to rf_init/jump_record.dat.21\n",
      "Completed traj 1/100 in proc 1/50\n",
      "Written jump record to rf_init/jump_record.dat.1\n",
      "Completed traj 97/100 in proc 49/50\n",
      "Completed traj 19/100 in proc 10/50\n",
      "Written jump record to rf_init/jump_record.dat.19\n",
      "Completed traj 99/100 in proc 50/50\n",
      "Written jump record to rf_init/jump_record.dat.99\n",
      "Written jump record to rf_init/jump_record.dat.97\n",
      "Completed traj 23/100 in proc 12/50\n",
      "Written jump record to rf_init/jump_record.dat.23\n",
      "Completed traj 81/100 in proc 41/50\n",
      "Written jump record to rf_init/jump_record.dat.81\n",
      "Completed traj 35/100 in proc 18/50\n",
      "Written jump record to rf_init/jump_record.dat.35\n",
      "Completed traj 3/100 in proc 2/50\n",
      "Written jump record to rf_init/jump_record.dat.3\n",
      "Completed traj 33/100 in proc 17/50\n",
      "Written jump record to rf_init/jump_record.dat.33\n",
      "Completed traj 42/100 in proc 21/50\n",
      "Written jump record to rf_init/jump_record.dat.42\n",
      "Completed traj 58/100 in proc 29/50\n",
      "Written jump record to rf_init/jump_record.dat.58\n",
      "Completed traj 10/100 in proc 5/50\n",
      "Written jump record to rf_init/jump_record.dat.10\n",
      "Completed traj 60/100 in proc 30/50\n",
      "Written jump record to rf_init/jump_record.dat.60\n",
      "Completed traj 74/100 in proc 37/50\n",
      "Written jump record to rf_init/jump_record.dat.74\n",
      "Completed traj 92/100 in proc 46/50\n",
      "Written jump record to rf_init/jump_record.dat.92\n",
      "Completed traj 44/100 in proc 22/50\n",
      "Written jump record to rf_init/jump_record.dat.44\n",
      "Completed traj 90/100 in proc 45/50\n",
      "Written jump record to rf_init/jump_record.dat.90\n",
      "Completed traj 96/100 in proc 48/50\n",
      "Written jump record to rf_init/jump_record.dat.96\n",
      "Completed traj 28/100 in proc 14/50\n",
      "Written jump record to rf_init/jump_record.dat.28\n",
      "Completed traj 16/100 in proc 8/50\n",
      "Written jump record to rf_init/jump_record.dat.16\n",
      "Completed traj 80/100 in proc 40/50\n",
      "Written jump record to rf_init/jump_record.dat.80\n",
      "Completed traj 46/100 in proc 23/50\n",
      "Written jump record to rf_init/jump_record.dat.46\n",
      "Completed traj 12/100 in proc 6/50\n",
      "Written jump record to rf_init/jump_record.dat.12\n",
      "Completed traj 64/100 in proc 32/50\n",
      "Written jump record to rf_init/jump_record.dat.64\n",
      "Completed traj 40/100 in proc 20/50\n",
      "Written jump record to rf_init/jump_record.dat.40\n",
      "Completed traj 94/100 in proc 47/50\n",
      "Written jump record to rf_init/jump_record.dat.94\n",
      "Completed traj 48/100 in proc 24/50\n",
      "Written jump record to rf_init/jump_record.dat.48\n",
      "Completed traj 14/100 in proc 7/50\n",
      "Written jump record to rf_init/jump_record.dat.14\n",
      "Completed traj 32/100 in proc 16/50\n",
      "Written jump record to rf_init/jump_record.dat.32\n",
      "Completed traj 18/100 in proc 9/50\n",
      "Written jump record to rf_init/jump_record.dat.18\n",
      "Completed traj 30/100 in proc 15/50\n",
      "Written jump record to rf_init/jump_record.dat.30\n",
      "Completed traj 66/100 in proc 33/50\n",
      "Written jump record to rf_init/jump_record.dat.66\n",
      "Completed traj 54/100 in proc 27/50\n",
      "Written jump record to rf_init/jump_record.dat.54\n",
      "Completed traj 26/100 in proc 13/50\n",
      "Written jump record to rf_init/jump_record.dat.26\n",
      "Completed traj 68/100 in proc 34/50\n",
      "Written jump record to rf_init/jump_record.dat.68\n",
      "Completed traj 76/100 in proc 38/50\n",
      "Written jump record to rf_init/jump_record.dat.76\n",
      "Completed traj 72/100 in proc 36/50\n",
      "Written jump record to rf_init/jump_record.dat.72\n",
      "Completed traj 8/100 in proc 4/50\n",
      "Written jump record to rf_init/jump_record.dat.8\n",
      "Completed traj 70/100 in proc 35/50\n",
      "Written jump record to rf_init/jump_record.dat.70\n",
      "Completed traj 78/100 in proc 39/50\n",
      "Written jump record to rf_init/jump_record.dat.78\n",
      "Completed traj 86/100 in proc 43/50\n",
      "Written jump record to rf_init/jump_record.dat.86\n",
      "Completed traj 38/100 in proc 19/50\n",
      "Written jump record to rf_init/jump_record.dat.38\n",
      "Completed traj 62/100 in proc 31/50\n",
      "Written jump record to rf_init/jump_record.dat.62\n",
      "Completed traj 56/100 in proc 28/50\n",
      "Written jump record to rf_init/jump_record.dat.56\n",
      "Completed traj 6/100 in proc 3/50\n",
      "Written jump record to rf_init/jump_record.dat.6\n",
      "Completed traj 88/100 in proc 44/50\n",
      "Written jump record to rf_init/jump_record.dat.88\n",
      "Completed traj 50/100 in proc 25/50\n",
      "Written jump record to rf_init/jump_record.dat.50\n",
      "Completed traj 84/100 in proc 42/50\n",
      "Written jump record to rf_init/jump_record.dat.84\n",
      "Completed traj 52/100 in proc 26/50\n",
      "Written jump record to rf_init/jump_record.dat.52\n",
      "Completed traj 22/100 in proc 11/50\n",
      "Written jump record to rf_init/jump_record.dat.22\n",
      "Completed traj 100/100 in proc 50/50\n",
      "Written jump record to rf_init/jump_record.dat.100\n",
      "Completed traj 98/100 in proc 49/50\n",
      "Written jump record to rf_init/jump_record.dat.98\n",
      "Completed traj 2/100 in proc 1/50\n",
      "Written jump record to rf_init/jump_record.dat.2\n",
      "Completed traj 24/100 in proc 12/50\n",
      "Written jump record to rf_init/jump_record.dat.24\n",
      "Completed traj 20/100 in proc 10/50\n",
      "Written jump record to rf_init/jump_record.dat.20\n",
      "Completed traj 82/100 in proc 41/50\n",
      "Written jump record to rf_init/jump_record.dat.82\n",
      "Completed traj 36/100 in proc 18/50\n",
      "Written jump record to rf_init/jump_record.dat.36\n",
      "Completed traj 4/100 in proc 2/50\n",
      "Written jump record to rf_init/jump_record.dat.4\n",
      "Completed traj 34/100 in proc 17/50\n",
      "Written jump record to rf_init/jump_record.dat.34\n",
      "Waiting in proc 50/50\n",
      "Waiting in proc 46/50\n",
      "Waiting in proc 48/50\n",
      "Waiting in proc 49/50\n",
      "Waiting in proc 47/50\n",
      "Waiting in proc 45/50\n",
      "Waiting in proc 43/50\n",
      "Waiting in proc 44/50\n",
      "Waiting in proc 42/50\n",
      "Waiting in proc 40/50\n",
      "Waiting in proc 41/50\n",
      "Waiting in proc 39/50\n",
      "Waiting in proc 38/50\n",
      "Waiting in proc 35/50\n",
      "Waiting in proc 34/50\n",
      "Waiting in proc 32/50\n",
      "Waiting in proc 37/50\n",
      "Waiting in proc 36/50\n",
      "Waiting in proc 33/50\n",
      "Waiting in proc 31/50\n",
      "Waiting in proc 30/50\n",
      "Waiting in proc 26/50\n",
      "Waiting in proc 27/50\n",
      "Waiting in proc 28/50\n",
      "Waiting in proc 24/50\n",
      "Waiting in proc 25/50\n",
      "Waiting in proc 29/50\n",
      "Waiting in proc 23/50\n",
      "Waiting in proc 22/50\n",
      "Waiting in proc 20/50\n",
      "Waiting in proc 21/50\n",
      "Waiting in proc 17/50\n",
      "Waiting in proc 18/50\n",
      "Waiting in proc 16/50\n",
      "Waiting in proc 19/50\n",
      "Waiting in proc 14/50\n",
      "Waiting in proc 11/50\n",
      "Waiting in proc 12/50\n",
      "Waiting in proc 15/50\n",
      "Waiting in proc 13/50\n",
      "Waiting in proc 10/50\n",
      "Waiting in proc 9/50\n",
      "Waiting in proc 6/50\n",
      "Waiting in proc 7/50\n",
      "Waiting in proc 5/50\n",
      "Waiting in proc 4/50\n",
      "Waiting in proc 8/50\n",
      "Waiting in proc 3/50\n",
      "Waiting in proc 2/50\n",
      "Writing avg in proc 1/50\n",
      "\n",
      "Mon Apr 3 09:57:50 -0700 2017\n",
      "***** END OF PROGRAM qdyn_prop_traj ******\n"
     ]
    }
   ],
   "source": [
    "! mpirun -n 50 qdyn_prop_traj --n-trajs=100 --state-label=00 --use-oct-pulses rf_init"
   ]
  },
  {
   "cell_type": "code",
   "execution_count": 38,
   "metadata": {
    "collapsed": false,
    "scrolled": false
   },
   "outputs": [
    {
     "data": {
      "image/png": "[encoded data removed]",
      "text/plain": [
       "<matplotlib.figure.Figure at 0x7f23e6550748>"
      ]
     },
     "metadata": {},
     "output_type": "display_data"
    }
   ],
   "source": [
    "show_summary_dicke('rf_init', pulses='pulse*.dat')"
   ]
  },
  {
   "cell_type": "markdown",
   "metadata": {},
   "source": [
    "## Example optimization commands\n",
    "\n",
    "*   hilbert space optimization\n",
    "\n",
    "    ```OMP_NUM_THREADS=1 qdyn_optimize --internal-units=GHz_units.txt --debug --J_T=J_T_re .```\n",
    "\n",
    "*   trajectory optimization (model with `mcwf=True`)\n",
    "\n",
    "    ```OMP_NUM_THREADS=1 qdyn_optimize --internal-units=GHz_units.txt --n-trajs=20 --J_T=J_T_re .```"
   ]
  },
  {
   "cell_type": "code",
   "execution_count": null,
   "metadata": {
    "collapsed": true
   },
   "outputs": [],
   "source": []
  },
  {
   "cell_type": "code",
   "execution_count": null,
   "metadata": {
    "collapsed": true
   },
   "outputs": [],
   "source": []
  }
 ],
 "metadata": {
  "anaconda-cloud": {},
  "kernelspec": {
   "display_name": "Python [default]",
   "language": "python",
   "name": "python3"
  },
  "language_info": {
   "codemirror_mode": {
    "name": "ipython",
    "version": 3
   },
   "file_extension": ".py",
   "mimetype": "text/x-python",
   "name": "python",
   "nbconvert_exporter": "python",
   "pygments_lexer": "ipython3",
   "version": "3.5.3"
  },
  "toc": {
   "colors": {
    "hover_highlight": "#DAA520",
    "running_highlight": "#FF0000",
    "selected_highlight": "#FFD700"
   },
   "moveMenuLeft": true,
   "nav_menu": {
    "height": "459px",
    "width": "492px"
   },
   "navigate_menu": true,
   "number_sections": true,
   "sideBar": true,
   "threshold": 4,
   "toc_cell": false,
   "toc_section_display": "block",
   "toc_window_display": false
  }
 },
 "nbformat": 4,
 "nbformat_minor": 2
}

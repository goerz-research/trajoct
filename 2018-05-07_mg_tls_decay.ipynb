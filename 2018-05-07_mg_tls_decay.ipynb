{
 "cells": [
  {
   "cell_type": "markdown",
   "metadata": {},
   "source": [
    "# Including decay in the effective TLS"
   ]
  },
  {
   "cell_type": "markdown",
   "metadata": {},
   "source": [
    "Note that this is not the same as decay from the third level before the adiabatic eliminiation"
   ]
  },
  {
   "cell_type": "code",
   "execution_count": 1,
   "metadata": {
    "ExecuteTime": {
     "end_time": "2018-05-08T02:03:44.328286Z",
     "start_time": "2018-05-08T02:03:40.534140Z"
    },
    "collapsed": true
   },
   "outputs": [],
   "source": [
    "import sympy\n",
    "from sympy import Symbol, symbols, sqrt\n",
    "from qnet.algebra.circuit_algebra import (\n",
    "    connect, CircuitSymbol, SLH, move_drive_to_H)\n",
    "from qnet.algebra.hilbert_space_algebra import LocalSpace\n",
    "from qnet.algebra.operator_algebra import Destroy, LocalSigma\n",
    "from qnet.algebra.circuit_algebra import identity_matrix\n",
    "from qnet.circuit_components.beamsplitter_cc import Beamsplitter\n",
    "from qnet.circuit_components.displace_cc import Displace\n",
    "\n",
    "\n",
    "def node_symbol(node_index):\n",
    "    \"\"\"Symbolic node in the circuit\"\"\"\n",
    "    return CircuitSymbol(\"Node_%d\" % node_index, cdim=1)\n",
    "\n",
    "\n",
    "def dagger(op):\n",
    "    return op.adjoint()\n",
    "\n",
    "\n",
    "def syms_ops(node_index, n_cavity):\n",
    "    \"\"\"Define symbols and operators for a single node, required to write the\n",
    "    SLH for a single node\"\"\"\n",
    "    HilAtom = LocalSpace('q%d' % int(node_index), basis=('g', 'e'),\n",
    "                         order_index=(2*node_index))\n",
    "    HilCavity = LocalSpace('c%d' % int(node_index), dimension=n_cavity,\n",
    "                           order_index=(2*node_index+1))\n",
    "    Sym = {}\n",
    "    Sym['Delta'] = symbols(r'Delta_%s' % node_index, real=True)\n",
    "    Sym['g'] = symbols(r'g_%s' % node_index, positive=True)\n",
    "    Sym['Omega'] = symbols(r'Omega_%s' % node_index)\n",
    "    Sym['I'] = sympy.I\n",
    "    Sym['kappa'] = symbols(r'kappa', positive=True)\n",
    "    Sym['gamma'] = symbols(r'gamma', positive=True)\n",
    "    Op = {}\n",
    "    Op['a'] = Destroy(hs=HilCavity)\n",
    "    Op['|g><g|'] = LocalSigma('g', 'g', hs=HilAtom)\n",
    "    Op['|e><e|'] = LocalSigma('e', 'e', hs=HilAtom)\n",
    "    Op['|e><g|'] = LocalSigma('e', 'g', hs=HilAtom)\n",
    "    Op['|g><e|'] = LocalSigma('g', 'e', hs=HilAtom)\n",
    "    return Sym, Op\n",
    "\n",
    "\n",
    "def node_hamiltonian(Sym, Op):\n",
    "    \"\"\"Symbolic Hamiltonian for a single node, in the RWA\"\"\"\n",
    "    # Symbols\n",
    "    Δ, g, Ω, I = (Sym['Delta'], Sym['g'], Sym['Omega'], Sym['I'])\n",
    "    δ = g**2 / Δ\n",
    "    # Cavity operators\n",
    "    Op_a = Op['a']; Op_a_dag = dagger(Op_a); Op_n = Op_a_dag * Op_a\n",
    "    # Qubit operators\n",
    "    Op_gg = Op['|g><g|']; Op_eg = Op['|e><g|']; Op_ge = dagger(Op_eg)\n",
    "    # Hamiltonian\n",
    "    H = -δ * Op_n + (g**2/Δ) * Op_n * Op_gg \\\n",
    "        -I * (g / (2*Δ)) * Ω * (Op_eg*Op_a - Op_ge*Op_a_dag)\n",
    "    return H\n",
    "\n",
    "\n",
    "def node_slh(node_index, n_cavity):\n",
    "    \"\"\"SLH description for a single node with the given `node_index` (which\n",
    "    will become the subscript in all symbols) and `n_cavity` number of levels\n",
    "    for the cavity\n",
    "    \"\"\"\n",
    "    Sym, Op = syms_ops(node_index, n_cavity)\n",
    "    S = identity_matrix(2)\n",
    "    κ = Sym['kappa']\n",
    "    γ = Sym['gamma']\n",
    "    L = [sqrt(2 * κ) * Op['a'], sqrt(2 * γ) * Op['|g><e|']]\n",
    "    H = node_hamiltonian(Sym, Op)\n",
    "    return SLH(S, L, H)\n",
    "\n",
    "\n",
    "def network_circuit(n_nodes, topology='open'):\n",
    "    \"\"\"Construct the network with the given topology\"\"\"\n",
    "    if topology not in ['open', 'bs_fb', 'driven_bs_fb', 'driven_open']:\n",
    "        raise ValueError(\"Unknown topology: %s\" % topology)\n",
    "    nodes = []\n",
    "    connections = []\n",
    "    prev_node = None\n",
    "    for i in range(n_nodes):\n",
    "        ind = i + 1\n",
    "        cur_node = node_symbol(ind)\n",
    "        nodes.append(cur_node)\n",
    "        if prev_node is not None:\n",
    "            connections.append(((prev_node, 0), (cur_node, 0)))\n",
    "        prev_node = cur_node\n",
    "    if 'bs_fb' in topology:\n",
    "        BS = Beamsplitter('BS', theta=symbols('theta', real=True))\n",
    "        nodes.append(BS)\n",
    "        connections.append(((prev_node, 0), (BS, 0)))\n",
    "        connections.append(((BS, 1), (nodes[0], 0)))\n",
    "        if 'driven' in topology:\n",
    "            W = Displace('W', alpha=symbols('alpha'))\n",
    "            nodes.append(W)\n",
    "            connections.append(((W, 0), (BS, 1)))\n",
    "    else: # open topology\n",
    "        if 'driven' in topology:  # driven_open\n",
    "            W = Displace('W', alpha=symbols('alpha'))\n",
    "            nodes.append(W)\n",
    "            connections.append(((W, 0), (nodes[0], 0)))\n",
    "\n",
    "    circuit = connect(nodes, connections, force_SLH=False)\n",
    "    return circuit\n",
    "\n",
    "\n",
    "def network_slh(n_cavity, n_nodes, topology='open', inhom=False):\n",
    "    \"\"\"Return the symbolic SLH for the entire network\"\"\"\n",
    "    circuit = network_circuit(n_nodes, topology)\n",
    "    slh_mapping = {}\n",
    "    for i in range(n_nodes):\n",
    "        ind = i + 1  # 1-based indexing of nodes\n",
    "        slh_mapping[node_symbol(ind)] = node_slh(ind, n_cavity)\n",
    "    S, L, H = circuit.substitute(slh_mapping).toSLH()\n",
    "    κ = Symbol('kappa', positive=True)\n",
    "    α, Ω = symbols('alpha Omega_alpha')\n",
    "    λ = symbols('lambda', real=True)\n",
    "    S.expand().simplify_scalar()\n",
    "    H = H.expand().simplify_scalar().substitute({\n",
    "        α: (λ * Ω.conjugate() / (2 * sqrt(κ))),\n",
    "    })\n",
    "    L = L.expand().simplify_scalar().substitute({\n",
    "        α: (λ * Ω.conjugate() / (2 * sqrt(κ))),\n",
    "    })\n",
    "    slh = SLH(S, L, H)\n",
    "    if not inhom:\n",
    "        slh = move_drive_to_H(slh)\n",
    "    slh.n_cavity = n_cavity\n",
    "    slh.n_nodes = n_nodes\n",
    "    return slh\n"
   ]
  },
  {
   "cell_type": "code",
   "execution_count": 2,
   "metadata": {
    "ExecuteTime": {
     "end_time": "2018-05-08T02:03:45.184504Z",
     "start_time": "2018-05-08T02:03:44.332345Z"
    },
    "collapsed": true
   },
   "outputs": [],
   "source": [
    "slh = network_slh(n_cavity=2, n_nodes=2)"
   ]
  },
  {
   "cell_type": "code",
   "execution_count": 4,
   "metadata": {
    "ExecuteTime": {
     "end_time": "2018-05-08T02:03:56.116357Z",
     "start_time": "2018-05-08T02:03:56.107219Z"
    }
   },
   "outputs": [
    {
     "data": {
      "text/latex": [
       "$\\begin{pmatrix}\\sqrt{2} \\sqrt{\\kappa} \\hat{a}^{(c_{1})} + \\sqrt{2} \\sqrt{\\kappa} \\hat{a}^{(c_{2})} \\\\\\sqrt{2} \\sqrt{\\gamma} \\left\\lvert g \\middle\\rangle\\!\\middle\\langle e \\right\\rvert^{(q_{1})} + \\sqrt{2} \\sqrt{\\gamma} \\left\\lvert g \\middle\\rangle\\!\\middle\\langle e \\right\\rvert^{(q_{2})}\\end{pmatrix}$"
      ],
      "text/plain": [
       "[[√2 √κ â^(c₁) + √2 √κ â^(c₂)], [√2 √γ |g⟩⟨e|^(q₁) + √2 √γ |g⟩⟨e|^(q₂)]]"
      ]
     },
     "execution_count": 4,
     "metadata": {},
     "output_type": "execute_result"
    }
   ],
   "source": [
    "slh.L"
   ]
  },
  {
   "cell_type": "code",
   "execution_count": 3,
   "metadata": {
    "ExecuteTime": {
     "end_time": "2018-05-08T02:03:45.213630Z",
     "start_time": "2018-05-08T02:03:45.187758Z"
    }
   },
   "outputs": [
    {
     "data": {
      "text/latex": [
       "$\\frac{g_{1}^{2}}{\\Delta_{1}} \\left\\lvert g \\middle\\rangle\\!\\middle\\langle g \\right\\rvert^{(q_{1})} \\hat{a}^{(c_{1})\\dagger} \\hat{a}^{(c_{1})} - \\frac{i \\Omega_{1} g_{1}}{2 \\Delta_{1}} \\left\\lvert e \\middle\\rangle\\!\\middle\\langle g \\right\\rvert^{(q_{1})} \\hat{a}^{(c_{1})} + \\frac{i \\Omega_{1} g_{1}}{2 \\Delta_{1}} \\left\\lvert g \\middle\\rangle\\!\\middle\\langle e \\right\\rvert^{(q_{1})} \\hat{a}^{(c_{1})\\dagger} + i \\gamma \\left\\lvert e \\middle\\rangle\\!\\middle\\langle g \\right\\rvert^{(q_{1})} \\left\\lvert g \\middle\\rangle\\!\\middle\\langle e \\right\\rvert^{(q_{2})} - i \\gamma \\left\\lvert g \\middle\\rangle\\!\\middle\\langle e \\right\\rvert^{(q_{1})} \\left\\lvert e \\middle\\rangle\\!\\middle\\langle g \\right\\rvert^{(q_{2})} - \\frac{g_{1}^{2}}{\\Delta_{1}} \\hat{a}^{(c_{1})\\dagger} \\hat{a}^{(c_{1})} + i \\kappa \\hat{a}^{(c_{1})\\dagger} \\hat{a}^{(c_{2})} - i \\kappa \\hat{a}^{(c_{1})} \\hat{a}^{(c_{2})\\dagger} + \\frac{g_{2}^{2}}{\\Delta_{2}} \\left\\lvert g \\middle\\rangle\\!\\middle\\langle g \\right\\rvert^{(q_{2})} \\hat{a}^{(c_{2})\\dagger} \\hat{a}^{(c_{2})} - \\frac{i \\Omega_{2} g_{2}}{2 \\Delta_{2}} \\left\\lvert e \\middle\\rangle\\!\\middle\\langle g \\right\\rvert^{(q_{2})} \\hat{a}^{(c_{2})} + \\frac{i \\Omega_{2} g_{2}}{2 \\Delta_{2}} \\left\\lvert g \\middle\\rangle\\!\\middle\\langle e \\right\\rvert^{(q_{2})} \\hat{a}^{(c_{2})\\dagger} - \\frac{g_{2}^{2}}{\\Delta_{2}} \\hat{a}^{(c_{2})\\dagger} \\hat{a}^{(c_{2})}$"
      ],
      "text/plain": [
       "g₁²/Δ₁ |g⟩⟨g|^(q₁) â^(c₁)† â^(c₁) - ⅈ Ω₁ g₁/(2 Δ₁) |e⟩⟨g|^(q₁) â^(c₁) + ⅈ Ω₁ g₁/(2 Δ₁) |g⟩⟨e|^(q₁) â^(c₁)† + ⅈ γ |e⟩⟨g|^(q₁) |g⟩⟨e|^(q₂) - ⅈ γ |g⟩⟨e|^(q₁) |e⟩⟨g|^(q₂) - g₁²/Δ₁ â^(c₁)† â^(c₁) + ⅈ κ â^(c₁)† â^(c₂) - ⅈ κ â^(c₁) â^(c₂)† + g₂²/Δ₂ |g⟩⟨g|^(q₂) â^(c₂)† â^(c₂) - ⅈ Ω₂ g₂/(2 Δ₂) |e⟩⟨g|^(q₂) â^(c₂) + ⅈ Ω₂ g₂/(2 Δ₂) |g⟩⟨e|^(q₂) â^(c₂)† - g₂²/Δ₂ â^(c₂)† â^(c₂)"
      ]
     },
     "execution_count": 3,
     "metadata": {},
     "output_type": "execute_result"
    }
   ],
   "source": [
    "slh.H"
   ]
  },
  {
   "cell_type": "code",
   "execution_count": null,
   "metadata": {
    "collapsed": true
   },
   "outputs": [],
   "source": []
  }
 ],
 "metadata": {
  "kernelspec": {
   "display_name": "Python 3",
   "language": "python",
   "name": "python3"
  },
  "language_info": {
   "codemirror_mode": {
    "name": "ipython",
    "version": 3
   },
   "file_extension": ".py",
   "mimetype": "text/x-python",
   "name": "python",
   "nbconvert_exporter": "python",
   "pygments_lexer": "ipython3",
   "version": "3.6.1"
  },
  "toc": {
   "nav_menu": {},
   "number_sections": true,
   "sideBar": true,
   "skip_h1_title": false,
   "toc_cell": false,
   "toc_position": {},
   "toc_section_display": "block",
   "toc_window_display": true
  },
  "varInspector": {
   "cols": {
    "lenName": 16,
    "lenType": 16,
    "lenVar": 40
   },
   "kernels_config": {
    "python": {
     "delete_cmd_postfix": "",
     "delete_cmd_prefix": "del ",
     "library": "var_list.py",
     "varRefreshCmd": "print(var_dic_list())"
    },
    "r": {
     "delete_cmd_postfix": ") ",
     "delete_cmd_prefix": "rm(",
     "library": "var_list.r",
     "varRefreshCmd": "cat(var_dic_list()) "
    }
   },
   "types_to_exclude": [
    "module",
    "function",
    "builtin_function_or_method",
    "instance",
    "_Feature"
   ],
   "window_display": false
  }
 },
 "nbformat": 4,
 "nbformat_minor": 2
}

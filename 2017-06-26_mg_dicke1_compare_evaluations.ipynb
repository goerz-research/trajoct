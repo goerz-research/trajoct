{
 "cells": [
  {
   "cell_type": "code",
   "execution_count": 1,
   "metadata": {
    "collapsed": true
   },
   "outputs": [],
   "source": [
    "import os\n",
    "import re\n",
    "from os.path import join\n",
    "from io import StringIO\n",
    "from glob import glob\n",
    "import shutil\n",
    "\n",
    "import sympy\n",
    "import pandas as pd\n",
    "from sympy import Symbol, sqrt, cos, pi, symbols\n",
    "import numpy as np\n",
    "import matplotlib.pylab as plt\n",
    "import pandas as pd\n",
    "from collections import OrderedDict\n",
    "\n",
    "import qnet\n",
    "from qnet.algebra import *\n",
    "\n",
    "import QDYN\n",
    "\n",
    "from src.notebook_plots_v1 import plot_bs_decay, display_hamiltonian, display_eq, show_summary_dicke\n",
    "from src.single_sided_network_v1 import network_slh\n",
    "from src.dicke_single_model_v2 import write_dicke_single_model, err_dicke_single\n",
    "from src.doit_actions_v1 import run_traj_prop\n",
    "\n",
    "from doit.tools import register_doit_as_IPython_magic"
   ]
  },
  {
   "cell_type": "code",
   "execution_count": 2,
   "metadata": {
    "collapsed": true
   },
   "outputs": [],
   "source": [
    "qnet.init_printing()"
   ]
  },
  {
   "cell_type": "code",
   "execution_count": 3,
   "metadata": {
    "attributes": {
     "classes": [],
     "id": "",
     "n": "4"
    },
    "collapsed": true
   },
   "outputs": [],
   "source": [
    "DOIT_CONFIG = {\n",
    "    'backend': 'json',\n",
    "    'dep_file': '.doit_db/2017-06-26_mg_dicke1_compare_evaluations.json',\n",
    "}\n",
    "register_doit_as_IPython_magic()"
   ]
  },
  {
   "cell_type": "markdown",
   "metadata": {},
   "source": [
    "$\n",
    "\\newcommand{ket}[1]{\\vert #1 \\rangle}\n",
    "\\newcommand{bra}[1]{\\langle #1 \\vert}\n",
    "\\newcommand{Op}[1]{\\hat{#1}}\n",
    "$"
   ]
  },
  {
   "cell_type": "markdown",
   "metadata": {},
   "source": [
    "# How should the error be evaluated?"
   ]
  },
  {
   "cell_type": "markdown",
   "metadata": {},
   "source": [
    "## Set up runfolders"
   ]
  },
  {
   "cell_type": "code",
   "execution_count": 4,
   "metadata": {
    "collapsed": true
   },
   "outputs": [],
   "source": [
    "SOURCE_RF = './data/dicke1_QSL_1traj_xxx/rf_2nodes_T1_50'"
   ]
  },
  {
   "cell_type": "code",
   "execution_count": 5,
   "metadata": {
    "collapsed": true
   },
   "outputs": [],
   "source": [
    "DATA_ROOT = './data/dicke1_compare_evaluations'"
   ]
  },
  {
   "cell_type": "code",
   "execution_count": 6,
   "metadata": {
    "collapsed": true
   },
   "outputs": [],
   "source": [
    "params_data_str = r'''\n",
    "# n_nodes     T  n_trajs      mcwf  seed\n",
    "        2  1.50        1     False     0\n",
    "        2  1.50      100      True     0\n",
    "        2  1.50      100      True     1\n",
    "        2  1.50      100      True     2\n",
    "        2  1.50      700      True     3\n",
    "        2  1.50     1000      True     4\n",
    "        2  1.50     2000      True     5\n",
    "        2  1.50     4000      True     6\n",
    "        2  1.50     8000      True     7\n",
    "        2  1.50    16000      True     8\n",
    "        2  1.50    32000      True     9\n",
    "        2  1.50    64000      True    10\n",
    "        2  1.50   128000      True    11\n",
    "        2  1.50   128000      True    12\n",
    "'''\n",
    "\n",
    "def read_bool(s):\n",
    "    \"\"\"convert string to boolean\"\"\"\n",
    "    true_vals = ['1', 'true']\n",
    "    false_vals = ['0', 'false']\n",
    "    s = s.lower()\n",
    "    if s in true_vals:\n",
    "        return True\n",
    "    elif s in false_vals:\n",
    "        return False\n",
    "    else:\n",
    "        raise ValueError(\"Cannot convert '%s'\" % s)\n",
    "\n",
    "params_df = pd.read_fwf(\n",
    "        StringIO(params_data_str), comment='#', header=1,\n",
    "        names=['n_nodes', 'T', 'n_trajs', 'mcwf', 'seed'],\n",
    "        converters={\n",
    "            'n_nodes': int, 'T': float, 'n_trajs': int,\n",
    "            'mcwf': read_bool, 'seed': int})\n"
   ]
  },
  {
   "cell_type": "code",
   "execution_count": 7,
   "metadata": {},
   "outputs": [
    {
     "data": {
      "text/html": [
       "<div>\n",
       "<table border=\"1\" class=\"dataframe\">\n",
       "  <thead>\n",
       "    <tr style=\"text-align: right;\">\n",
       "      <th></th>\n",
       "      <th>n_nodes</th>\n",
       "      <th>T</th>\n",
       "      <th>n_trajs</th>\n",
       "      <th>mcwf</th>\n",
       "      <th>seed</th>\n",
       "    </tr>\n",
       "  </thead>\n",
       "  <tbody>\n",
       "    <tr>\n",
       "      <th>0</th>\n",
       "      <td>2</td>\n",
       "      <td>1.5</td>\n",
       "      <td>1</td>\n",
       "      <td>False</td>\n",
       "      <td>0</td>\n",
       "    </tr>\n",
       "    <tr>\n",
       "      <th>1</th>\n",
       "      <td>2</td>\n",
       "      <td>1.5</td>\n",
       "      <td>100</td>\n",
       "      <td>True</td>\n",
       "      <td>0</td>\n",
       "    </tr>\n",
       "    <tr>\n",
       "      <th>2</th>\n",
       "      <td>2</td>\n",
       "      <td>1.5</td>\n",
       "      <td>100</td>\n",
       "      <td>True</td>\n",
       "      <td>1</td>\n",
       "    </tr>\n",
       "    <tr>\n",
       "      <th>3</th>\n",
       "      <td>2</td>\n",
       "      <td>1.5</td>\n",
       "      <td>100</td>\n",
       "      <td>True</td>\n",
       "      <td>2</td>\n",
       "    </tr>\n",
       "    <tr>\n",
       "      <th>4</th>\n",
       "      <td>2</td>\n",
       "      <td>1.5</td>\n",
       "      <td>700</td>\n",
       "      <td>True</td>\n",
       "      <td>3</td>\n",
       "    </tr>\n",
       "    <tr>\n",
       "      <th>5</th>\n",
       "      <td>2</td>\n",
       "      <td>1.5</td>\n",
       "      <td>1000</td>\n",
       "      <td>True</td>\n",
       "      <td>4</td>\n",
       "    </tr>\n",
       "    <tr>\n",
       "      <th>6</th>\n",
       "      <td>2</td>\n",
       "      <td>1.5</td>\n",
       "      <td>2000</td>\n",
       "      <td>True</td>\n",
       "      <td>5</td>\n",
       "    </tr>\n",
       "    <tr>\n",
       "      <th>7</th>\n",
       "      <td>2</td>\n",
       "      <td>1.5</td>\n",
       "      <td>4000</td>\n",
       "      <td>True</td>\n",
       "      <td>6</td>\n",
       "    </tr>\n",
       "    <tr>\n",
       "      <th>8</th>\n",
       "      <td>2</td>\n",
       "      <td>1.5</td>\n",
       "      <td>8000</td>\n",
       "      <td>True</td>\n",
       "      <td>7</td>\n",
       "    </tr>\n",
       "    <tr>\n",
       "      <th>9</th>\n",
       "      <td>2</td>\n",
       "      <td>1.5</td>\n",
       "      <td>16000</td>\n",
       "      <td>True</td>\n",
       "      <td>8</td>\n",
       "    </tr>\n",
       "    <tr>\n",
       "      <th>10</th>\n",
       "      <td>2</td>\n",
       "      <td>1.5</td>\n",
       "      <td>32000</td>\n",
       "      <td>True</td>\n",
       "      <td>9</td>\n",
       "    </tr>\n",
       "    <tr>\n",
       "      <th>11</th>\n",
       "      <td>2</td>\n",
       "      <td>1.5</td>\n",
       "      <td>64000</td>\n",
       "      <td>True</td>\n",
       "      <td>10</td>\n",
       "    </tr>\n",
       "    <tr>\n",
       "      <th>12</th>\n",
       "      <td>2</td>\n",
       "      <td>1.5</td>\n",
       "      <td>128000</td>\n",
       "      <td>True</td>\n",
       "      <td>11</td>\n",
       "    </tr>\n",
       "    <tr>\n",
       "      <th>13</th>\n",
       "      <td>2</td>\n",
       "      <td>1.5</td>\n",
       "      <td>128000</td>\n",
       "      <td>True</td>\n",
       "      <td>12</td>\n",
       "    </tr>\n",
       "  </tbody>\n",
       "</table>\n",
       "</div>"
      ],
      "text/plain": [
       "    n_nodes    T  n_trajs   mcwf  seed\n",
       "0         2  1.5        1  False     0\n",
       "1         2  1.5      100   True     0\n",
       "2         2  1.5      100   True     1\n",
       "3         2  1.5      100   True     2\n",
       "4         2  1.5      700   True     3\n",
       "5         2  1.5     1000   True     4\n",
       "6         2  1.5     2000   True     5\n",
       "7         2  1.5     4000   True     6\n",
       "8         2  1.5     8000   True     7\n",
       "9         2  1.5    16000   True     8\n",
       "10        2  1.5    32000   True     9\n",
       "11        2  1.5    64000   True    10\n",
       "12        2  1.5   128000   True    11\n",
       "13        2  1.5   128000   True    12"
      ]
     },
     "execution_count": 7,
     "metadata": {},
     "output_type": "execute_result"
    }
   ],
   "source": [
    "params_df"
   ]
  },
  {
   "cell_type": "code",
   "execution_count": 8,
   "metadata": {
    "collapsed": true
   },
   "outputs": [],
   "source": [
    "def runfolder(row):\n",
    "    int_part, frac_part = (\"%.2f\" % row['T']).split('.')\n",
    "    if row['mcwf']:\n",
    "        label = 'mcwf_%s' % row['seed']\n",
    "    else:\n",
    "        label = 'non_herm'\n",
    "    rf = 'rf_%dnodes_T%s_%s_%s' % (\n",
    "        row['n_nodes'], int_part, frac_part, label)\n",
    "    return join(DATA_ROOT, rf)"
   ]
  },
  {
   "cell_type": "code",
   "execution_count": 9,
   "metadata": {
    "collapsed": true
   },
   "outputs": [],
   "source": [
    "def copy_optimized_pulses(from_rf, to_rf):\n",
    "    for file in glob(join(from_rf, 'pulse*.oct.dat')):\n",
    "        shutil.copy(file, to_rf)"
   ]
  },
  {
   "cell_type": "code",
   "execution_count": 10,
   "metadata": {
    "collapsed": true
   },
   "outputs": [],
   "source": [
    "def task_create_runfolder():\n",
    "    \"\"\"Create all necessary runfolders for the runs defined in params_df\"\"\"\n",
    "    slh_models = {}\n",
    "    runfolders = set()\n",
    "    for ind, row in params_df.iterrows():\n",
    "        rf = runfolder(row)\n",
    "        if rf in runfolders:\n",
    "            raise ValueError(\"Duplicate runfolder %s, row %d\" % (rf, ind))\n",
    "        runfolders.add(rf)\n",
    "        n_nodes = int(row['n_nodes'])\n",
    "        try:\n",
    "            slh = slh_models[n_nodes]\n",
    "        except KeyError:\n",
    "            slh = network_slh(\n",
    "                n_cavity=2, n_nodes=n_nodes, topology='driven_bs_fb')\n",
    "            slh_models[n_nodes] = slh\n",
    "        yield {\n",
    "            'name': str(rf),\n",
    "            'actions': [\n",
    "                (write_dicke_single_model, [slh, ], dict(\n",
    "                    rf=rf, T=row['T'], theta=0, nt=500, seed=row['seed'],\n",
    "                    kappa=1.0, E0_cycles=2, mcwf=row['mcwf'], non_herm=True)),\n",
    "                (copy_optimized_pulses, [SOURCE_RF, rf])\n",
    "            ],\n",
    "            'targets': [join(rf, 'config'), join(rf, 'pulse1.oct.dat')],\n",
    "            'uptodate': [True, ] # up to date if targets exist\n",
    "        }\n"
   ]
  },
  {
   "cell_type": "code",
   "execution_count": 11,
   "metadata": {
    "collapsed": true
   },
   "outputs": [],
   "source": [
    "N_PROCS = 50"
   ]
  },
  {
   "cell_type": "code",
   "execution_count": 12,
   "metadata": {
    "collapsed": true
   },
   "outputs": [],
   "source": [
    "def task_propagate():\n",
    "    \"\"\"Run optimization for every runfolder from params_df\"\"\"\n",
    "    for ind, row in params_df.iterrows():\n",
    "        rf = runfolder(row)\n",
    "        n_procs = N_PROCS\n",
    "        if not row['mcwf']:\n",
    "            n_procs = 1\n",
    "        yield {\n",
    "            'name': str(rf),\n",
    "            'actions': [\n",
    "                (run_traj_prop, [rf, ], dict(n_trajs=row['n_trajs'], n_procs=n_procs))],\n",
    "            'file_dep': [join(rf, 'pulse1.oct.dat'),],\n",
    "            'targets': [join(rf, 'state_final.dat.1'),]}"
   ]
  },
  {
   "cell_type": "code",
   "execution_count": 13,
   "metadata": {},
   "outputs": [
    {
     "name": "stdout",
     "output_type": "stream",
     "text": [
      ".  create_runfolder:./data/dicke1_compare_evaluations/rf_2nodes_T1_50_non_herm\n",
      ".  create_runfolder:./data/dicke1_compare_evaluations/rf_2nodes_T1_50_mcwf_0\n",
      ".  create_runfolder:./data/dicke1_compare_evaluations/rf_2nodes_T1_50_mcwf_1\n",
      ".  create_runfolder:./data/dicke1_compare_evaluations/rf_2nodes_T1_50_mcwf_2\n",
      ".  create_runfolder:./data/dicke1_compare_evaluations/rf_2nodes_T1_50_mcwf_3\n",
      ".  create_runfolder:./data/dicke1_compare_evaluations/rf_2nodes_T1_50_mcwf_4\n",
      ".  create_runfolder:./data/dicke1_compare_evaluations/rf_2nodes_T1_50_mcwf_5\n",
      ".  create_runfolder:./data/dicke1_compare_evaluations/rf_2nodes_T1_50_mcwf_6\n",
      ".  create_runfolder:./data/dicke1_compare_evaluations/rf_2nodes_T1_50_mcwf_7\n",
      ".  create_runfolder:./data/dicke1_compare_evaluations/rf_2nodes_T1_50_mcwf_8\n",
      ".  create_runfolder:./data/dicke1_compare_evaluations/rf_2nodes_T1_50_mcwf_9\n",
      ".  create_runfolder:./data/dicke1_compare_evaluations/rf_2nodes_T1_50_mcwf_10\n",
      ".  create_runfolder:./data/dicke1_compare_evaluations/rf_2nodes_T1_50_mcwf_11\n",
      ".  create_runfolder:./data/dicke1_compare_evaluations/rf_2nodes_T1_50_mcwf_12\n"
     ]
    }
   ],
   "source": [
    "%doit create_runfolder"
   ]
  },
  {
   "cell_type": "code",
   "execution_count": 14,
   "metadata": {},
   "outputs": [
    {
     "name": "stdout",
     "output_type": "stream",
     "text": [
      "-- create_runfolder:./data/dicke1_compare_evaluations/rf_2nodes_T1_50_non_herm\n",
      "-- create_runfolder:./data/dicke1_compare_evaluations/rf_2nodes_T1_50_mcwf_0\n",
      "-- create_runfolder:./data/dicke1_compare_evaluations/rf_2nodes_T1_50_mcwf_1\n",
      "-- create_runfolder:./data/dicke1_compare_evaluations/rf_2nodes_T1_50_mcwf_2\n",
      "-- create_runfolder:./data/dicke1_compare_evaluations/rf_2nodes_T1_50_mcwf_3\n",
      "-- create_runfolder:./data/dicke1_compare_evaluations/rf_2nodes_T1_50_mcwf_4\n",
      "-- create_runfolder:./data/dicke1_compare_evaluations/rf_2nodes_T1_50_mcwf_5\n",
      "-- create_runfolder:./data/dicke1_compare_evaluations/rf_2nodes_T1_50_mcwf_6\n",
      "-- create_runfolder:./data/dicke1_compare_evaluations/rf_2nodes_T1_50_mcwf_7\n",
      "-- create_runfolder:./data/dicke1_compare_evaluations/rf_2nodes_T1_50_mcwf_8\n",
      "-- create_runfolder:./data/dicke1_compare_evaluations/rf_2nodes_T1_50_mcwf_9\n",
      "-- create_runfolder:./data/dicke1_compare_evaluations/rf_2nodes_T1_50_mcwf_10\n",
      "-- create_runfolder:./data/dicke1_compare_evaluations/rf_2nodes_T1_50_mcwf_11\n",
      "-- create_runfolder:./data/dicke1_compare_evaluations/rf_2nodes_T1_50_mcwf_12\n",
      ".  propagate:./data/dicke1_compare_evaluations/rf_2nodes_T1_50_non_herm\n",
      ".  propagate:./data/dicke1_compare_evaluations/rf_2nodes_T1_50_mcwf_0\n",
      ".  propagate:./data/dicke1_compare_evaluations/rf_2nodes_T1_50_mcwf_1\n",
      ".  propagate:./data/dicke1_compare_evaluations/rf_2nodes_T1_50_mcwf_2\n",
      ".  propagate:./data/dicke1_compare_evaluations/rf_2nodes_T1_50_mcwf_3\n",
      ".  propagate:./data/dicke1_compare_evaluations/rf_2nodes_T1_50_mcwf_4\n",
      ".  propagate:./data/dicke1_compare_evaluations/rf_2nodes_T1_50_mcwf_5\n",
      ".  propagate:./data/dicke1_compare_evaluations/rf_2nodes_T1_50_mcwf_6\n",
      ".  propagate:./data/dicke1_compare_evaluations/rf_2nodes_T1_50_mcwf_7\n",
      ".  propagate:./data/dicke1_compare_evaluations/rf_2nodes_T1_50_mcwf_8\n",
      ".  propagate:./data/dicke1_compare_evaluations/rf_2nodes_T1_50_mcwf_9\n",
      ".  propagate:./data/dicke1_compare_evaluations/rf_2nodes_T1_50_mcwf_10\n",
      ".  propagate:./data/dicke1_compare_evaluations/rf_2nodes_T1_50_mcwf_11\n",
      ".  propagate:./data/dicke1_compare_evaluations/rf_2nodes_T1_50_mcwf_12\n"
     ]
    }
   ],
   "source": [
    "%doit propagate"
   ]
  },
  {
   "cell_type": "code",
   "execution_count": 28,
   "metadata": {
    "collapsed": true
   },
   "outputs": [],
   "source": [
    "def get_err_from_P_target(rf):\n",
    "    tgrid, P, var_P = np.genfromtxt(join(rf, \"P_target.dat\"), unpack=True)\n",
    "    return 1.0-P[-1]"
   ]
  },
  {
   "cell_type": "code",
   "execution_count": 15,
   "metadata": {},
   "outputs": [
    {
     "data": {
      "image/png": "[encoded data removed]",
      "text/latex": [
       "$$0.000513792941711$$"
      ],
      "text/plain": [
       "0.000513792941711"
      ]
     },
     "execution_count": 15,
     "metadata": {},
     "output_type": "execute_result"
    }
   ],
   "source": [
    "err_dicke_single(\"./data/dicke1_compare_evaluations/rf_2nodes_T1_50_non_herm\", 'state_final.dat*')"
   ]
  },
  {
   "cell_type": "code",
   "execution_count": 16,
   "metadata": {},
   "outputs": [
    {
     "data": {
      "image/png": "[encoded data removed]",
      "text/latex": [
       "$$0.100462413648$$"
      ],
      "text/plain": [
       "0.100462413648"
      ]
     },
     "execution_count": 16,
     "metadata": {},
     "output_type": "execute_result"
    }
   ],
   "source": [
    "err_dicke_single(\"./data/dicke1_compare_evaluations/rf_2nodes_T1_50_mcwf_0\", 'state_final.dat*')"
   ]
  },
  {
   "cell_type": "code",
   "execution_count": 30,
   "metadata": {},
   "outputs": [
    {
     "data": {
      "image/png": "[encoded data removed]",
      "text/latex": [
       "$$0.100462413648$$"
      ],
      "text/plain": [
       "0.100462413648"
      ]
     },
     "execution_count": 30,
     "metadata": {},
     "output_type": "execute_result"
    }
   ],
   "source": [
    "get_err_from_P_target(\"./data/dicke1_compare_evaluations/rf_2nodes_T1_50_mcwf_0\")"
   ]
  },
  {
   "cell_type": "code",
   "execution_count": 17,
   "metadata": {},
   "outputs": [
    {
     "data": {
      "image/png": "[encoded data removed]",
      "text/latex": [
       "$$0.110457275718$$"
      ],
      "text/plain": [
       "0.110457275718"
      ]
     },
     "execution_count": 17,
     "metadata": {},
     "output_type": "execute_result"
    }
   ],
   "source": [
    "err_dicke_single(\"./data/dicke1_compare_evaluations/rf_2nodes_T1_50_mcwf_1\", 'state_final.dat*')"
   ]
  },
  {
   "cell_type": "code",
   "execution_count": 31,
   "metadata": {},
   "outputs": [
    {
     "data": {
      "image/png": "[encoded data removed]",
      "text/latex": [
       "$$0.110457275718$$"
      ],
      "text/plain": [
       "0.110457275718"
      ]
     },
     "execution_count": 31,
     "metadata": {},
     "output_type": "execute_result"
    }
   ],
   "source": [
    "get_err_from_P_target(\"./data/dicke1_compare_evaluations/rf_2nodes_T1_50_mcwf_1\")"
   ]
  },
  {
   "cell_type": "code",
   "execution_count": 18,
   "metadata": {},
   "outputs": [
    {
     "data": {
      "image/png": "[encoded data removed]",
      "text/latex": [
       "$$0.100462413648$$"
      ],
      "text/plain": [
       "0.100462413648"
      ]
     },
     "execution_count": 18,
     "metadata": {},
     "output_type": "execute_result"
    }
   ],
   "source": [
    "err_dicke_single(\"./data/dicke1_compare_evaluations/rf_2nodes_T1_50_mcwf_2\", 'state_final.dat*')"
   ]
  },
  {
   "cell_type": "code",
   "execution_count": 19,
   "metadata": {},
   "outputs": [
    {
     "data": {
      "image/png": "[encoded data removed]",
      "text/latex": [
       "$$0.0876118766996$$"
      ],
      "text/plain": [
       "0.0876118766996"
      ]
     },
     "execution_count": 19,
     "metadata": {},
     "output_type": "execute_result"
    }
   ],
   "source": [
    "err_dicke_single(\"./data/dicke1_compare_evaluations/rf_2nodes_T1_50_mcwf_3\", 'state_final.dat*')"
   ]
  },
  {
   "cell_type": "code",
   "execution_count": 20,
   "metadata": {},
   "outputs": [
    {
     "data": {
      "image/png": "[encoded data removed]",
      "text/latex": [
       "$$0.0764747446781$$"
      ],
      "text/plain": [
       "0.0764747446781"
      ]
     },
     "execution_count": 20,
     "metadata": {},
     "output_type": "execute_result"
    }
   ],
   "source": [
    "err_dicke_single(\"./data/dicke1_compare_evaluations/rf_2nodes_T1_50_mcwf_4\", 'state_final.dat*')"
   ]
  },
  {
   "cell_type": "code",
   "execution_count": 21,
   "metadata": {},
   "outputs": [
    {
     "data": {
      "image/png": "[encoded data removed]",
      "text/latex": [
       "$$0.0814721757134$$"
      ],
      "text/plain": [
       "0.0814721757134"
      ]
     },
     "execution_count": 21,
     "metadata": {},
     "output_type": "execute_result"
    }
   ],
   "source": [
    "err_dicke_single(\"./data/dicke1_compare_evaluations/rf_2nodes_T1_50_mcwf_5\", 'state_final.dat*')"
   ]
  },
  {
   "cell_type": "code",
   "execution_count": 22,
   "metadata": {},
   "outputs": [
    {
     "data": {
      "image/png": "[encoded data removed]",
      "text/latex": [
       "$$0.0832212765757$$"
      ],
      "text/plain": [
       "0.0832212765757"
      ]
     },
     "execution_count": 22,
     "metadata": {},
     "output_type": "execute_result"
    }
   ],
   "source": [
    "err_dicke_single(\"./data/dicke1_compare_evaluations/rf_2nodes_T1_50_mcwf_6\", 'state_final.dat*')"
   ]
  },
  {
   "cell_type": "code",
   "execution_count": 23,
   "metadata": {},
   "outputs": [
    {
     "data": {
      "image/png": "[encoded data removed]",
      "text/latex": [
       "$$0.0794732032994$$"
      ],
      "text/plain": [
       "0.0794732032994"
      ]
     },
     "execution_count": 23,
     "metadata": {},
     "output_type": "execute_result"
    }
   ],
   "source": [
    "err_dicke_single(\"./data/dicke1_compare_evaluations/rf_2nodes_T1_50_mcwf_7\", 'state_final.dat*')"
   ]
  },
  {
   "cell_type": "code",
   "execution_count": 24,
   "metadata": {},
   "outputs": [
    {
     "data": {
      "image/png": "[encoded data removed]",
      "text/latex": [
       "$$0.0817845151533$$"
      ],
      "text/plain": [
       "0.0817845151533"
      ]
     },
     "execution_count": 24,
     "metadata": {},
     "output_type": "execute_result"
    }
   ],
   "source": [
    "err_dicke_single(\"./data/dicke1_compare_evaluations/rf_2nodes_T1_50_mcwf_8\", 'state_final.dat*')"
   ]
  },
  {
   "cell_type": "code",
   "execution_count": 32,
   "metadata": {},
   "outputs": [
    {
     "data": {
      "image/png": "[encoded data removed]",
      "text/latex": [
       "$$0.0817845151531$$"
      ],
      "text/plain": [
       "0.0817845151531"
      ]
     },
     "execution_count": 32,
     "metadata": {},
     "output_type": "execute_result"
    }
   ],
   "source": [
    "get_err_from_P_target(\"./data/dicke1_compare_evaluations/rf_2nodes_T1_50_mcwf_8\")"
   ]
  },
  {
   "cell_type": "code",
   "execution_count": 33,
   "metadata": {},
   "outputs": [
    {
     "data": {
      "image/png": "[encoded data removed]",
      "text/latex": [
       "$$0.0791920978031$$"
      ],
      "text/plain": [
       "0.0791920978031"
      ]
     },
     "execution_count": 33,
     "metadata": {},
     "output_type": "execute_result"
    }
   ],
   "source": [
    "err_dicke_single(\"./data/dicke1_compare_evaluations/rf_2nodes_T1_50_mcwf_9\", 'state_final.dat*')"
   ]
  },
  {
   "cell_type": "code",
   "execution_count": 34,
   "metadata": {},
   "outputs": [
    {
     "data": {
      "image/png": "[encoded data removed]",
      "text/latex": [
       "$$0.0773024441924$$"
      ],
      "text/plain": [
       "0.0773024441924"
      ]
     },
     "execution_count": 34,
     "metadata": {},
     "output_type": "execute_result"
    }
   ],
   "source": [
    "err_dicke_single(\"./data/dicke1_compare_evaluations/rf_2nodes_T1_50_mcwf_10\", 'state_final.dat*')"
   ]
  },
  {
   "cell_type": "code",
   "execution_count": 35,
   "metadata": {},
   "outputs": [
    {
     "data": {
      "image/png": "[encoded data removed]",
      "text/latex": [
       "$$0.0769354453505$$"
      ],
      "text/plain": [
       "0.0769354453505"
      ]
     },
     "execution_count": 35,
     "metadata": {},
     "output_type": "execute_result"
    }
   ],
   "source": [
    "err_dicke_single(\"./data/dicke1_compare_evaluations/rf_2nodes_T1_50_mcwf_11\", 'state_final.dat*')"
   ]
  },
  {
   "cell_type": "code",
   "execution_count": 36,
   "metadata": {},
   "outputs": [
    {
     "data": {
      "image/png": "[encoded data removed]",
      "text/latex": [
       "$$0.0782004200813$$"
      ],
      "text/plain": [
       "0.0782004200813"
      ]
     },
     "execution_count": 36,
     "metadata": {},
     "output_type": "execute_result"
    }
   ],
   "source": [
    "err_dicke_single(\"./data/dicke1_compare_evaluations/rf_2nodes_T1_50_mcwf_12\", 'state_final.dat*')"
   ]
  },
  {
   "cell_type": "code",
   "execution_count": 37,
   "metadata": {},
   "outputs": [
    {
     "data": {
      "image/png": "[encoded data removed]",
      "text/latex": [
       "$$0.0782004200825$$"
      ],
      "text/plain": [
       "0.0782004200825"
      ]
     },
     "execution_count": 37,
     "metadata": {},
     "output_type": "execute_result"
    }
   ],
   "source": [
    "get_err_from_P_target(\"./data/dicke1_compare_evaluations/rf_2nodes_T1_50_mcwf_12\")"
   ]
  },
  {
   "cell_type": "code",
   "execution_count": null,
   "metadata": {
    "collapsed": true
   },
   "outputs": [],
   "source": []
  }
 ],
 "metadata": {
  "kernelspec": {
   "display_name": "default",
   "language": "python",
   "name": "default"
  },
  "language_info": {
   "codemirror_mode": {
    "name": "ipython",
    "version": 3
   },
   "file_extension": ".py",
   "mimetype": "text/x-python",
   "name": "python",
   "nbconvert_exporter": "python",
   "pygments_lexer": "ipython3",
   "version": "3.6.1"
  },
  "toc": {
   "nav_menu": {},
   "number_sections": true,
   "sideBar": true,
   "skip_h1_title": true,
   "toc_cell": false,
   "toc_position": {},
   "toc_section_display": "block",
   "toc_window_display": true
  },
  "varInspector": {
   "cols": {
    "lenName": 16,
    "lenType": 16,
    "lenVar": 40
   },
   "kernels_config": {
    "python": {
     "delete_cmd_postfix": "",
     "delete_cmd_prefix": "del ",
     "library": "var_list.py",
     "varRefreshCmd": "print(var_dic_list())"
    },
    "r": {
     "delete_cmd_postfix": ") ",
     "delete_cmd_prefix": "rm(",
     "library": "var_list.r",
     "varRefreshCmd": "cat(var_dic_list()) "
    }
   },
   "types_to_exclude": [
    "module",
    "function",
    "builtin_function_or_method",
    "instance",
    "_Feature"
   ],
   "window_display": false
  }
 },
 "nbformat": 4,
 "nbformat_minor": 1
}
